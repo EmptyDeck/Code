{
 "cells": [
  {
   "cell_type": "code",
   "execution_count": 2,
   "metadata": {},
   "outputs": [
    {
     "name": "stdout",
     "output_type": "stream",
     "text": [
      "Extracting ._takeout-20231004T023548Z-001.zip...\n",
      "Extracting ._takeout-20231004T023548Z-002.zip...\n",
      "Extracting ._takeout-20231004T023548Z-003.zip...\n",
      "Extracting ._takeout-20231004T023548Z-004.zip...\n",
      "Extracting ._takeout-20231004T023548Z-005.zip...\n",
      "Extracting ._takeout-20231004T023548Z-006.zip...\n",
      "Extracting ._takeout-20231004T023548Z-007.zip...\n",
      "Extracting ._takeout-20231004T023548Z-008.zip...\n",
      "Extracting ._takeout-20231004T023548Z-009.zip...\n",
      "Extracting ._takeout-20231004T023548Z-010.zip...\n",
      "Extracting ._takeout-20231004T023548Z-011.zip...\n",
      "Extracting ._takeout-20231004T023548Z-012.zip...\n",
      "Extracting ._takeout-20231004T023548Z-013.zip...\n",
      "Extracting ._takeout-20231004T023548Z-014.zip...\n",
      "Extracting ._takeout-20231004T023548Z-015.zip...\n",
      "Extracting ._takeout-20231004T023548Z-016.zip...\n",
      "Extracting ._takeout-20231004T023548Z-017.zip...\n",
      "Extracting ._takeout-20231004T023548Z-018.zip...\n",
      "Extracting ._takeout-20231004T023548Z-019.zip...\n",
      "Extracting ._takeout-20231004T023548Z-020.zip...\n",
      "Extracting ._takeout-20231004T023548Z-021.zip...\n",
      "Extracting takeout-20231004T023548Z-001.zip...\n",
      "Extracting takeout-20231004T023548Z-002.zip...\n",
      "Extracting takeout-20231004T023548Z-003.zip...\n",
      "Extracting takeout-20231004T023548Z-004.zip...\n",
      "Extracting takeout-20231004T023548Z-005.zip...\n",
      "Extracting takeout-20231004T023548Z-006.zip...\n",
      "Extracting takeout-20231004T023548Z-007.zip...\n",
      "Extracting takeout-20231004T023548Z-008.zip...\n",
      "Extracting takeout-20231004T023548Z-009.zip...\n",
      "Extracting takeout-20231004T023548Z-010.zip...\n",
      "Extracting takeout-20231004T023548Z-011.zip...\n",
      "Extracting takeout-20231004T023548Z-012.zip...\n",
      "Extracting takeout-20231004T023548Z-013.zip...\n",
      "Extracting takeout-20231004T023548Z-014.zip...\n",
      "Extracting takeout-20231004T023548Z-015.zip...\n",
      "Extracting takeout-20231004T023548Z-016.zip...\n",
      "Extracting takeout-20231004T023548Z-017.zip...\n",
      "Extracting takeout-20231004T023548Z-018.zip...\n",
      "Extracting takeout-20231004T023548Z-019.zip...\n",
      "Extracting takeout-20231004T023548Z-020.zip...\n",
      "Extracting takeout-20231004T023548Z-021.zip...\n"
     ]
    },
    {
     "ename": "KeyboardInterrupt",
     "evalue": "",
     "output_type": "error",
     "traceback": [
      "\u001b[0;31m---------------------------------------------------------------------------\u001b[0m",
      "\u001b[0;31mKeyboardInterrupt\u001b[0m                         Traceback (most recent call last)",
      "\u001b[1;32m/Users/owo/HOUSE/@Code/temp/googlephotozip.ipynb 셀 1\u001b[0m line \u001b[0;36m2\n\u001b[1;32m     <a href='vscode-notebook-cell:/Users/owo/HOUSE/%40Code/temp/googlephotozip.ipynb#W0sZmlsZQ%3D%3D?line=25'>26</a>\u001b[0m \u001b[39mif\u001b[39;00m \u001b[39m__name__\u001b[39m \u001b[39m==\u001b[39m \u001b[39m'\u001b[39m\u001b[39m__main__\u001b[39m\u001b[39m'\u001b[39m:\n\u001b[1;32m     <a href='vscode-notebook-cell:/Users/owo/HOUSE/%40Code/temp/googlephotozip.ipynb#W0sZmlsZQ%3D%3D?line=26'>27</a>\u001b[0m     \u001b[39m# Directory where the .zip files are located\u001b[39;00m\n\u001b[1;32m     <a href='vscode-notebook-cell:/Users/owo/HOUSE/%40Code/temp/googlephotozip.ipynb#W0sZmlsZQ%3D%3D?line=27'>28</a>\u001b[0m     directory_path \u001b[39m=\u001b[39m \u001b[39m'\u001b[39m\u001b[39m/Volumes/FOREVER/1temp/\u001b[39m\u001b[39m'\u001b[39m  \u001b[39m# Current directory; modify this if needed\u001b[39;00m\n\u001b[0;32m---> <a href='vscode-notebook-cell:/Users/owo/HOUSE/%40Code/temp/googlephotozip.ipynb#W0sZmlsZQ%3D%3D?line=28'>29</a>\u001b[0m     unzip_files_in_directory(directory_path)\n",
      "\u001b[1;32m/Users/owo/HOUSE/@Code/temp/googlephotozip.ipynb 셀 1\u001b[0m line \u001b[0;36m2\n\u001b[1;32m     <a href='vscode-notebook-cell:/Users/owo/HOUSE/%40Code/temp/googlephotozip.ipynb#W0sZmlsZQ%3D%3D?line=17'>18</a>\u001b[0m zip_files \u001b[39m=\u001b[39m \u001b[39msorted\u001b[39m([f \u001b[39mfor\u001b[39;00m f \u001b[39min\u001b[39;00m files \u001b[39mif\u001b[39;00m \u001b[39m\"\u001b[39m\u001b[39mtakeout\u001b[39m\u001b[39m\"\u001b[39m \u001b[39min\u001b[39;00m f \u001b[39mand\u001b[39;00m f\u001b[39m.\u001b[39mendswith(\u001b[39m\"\u001b[39m\u001b[39m.zip\u001b[39m\u001b[39m\"\u001b[39m)])\n\u001b[1;32m     <a href='vscode-notebook-cell:/Users/owo/HOUSE/%40Code/temp/googlephotozip.ipynb#W0sZmlsZQ%3D%3D?line=19'>20</a>\u001b[0m \u001b[39m# Use ThreadPoolExecutor for parallel extraction\u001b[39;00m\n\u001b[0;32m---> <a href='vscode-notebook-cell:/Users/owo/HOUSE/%40Code/temp/googlephotozip.ipynb#W0sZmlsZQ%3D%3D?line=20'>21</a>\u001b[0m \u001b[39mwith\u001b[39;00m ThreadPoolExecutor() \u001b[39mas\u001b[39;00m executor:\n\u001b[1;32m     <a href='vscode-notebook-cell:/Users/owo/HOUSE/%40Code/temp/googlephotozip.ipynb#W0sZmlsZQ%3D%3D?line=21'>22</a>\u001b[0m     \u001b[39mfor\u001b[39;00m zip_file \u001b[39min\u001b[39;00m zip_files:\n\u001b[1;32m     <a href='vscode-notebook-cell:/Users/owo/HOUSE/%40Code/temp/googlephotozip.ipynb#W0sZmlsZQ%3D%3D?line=22'>23</a>\u001b[0m         \u001b[39mprint\u001b[39m(\u001b[39mf\u001b[39m\u001b[39m\"\u001b[39m\u001b[39mExtracting \u001b[39m\u001b[39m{\u001b[39;00mzip_file\u001b[39m}\u001b[39;00m\u001b[39m...\u001b[39m\u001b[39m\"\u001b[39m)\n",
      "File \u001b[0;32m~/anaconda3/envs/torchenv/lib/python3.11/concurrent/futures/_base.py:647\u001b[0m, in \u001b[0;36mExecutor.__exit__\u001b[0;34m(self, exc_type, exc_val, exc_tb)\u001b[0m\n\u001b[1;32m    646\u001b[0m \u001b[39mdef\u001b[39;00m \u001b[39m__exit__\u001b[39m(\u001b[39mself\u001b[39m, exc_type, exc_val, exc_tb):\n\u001b[0;32m--> 647\u001b[0m     \u001b[39mself\u001b[39m\u001b[39m.\u001b[39mshutdown(wait\u001b[39m=\u001b[39m\u001b[39mTrue\u001b[39;00m)\n\u001b[1;32m    648\u001b[0m     \u001b[39mreturn\u001b[39;00m \u001b[39mFalse\u001b[39;00m\n",
      "File \u001b[0;32m~/anaconda3/envs/torchenv/lib/python3.11/concurrent/futures/thread.py:235\u001b[0m, in \u001b[0;36mThreadPoolExecutor.shutdown\u001b[0;34m(self, wait, cancel_futures)\u001b[0m\n\u001b[1;32m    233\u001b[0m \u001b[39mif\u001b[39;00m wait:\n\u001b[1;32m    234\u001b[0m     \u001b[39mfor\u001b[39;00m t \u001b[39min\u001b[39;00m \u001b[39mself\u001b[39m\u001b[39m.\u001b[39m_threads:\n\u001b[0;32m--> 235\u001b[0m         t\u001b[39m.\u001b[39mjoin()\n",
      "File \u001b[0;32m~/anaconda3/envs/torchenv/lib/python3.11/threading.py:1112\u001b[0m, in \u001b[0;36mThread.join\u001b[0;34m(self, timeout)\u001b[0m\n\u001b[1;32m   1109\u001b[0m     \u001b[39mraise\u001b[39;00m \u001b[39mRuntimeError\u001b[39;00m(\u001b[39m\"\u001b[39m\u001b[39mcannot join current thread\u001b[39m\u001b[39m\"\u001b[39m)\n\u001b[1;32m   1111\u001b[0m \u001b[39mif\u001b[39;00m timeout \u001b[39mis\u001b[39;00m \u001b[39mNone\u001b[39;00m:\n\u001b[0;32m-> 1112\u001b[0m     \u001b[39mself\u001b[39m\u001b[39m.\u001b[39m_wait_for_tstate_lock()\n\u001b[1;32m   1113\u001b[0m \u001b[39melse\u001b[39;00m:\n\u001b[1;32m   1114\u001b[0m     \u001b[39m# the behavior of a negative timeout isn't documented, but\u001b[39;00m\n\u001b[1;32m   1115\u001b[0m     \u001b[39m# historically .join(timeout=x) for x<0 has acted as if timeout=0\u001b[39;00m\n\u001b[1;32m   1116\u001b[0m     \u001b[39mself\u001b[39m\u001b[39m.\u001b[39m_wait_for_tstate_lock(timeout\u001b[39m=\u001b[39m\u001b[39mmax\u001b[39m(timeout, \u001b[39m0\u001b[39m))\n",
      "File \u001b[0;32m~/anaconda3/envs/torchenv/lib/python3.11/threading.py:1132\u001b[0m, in \u001b[0;36mThread._wait_for_tstate_lock\u001b[0;34m(self, block, timeout)\u001b[0m\n\u001b[1;32m   1129\u001b[0m     \u001b[39mreturn\u001b[39;00m\n\u001b[1;32m   1131\u001b[0m \u001b[39mtry\u001b[39;00m:\n\u001b[0;32m-> 1132\u001b[0m     \u001b[39mif\u001b[39;00m lock\u001b[39m.\u001b[39macquire(block, timeout):\n\u001b[1;32m   1133\u001b[0m         lock\u001b[39m.\u001b[39mrelease()\n\u001b[1;32m   1134\u001b[0m         \u001b[39mself\u001b[39m\u001b[39m.\u001b[39m_stop()\n",
      "\u001b[0;31mKeyboardInterrupt\u001b[0m: "
     ]
    }
   ],
   "source": [
    "import os\n",
    "import zipfile\n",
    "from concurrent.futures import ThreadPoolExecutor\n",
    "\n",
    "def unzip_file(zip_path, extract_to):\n",
    "    with zipfile.ZipFile(zip_path, 'r') as zip_ref:\n",
    "        # Create a unique directory for each ZIP file based on its name\n",
    "        unique_dir = os.path.join(extract_to, os.path.splitext(os.path.basename(zip_path))[0])\n",
    "        os.makedirs(unique_dir, exist_ok=True)\n",
    "        \n",
    "        zip_ref.extractall(unique_dir)\n",
    "\n",
    "def unzip_files_in_directory(directory):\n",
    "    # List all files in the directory\n",
    "    files = os.listdir(directory)\n",
    "\n",
    "    # Filter out files that match the desired pattern and sort them\n",
    "    zip_files = sorted([f for f in files if \"takeout\" in f and f.endswith(\".zip\")])\n",
    "\n",
    "    # Use ThreadPoolExecutor for parallel extraction\n",
    "    with ThreadPoolExecutor() as executor:\n",
    "        for zip_file in zip_files:\n",
    "            print(f\"Extracting {zip_file}...\")\n",
    "            executor.submit(unzip_file, os.path.join(directory, zip_file), directory)\n",
    "\n",
    "if __name__ == '__main__':\n",
    "    # Directory where the .zip files are located\n",
    "    directory_path = '/Volumes/FOREVER/1temp/'  # Current directory; modify this if needed\n",
    "    unzip_files_in_directory(directory_path)\n"
   ]
  }
 ],
 "metadata": {
  "kernelspec": {
   "display_name": "torchenv",
   "language": "python",
   "name": "python3"
  },
  "language_info": {
   "codemirror_mode": {
    "name": "ipython",
    "version": 3
   },
   "file_extension": ".py",
   "mimetype": "text/x-python",
   "name": "python",
   "nbconvert_exporter": "python",
   "pygments_lexer": "ipython3",
   "version": "3.11.4"
  }
 },
 "nbformat": 4,
 "nbformat_minor": 2
}

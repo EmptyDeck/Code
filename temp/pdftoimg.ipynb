{
 "cells": [
  {
   "cell_type": "code",
   "execution_count": 1,
   "metadata": {},
   "outputs": [
    {
     "name": "stdout",
     "output_type": "stream",
     "text": [
      "Collecting pdf2image\n",
      "  Downloading pdf2image-1.16.3-py3-none-any.whl (11 kB)\n",
      "Requirement already satisfied: pillow in /Users/owo/anaconda3/envs/torchenv/lib/python3.11/site-packages (from pdf2image) (9.4.0)\n",
      "Installing collected packages: pdf2image\n",
      "Successfully installed pdf2image-1.16.3\n"
     ]
    }
   ],
   "source": [
    "!pip install pdf2image"
   ]
  },
  {
   "cell_type": "code",
   "execution_count": 3,
   "metadata": {},
   "outputs": [
    {
     "ename": "PDFPageCountError",
     "evalue": "Unable to get page count.\nSyntax Warning: May not be a PDF file (continuing anyway)\nSyntax Error: Couldn't find trailer dictionary\nSyntax Error: Couldn't find trailer dictionary\nSyntax Error: Couldn't read xref table\n",
     "output_type": "error",
     "traceback": [
      "\u001b[0;31m---------------------------------------------------------------------------\u001b[0m",
      "\u001b[0;31mValueError\u001b[0m                                Traceback (most recent call last)",
      "File \u001b[0;32m~/anaconda3/envs/torchenv/lib/python3.11/site-packages/pdf2image/pdf2image.py:589\u001b[0m, in \u001b[0;36mpdfinfo_from_path\u001b[0;34m(pdf_path, userpw, ownerpw, poppler_path, rawdates, timeout)\u001b[0m\n\u001b[1;32m    588\u001b[0m \u001b[39mif\u001b[39;00m \u001b[39m\"\u001b[39m\u001b[39mPages\u001b[39m\u001b[39m\"\u001b[39m \u001b[39mnot\u001b[39;00m \u001b[39min\u001b[39;00m d:\n\u001b[0;32m--> 589\u001b[0m     \u001b[39mraise\u001b[39;00m \u001b[39mValueError\u001b[39;00m\n\u001b[1;32m    591\u001b[0m \u001b[39mreturn\u001b[39;00m d\n",
      "\u001b[0;31mValueError\u001b[0m: ",
      "\nDuring handling of the above exception, another exception occurred:\n",
      "\u001b[0;31mPDFPageCountError\u001b[0m                         Traceback (most recent call last)",
      "\u001b[1;32m/Users/owo/HOUSE/@Code/temp/pdftoimg.ipynb 셀 2\u001b[0m line \u001b[0;36m1\n\u001b[1;32m     <a href='vscode-notebook-cell:/Users/owo/HOUSE/%40Code/temp/pdftoimg.ipynb#W1sZmlsZQ%3D%3D?line=13'>14</a>\u001b[0m \u001b[39m# Usage example:\u001b[39;00m\n\u001b[1;32m     <a href='vscode-notebook-cell:/Users/owo/HOUSE/%40Code/temp/pdftoimg.ipynb#W1sZmlsZQ%3D%3D?line=14'>15</a>\u001b[0m pdf_path \u001b[39m=\u001b[39m \u001b[39m'\u001b[39m\u001b[39m/Users/owo/HOUSE/@STUDY/Sadiku 전자기학 한글 ppt\u001b[39m\u001b[39m'\u001b[39m\n\u001b[0;32m---> <a href='vscode-notebook-cell:/Users/owo/HOUSE/%40Code/temp/pdftoimg.ipynb#W1sZmlsZQ%3D%3D?line=15'>16</a>\u001b[0m convert_pdf_to_images(pdf_path, output_format\u001b[39m=\u001b[39m\u001b[39m'\u001b[39m\u001b[39mPNG\u001b[39m\u001b[39m'\u001b[39m, quality\u001b[39m=\u001b[39m\u001b[39m100\u001b[39m)\n",
      "\u001b[1;32m/Users/owo/HOUSE/@Code/temp/pdftoimg.ipynb 셀 2\u001b[0m line \u001b[0;36m6\n\u001b[1;32m      <a href='vscode-notebook-cell:/Users/owo/HOUSE/%40Code/temp/pdftoimg.ipynb#W1sZmlsZQ%3D%3D?line=3'>4</a>\u001b[0m \u001b[39mdef\u001b[39;00m \u001b[39mconvert_pdf_to_images\u001b[39m(pdf_path, output_format\u001b[39m=\u001b[39m\u001b[39m'\u001b[39m\u001b[39mPNG\u001b[39m\u001b[39m'\u001b[39m, quality\u001b[39m=\u001b[39m\u001b[39m100\u001b[39m):\n\u001b[1;32m      <a href='vscode-notebook-cell:/Users/owo/HOUSE/%40Code/temp/pdftoimg.ipynb#W1sZmlsZQ%3D%3D?line=4'>5</a>\u001b[0m     \u001b[39m# Convert PDF to images\u001b[39;00m\n\u001b[0;32m----> <a href='vscode-notebook-cell:/Users/owo/HOUSE/%40Code/temp/pdftoimg.ipynb#W1sZmlsZQ%3D%3D?line=5'>6</a>\u001b[0m     images \u001b[39m=\u001b[39m convert_from_path(pdf_path)\n\u001b[1;32m      <a href='vscode-notebook-cell:/Users/owo/HOUSE/%40Code/temp/pdftoimg.ipynb#W1sZmlsZQ%3D%3D?line=7'>8</a>\u001b[0m     \u001b[39m# Display a progress bar using tqdm\u001b[39;00m\n\u001b[1;32m      <a href='vscode-notebook-cell:/Users/owo/HOUSE/%40Code/temp/pdftoimg.ipynb#W1sZmlsZQ%3D%3D?line=8'>9</a>\u001b[0m     \u001b[39mfor\u001b[39;00m i, image \u001b[39min\u001b[39;00m tqdm(\u001b[39menumerate\u001b[39m(images), total\u001b[39m=\u001b[39m\u001b[39mlen\u001b[39m(images), desc\u001b[39m=\u001b[39m\u001b[39m\"\u001b[39m\u001b[39mConverting PDF to images\u001b[39m\u001b[39m\"\u001b[39m):\n",
      "File \u001b[0;32m~/anaconda3/envs/torchenv/lib/python3.11/site-packages/pdf2image/pdf2image.py:127\u001b[0m, in \u001b[0;36mconvert_from_path\u001b[0;34m(pdf_path, dpi, output_folder, first_page, last_page, fmt, jpegopt, thread_count, userpw, ownerpw, use_cropbox, strict, transparent, single_file, output_file, poppler_path, grayscale, size, paths_only, use_pdftocairo, timeout, hide_annotations)\u001b[0m\n\u001b[1;32m    124\u001b[0m \u001b[39mif\u001b[39;00m \u001b[39misinstance\u001b[39m(poppler_path, PurePath):\n\u001b[1;32m    125\u001b[0m     poppler_path \u001b[39m=\u001b[39m poppler_path\u001b[39m.\u001b[39mas_posix()\n\u001b[0;32m--> 127\u001b[0m page_count \u001b[39m=\u001b[39m pdfinfo_from_path(\n\u001b[1;32m    128\u001b[0m     pdf_path, userpw, ownerpw, poppler_path\u001b[39m=\u001b[39mpoppler_path\n\u001b[1;32m    129\u001b[0m )[\u001b[39m\"\u001b[39m\u001b[39mPages\u001b[39m\u001b[39m\"\u001b[39m]\n\u001b[1;32m    131\u001b[0m \u001b[39m# We start by getting the output format, the buffer processing function and if we need pdftocairo\u001b[39;00m\n\u001b[1;32m    132\u001b[0m parsed_fmt, final_extension, parse_buffer_func, use_pdfcairo_format \u001b[39m=\u001b[39m _parse_format(\n\u001b[1;32m    133\u001b[0m     fmt, grayscale\n\u001b[1;32m    134\u001b[0m )\n",
      "File \u001b[0;32m~/anaconda3/envs/torchenv/lib/python3.11/site-packages/pdf2image/pdf2image.py:598\u001b[0m, in \u001b[0;36mpdfinfo_from_path\u001b[0;34m(pdf_path, userpw, ownerpw, poppler_path, rawdates, timeout)\u001b[0m\n\u001b[1;32m    594\u001b[0m     \u001b[39mraise\u001b[39;00m PDFInfoNotInstalledError(\n\u001b[1;32m    595\u001b[0m         \u001b[39m\"\u001b[39m\u001b[39mUnable to get page count. Is poppler installed and in PATH?\u001b[39m\u001b[39m\"\u001b[39m\n\u001b[1;32m    596\u001b[0m     )\n\u001b[1;32m    597\u001b[0m \u001b[39mexcept\u001b[39;00m \u001b[39mValueError\u001b[39;00m:\n\u001b[0;32m--> 598\u001b[0m     \u001b[39mraise\u001b[39;00m PDFPageCountError(\n\u001b[1;32m    599\u001b[0m         \u001b[39mf\u001b[39m\u001b[39m\"\u001b[39m\u001b[39mUnable to get page count.\u001b[39m\u001b[39m\\n\u001b[39;00m\u001b[39m{\u001b[39;00merr\u001b[39m.\u001b[39mdecode(\u001b[39m'\u001b[39m\u001b[39mutf8\u001b[39m\u001b[39m'\u001b[39m,\u001b[39m \u001b[39m\u001b[39m'\u001b[39m\u001b[39mignore\u001b[39m\u001b[39m'\u001b[39m)\u001b[39m}\u001b[39;00m\u001b[39m\"\u001b[39m\n\u001b[1;32m    600\u001b[0m     )\n",
      "\u001b[0;31mPDFPageCountError\u001b[0m: Unable to get page count.\nSyntax Warning: May not be a PDF file (continuing anyway)\nSyntax Error: Couldn't find trailer dictionary\nSyntax Error: Couldn't find trailer dictionary\nSyntax Error: Couldn't read xref table\n"
     ]
    }
   ],
   "source": [
    "from pdf2image import convert_from_path\n",
    "from tqdm import tqdm\n",
    "\n",
    "def convert_pdf_to_images(pdf_path, output_format='PNG', quality=100):\n",
    "    # Convert PDF to images\n",
    "    images = convert_from_path(pdf_path)\n",
    "\n",
    "    # Display a progress bar using tqdm\n",
    "    for i, image in tqdm(enumerate(images), total=len(images), desc=\"Converting PDF to images\"):\n",
    "        if output_format in ['JPEG', 'JPG']:\n",
    "            image = image.convert(\"RGB\")\n",
    "        image.save(f'output_page_{i}.{output_format.lower()}', output_format.upper(), quality=quality)\n",
    "\n",
    "# Usage example:\n",
    "pdf_path = '/Users/owo/HOUSE/@STUDY/Sadiku 전자기학 한글 ppt'\n",
    "convert_pdf_to_images(pdf_path, output_format='PNG', quality=100)\n"
   ]
  }
 ],
 "metadata": {
  "kernelspec": {
   "display_name": "yolo5",
   "language": "python",
   "name": "python3"
  },
  "language_info": {
   "codemirror_mode": {
    "name": "ipython",
    "version": 3
   },
   "file_extension": ".py",
   "mimetype": "text/x-python",
   "name": "python",
   "nbconvert_exporter": "python",
   "pygments_lexer": "ipython3",
   "version": "3.11.4"
  }
 },
 "nbformat": 4,
 "nbformat_minor": 2
}

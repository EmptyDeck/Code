{
 "cells": [
  {
   "cell_type": "code",
   "execution_count": null,
   "metadata": {},
   "outputs": [],
   "source": []
  },
  {
   "cell_type": "code",
   "execution_count": 99,
   "metadata": {},
   "outputs": [
    {
     "name": "stdout",
     "output_type": "stream",
     "text": [
      "at1\n",
      "rate 1 / 7\n",
      "at2\n",
      "rate 3 / 6\n",
      "at3\n",
      "rate 2 / 3\n",
      "at4\n",
      "rate 1 / 1\n"
     ]
    },
    {
     "data": {
      "text/plain": [
       "[4, 3, 2, 1]"
      ]
     },
     "execution_count": 99,
     "metadata": {},
     "output_type": "execute_result"
    }
   ],
   "source": [
    "lis = stages\n",
    "bottom = 0\n",
    "stage = [0]\n",
    "answer = []\n",
    "n  = N\n",
    "for i in range(1 , n):\n",
    "    print(\"at\",end=\"\")\n",
    "    print(i)\n",
    "    for k in range(i + 1 , n+1):\n",
    "        bottom = lis.count(k) + bottom\n",
    "        #print(\"add\")\n",
    "        #print(bottom)\n",
    "    #print(\"its\",bottom)\n",
    "    print(\"rate\",lis.count(i),\"/\",bottom + lis.count(i))\n",
    "    rate = lis.count(i)/(bottom + lis.count(i))\n",
    "    stage.append(0)\n",
    "    stage[i] = (i,rate)\n",
    "    bottom = 0\n",
    "\n",
    "stage.pop(0)\n",
    "stage.sort(key=lambda x:(-x[1],x[0]))\n",
    "for i in range(len(stage)):\n",
    "    answer.append(stage[i][0])\n",
    "answer"
   ]
  },
  {
   "cell_type": "code",
   "execution_count": 100,
   "metadata": {},
   "outputs": [],
   "source": [
    "def solution(N, stages):\n",
    "    lis = stages\n",
    "    bottom = 0\n",
    "    stage = [0]\n",
    "    answer = []\n",
    "    n  = N + 1\n",
    "    for i in range(1 , n):\n",
    "        for k in range(i + 1 , n+1):\n",
    "            bottom = lis.count(k) + bottom\n",
    "        rate = lis.count(i)/(bottom + lis.count(i))\n",
    "        stage.append(0)\n",
    "        stage[i] = (i,rate)\n",
    "        bottom = 0\n",
    "\n",
    "    stage.pop(0)\n",
    "    stage.sort(key=lambda x:(-x[1],x[0]))\n",
    "    for i in range(len(stage)):\n",
    "        answer.append(stage[i][0])\n",
    "    return answer\n"
   ]
  },
  {
   "cell_type": "code",
   "execution_count": 102,
   "metadata": {},
   "outputs": [
    {
     "data": {
      "text/plain": [
       "[4, 1, 2, 3]"
      ]
     },
     "execution_count": 102,
     "metadata": {},
     "output_type": "execute_result"
    }
   ],
   "source": [
    "N = 4\n",
    "stages = [4,4,4,4,4]\t\n",
    "solution(N, stages)"
   ]
  },
  {
   "cell_type": "code",
   "execution_count": 6,
   "metadata": {},
   "outputs": [
    {
     "data": {
      "text/plain": [
       "8"
      ]
     },
     "execution_count": 6,
     "metadata": {},
     "output_type": "execute_result"
    }
   ],
   "source": [
    "def solution(n):\n",
    "    num1 = 0\n",
    "    num2 = 1\n",
    "    num3 = 0\n",
    "    for i in range(n):\n",
    "        num3 = num1 + num2\n",
    "        num1 = num2\n",
    "        num2 = num3\n",
    "    return num3\n",
    "solution(5)"
   ]
  },
  {
   "cell_type": "code",
   "execution_count": 13,
   "metadata": {},
   "outputs": [
    {
     "data": {
      "text/plain": [
       "100"
      ]
     },
     "execution_count": 13,
     "metadata": {},
     "output_type": "execute_result"
    }
   ],
   "source": [
    "10**2"
   ]
  },
  {
   "cell_type": "code",
   "execution_count": 75,
   "metadata": {},
   "outputs": [
    {
     "name": "stdout",
     "output_type": "stream",
     "text": [
      "the 0 300\n",
      "the 1 320\n",
      "the 2 321\n",
      "321\n",
      "['3', '2', '1']\n",
      "[['0', '0', '0'], ['0', '0', '1'], ['0', '0', '2'], ['0', '0', '3'], ['0', '0', '4'], ['0', '0', '5'], ['0', '0', '6'], ['0', '0', '7'], ['0', '0', '8'], ['0', '0', '9'], ['0', '1', '0'], ['0', '1', '1'], ['0', '1', '2'], ['0', '1', '3'], ['0', '1', '4'], ['0', '1', '5'], ['0', '1', '6'], ['0', '1', '7'], ['0', '1', '8'], ['0', '1', '9'], ['0', '2', '0'], ['0', '2', '1'], ['0', '2', '2'], ['0', '2', '3'], ['0', '2', '4'], ['0', '2', '5'], ['0', '2', '6'], ['0', '2', '7'], ['0', '2', '8'], ['0', '2', '9'], ['0', '3', '0'], ['0', '3', '1'], ['0', '3', '2'], ['0', '3', '3'], ['0', '3', '4'], ['0', '3', '5'], ['0', '3', '6'], ['0', '3', '7'], ['0', '3', '8'], ['0', '3', '9'], ['0', '4', '0'], ['0', '4', '1'], ['0', '4', '2'], ['0', '4', '3'], ['0', '4', '4'], ['0', '4', '5'], ['0', '4', '6'], ['0', '4', '7'], ['0', '4', '8'], ['0', '4', '9'], ['0', '5', '0'], ['0', '5', '1'], ['0', '5', '2'], ['0', '5', '3'], ['0', '5', '4'], ['0', '5', '5'], ['0', '5', '6'], ['0', '5', '7'], ['0', '5', '8'], ['0', '5', '9'], ['0', '6', '0'], ['0', '6', '1'], ['0', '6', '2'], ['0', '6', '3'], ['0', '6', '4'], ['0', '6', '5'], ['0', '6', '6'], ['0', '6', '7'], ['0', '6', '8'], ['0', '6', '9'], ['0', '7', '0'], ['0', '7', '1'], ['0', '7', '2'], ['0', '7', '3'], ['0', '7', '4'], ['0', '7', '5'], ['0', '7', '6'], ['0', '7', '7'], ['0', '7', '8'], ['0', '7', '9'], ['0', '8', '0'], ['0', '8', '1'], ['0', '8', '2'], ['0', '8', '3'], ['0', '8', '4'], ['0', '8', '5'], ['0', '8', '6'], ['0', '8', '7'], ['0', '8', '8'], ['0', '8', '9'], ['0', '9', '0'], ['0', '9', '1'], ['0', '9', '2'], ['0', '9', '3'], ['0', '9', '4'], ['0', '9', '5'], ['0', '9', '6'], ['0', '9', '7'], ['0', '9', '8'], ['0', '9', '9'], ['1', '0', '0'], ['1', '0', '1'], ['1', '0', '2'], ['1', '0', '3'], ['1', '0', '4'], ['1', '0', '5'], ['1', '0', '6'], ['1', '0', '7'], ['1', '0', '8'], ['1', '0', '9'], ['1', '1', '0'], ['1', '1', '1'], ['1', '1', '2'], ['1', '1', '3'], ['1', '1', '4'], ['1', '1', '5'], ['1', '1', '6'], ['1', '1', '7'], ['1', '1', '8'], ['1', '1', '9'], ['1', '2', '0'], ['1', '2', '1'], ['1', '2', '2'], ['1', '2', '3'], ['1', '2', '4'], ['1', '2', '5'], ['1', '2', '6'], ['1', '2', '7'], ['1', '2', '8'], ['1', '2', '9'], ['1', '3', '0'], ['1', '3', '1'], ['1', '3', '2'], ['1', '3', '3'], ['1', '3', '4'], ['1', '3', '5'], ['1', '3', '6'], ['1', '3', '7'], ['1', '3', '8'], ['1', '3', '9'], ['1', '4', '0'], ['1', '4', '1'], ['1', '4', '2'], ['1', '4', '3'], ['1', '4', '4'], ['1', '4', '5'], ['1', '4', '6'], ['1', '4', '7'], ['1', '4', '8'], ['1', '4', '9'], ['1', '5', '0'], ['1', '5', '1'], ['1', '5', '2'], ['1', '5', '3'], ['1', '5', '4'], ['1', '5', '5'], ['1', '5', '6'], ['1', '5', '7'], ['1', '5', '8'], ['1', '5', '9'], ['1', '6', '0'], ['1', '6', '1'], ['1', '6', '2'], ['1', '6', '3'], ['1', '6', '4'], ['1', '6', '5'], ['1', '6', '6'], ['1', '6', '7'], ['1', '6', '8'], ['1', '6', '9'], ['1', '7', '0'], ['1', '7', '1'], ['1', '7', '2'], ['1', '7', '3'], ['1', '7', '4'], ['1', '7', '5'], ['1', '7', '6'], ['1', '7', '7'], ['1', '7', '8'], ['1', '7', '9'], ['1', '8', '0'], ['1', '8', '1'], ['1', '8', '2'], ['1', '8', '3'], ['1', '8', '4'], ['1', '8', '5'], ['1', '8', '6'], ['1', '8', '7'], ['1', '8', '8'], ['1', '8', '9'], ['1', '9', '0'], ['1', '9', '1'], ['1', '9', '2'], ['1', '9', '3'], ['1', '9', '4'], ['1', '9', '5'], ['1', '9', '6'], ['1', '9', '7'], ['1', '9', '8'], ['1', '9', '9'], ['2', '0', '0'], ['2', '0', '1'], ['2', '0', '2'], ['2', '0', '3'], ['2', '0', '4'], ['2', '0', '5'], ['2', '0', '6'], ['2', '0', '7'], ['2', '0', '8'], ['2', '0', '9'], ['2', '1', '0'], ['2', '1', '1'], ['2', '1', '2'], ['2', '1', '3'], ['2', '1', '4'], ['2', '1', '5'], ['2', '1', '6'], ['2', '1', '7'], ['2', '1', '8'], ['2', '1', '9'], ['2', '2', '0'], ['2', '2', '1'], ['2', '2', '2'], ['2', '2', '3'], ['2', '2', '4'], ['2', '2', '5'], ['2', '2', '6'], ['2', '2', '7'], ['2', '2', '8'], ['2', '2', '9'], ['2', '3', '0'], ['2', '3', '1'], ['2', '3', '2'], ['2', '3', '3'], ['2', '3', '4'], ['2', '3', '5'], ['2', '3', '6'], ['2', '3', '7'], ['2', '3', '8'], ['2', '3', '9'], ['2', '4', '0'], ['2', '4', '1'], ['2', '4', '2'], ['2', '4', '3'], ['2', '4', '4'], ['2', '4', '5'], ['2', '4', '6'], ['2', '4', '7'], ['2', '4', '8'], ['2', '4', '9'], ['2', '5', '0'], ['2', '5', '1'], ['2', '5', '2'], ['2', '5', '3'], ['2', '5', '4'], ['2', '5', '5'], ['2', '5', '6'], ['2', '5', '7'], ['2', '5', '8'], ['2', '5', '9'], ['2', '6', '0'], ['2', '6', '1'], ['2', '6', '2'], ['2', '6', '3'], ['2', '6', '4'], ['2', '6', '5'], ['2', '6', '6'], ['2', '6', '7'], ['2', '6', '8'], ['2', '6', '9'], ['2', '7', '0'], ['2', '7', '1'], ['2', '7', '2'], ['2', '7', '3'], ['2', '7', '4'], ['2', '7', '5'], ['2', '7', '6'], ['2', '7', '7'], ['2', '7', '8'], ['2', '7', '9'], ['2', '8', '0'], ['2', '8', '1'], ['2', '8', '2'], ['2', '8', '3'], ['2', '8', '4'], ['2', '8', '5'], ['2', '8', '6'], ['2', '8', '7'], ['2', '8', '8'], ['2', '8', '9'], ['2', '9', '0'], ['2', '9', '1'], ['2', '9', '2'], ['2', '9', '3'], ['2', '9', '4'], ['2', '9', '5'], ['2', '9', '6'], ['2', '9', '7'], ['2', '9', '8'], ['2', '9', '9'], ['3', '0', '0'], ['3', '0', '1'], ['3', '0', '2'], ['3', '0', '3'], ['3', '0', '4'], ['3', '0', '5'], ['3', '0', '6'], ['3', '0', '7'], ['3', '0', '8'], ['3', '0', '9'], ['3', '1', '0'], ['3', '1', '1'], ['3', '1', '2'], ['3', '1', '3'], ['3', '1', '4'], ['3', '1', '5'], ['3', '1', '6'], ['3', '1', '7'], ['3', '1', '8'], ['3', '1', '9'], ['3', '2', '0']]\n"
     ]
    }
   ],
   "source": [
    "n = 3\n",
    "last = 0\n",
    "for i in range(n):\n",
    "    last = (n-i) * (10 ** (n-1-i)) + last\n",
    "    print(\"the\",i,last)\n",
    "print(last)\n",
    "print(list(str(last)))\n",
    "numbers = []\n",
    "\n",
    "for i in range(last): #0~321 #same number remove\n",
    "    numbers.append(list(str(('{0:03d}'.format(i)))))\n",
    "\n",
    "\n",
    "\n",
    "print(numbers)\n"
   ]
  },
  {
   "cell_type": "code",
   "execution_count": 44,
   "metadata": {},
   "outputs": [
    {
     "name": "stdout",
     "output_type": "stream",
     "text": [
      "0\n",
      "1\n",
      "2\n",
      "3\n",
      "4\n",
      "5\n",
      "6\n",
      "7\n",
      "8\n",
      "9\n",
      "10\n",
      "11\n",
      "12\n",
      "13\n",
      "14\n",
      "15\n",
      "16\n",
      "17\n",
      "18\n",
      "19\n",
      "20\n",
      "21\n",
      "22\n",
      "23\n",
      "24\n",
      "25\n",
      "26\n",
      "27\n",
      "28\n",
      "29\n",
      "30\n",
      "31\n",
      "32\n",
      "33\n",
      "34\n",
      "35\n",
      "36\n",
      "37\n",
      "38\n",
      "39\n",
      "40\n",
      "41\n",
      "42\n",
      "43\n",
      "44\n",
      "45\n",
      "46\n",
      "47\n",
      "48\n",
      "49\n",
      "50\n",
      "51\n",
      "52\n",
      "53\n",
      "54\n",
      "55\n",
      "56\n",
      "57\n",
      "58\n",
      "59\n",
      "60\n",
      "61\n",
      "62\n",
      "63\n",
      "64\n",
      "65\n",
      "66\n",
      "67\n",
      "68\n",
      "69\n",
      "70\n",
      "71\n",
      "72\n",
      "73\n",
      "74\n",
      "75\n",
      "76\n",
      "77\n",
      "78\n",
      "79\n",
      "80\n",
      "81\n",
      "82\n",
      "83\n",
      "84\n",
      "85\n",
      "86\n",
      "87\n",
      "88\n",
      "89\n",
      "90\n",
      "91\n",
      "92\n",
      "93\n",
      "94\n",
      "95\n",
      "96\n",
      "97\n",
      "98\n",
      "99\n",
      "100\n",
      "101\n",
      "102\n",
      "103\n",
      "104\n",
      "105\n",
      "106\n",
      "107\n",
      "108\n",
      "109\n",
      "110\n",
      "111\n",
      "112\n",
      "113\n",
      "114\n",
      "115\n",
      "116\n",
      "117\n",
      "118\n",
      "119\n",
      "120\n",
      "121\n",
      "122\n",
      "123\n",
      "124\n",
      "125\n",
      "126\n",
      "127\n",
      "128\n",
      "129\n",
      "130\n",
      "131\n",
      "132\n",
      "133\n",
      "134\n",
      "135\n",
      "136\n",
      "137\n",
      "138\n",
      "139\n",
      "140\n",
      "141\n",
      "142\n",
      "143\n",
      "144\n",
      "145\n",
      "146\n",
      "147\n",
      "148\n",
      "149\n",
      "150\n",
      "151\n",
      "152\n",
      "153\n",
      "154\n",
      "155\n",
      "156\n",
      "157\n",
      "158\n",
      "159\n",
      "160\n",
      "161\n",
      "162\n",
      "163\n",
      "164\n",
      "165\n",
      "166\n",
      "167\n",
      "168\n",
      "169\n",
      "170\n",
      "171\n",
      "172\n",
      "173\n",
      "174\n",
      "175\n",
      "176\n",
      "177\n",
      "178\n",
      "179\n",
      "180\n",
      "181\n",
      "182\n",
      "183\n",
      "184\n",
      "185\n",
      "186\n",
      "187\n",
      "188\n",
      "189\n",
      "190\n",
      "191\n",
      "192\n",
      "193\n",
      "194\n",
      "195\n",
      "196\n",
      "197\n",
      "198\n",
      "199\n",
      "200\n",
      "201\n",
      "202\n",
      "203\n",
      "204\n",
      "205\n",
      "206\n",
      "207\n",
      "208\n",
      "209\n",
      "210\n",
      "211\n",
      "212\n",
      "213\n",
      "214\n",
      "215\n",
      "216\n",
      "217\n",
      "218\n",
      "219\n",
      "220\n",
      "221\n",
      "222\n",
      "223\n",
      "224\n",
      "225\n",
      "226\n",
      "227\n",
      "228\n",
      "229\n",
      "230\n",
      "231\n",
      "232\n",
      "233\n"
     ]
    },
    {
     "ename": "IndexError",
     "evalue": "list index out of range",
     "output_type": "error",
     "traceback": [
      "\u001b[0;31m---------------------------------------------------------------------------\u001b[0m",
      "\u001b[0;31mIndexError\u001b[0m                                Traceback (most recent call last)",
      "\u001b[1;32m/Users/owo/HOUSE/@Code/temp/code.ipynb 셀 8\u001b[0m line \u001b[0;36m6\n\u001b[1;32m      <a href='vscode-notebook-cell:/Users/owo/HOUSE/%40Code/temp/code.ipynb#X12sZmlsZQ%3D%3D?line=3'>4</a>\u001b[0m \u001b[39mfor\u001b[39;00m i \u001b[39min\u001b[39;00m \u001b[39mrange\u001b[39m(last):\n\u001b[1;32m      <a href='vscode-notebook-cell:/Users/owo/HOUSE/%40Code/temp/code.ipynb#X12sZmlsZQ%3D%3D?line=4'>5</a>\u001b[0m     \u001b[39mprint\u001b[39m(i)\n\u001b[0;32m----> <a href='vscode-notebook-cell:/Users/owo/HOUSE/%40Code/temp/code.ipynb#X12sZmlsZQ%3D%3D?line=5'>6</a>\u001b[0m     \u001b[39mif\u001b[39;00m \u001b[39m0\u001b[39m \u001b[39mor\u001b[39;00m \u001b[39m9\u001b[39m \u001b[39min\u001b[39;00m numbers[i]:\n\u001b[1;32m      <a href='vscode-notebook-cell:/Users/owo/HOUSE/%40Code/temp/code.ipynb#X12sZmlsZQ%3D%3D?line=6'>7</a>\u001b[0m         numbers\u001b[39m.\u001b[39mremove(numbers[i])\n\u001b[1;32m      <a href='vscode-notebook-cell:/Users/owo/HOUSE/%40Code/temp/code.ipynb#X12sZmlsZQ%3D%3D?line=7'>8</a>\u001b[0m     \u001b[39mfor\u001b[39;00m k \u001b[39min\u001b[39;00m \u001b[39mrange\u001b[39m(\u001b[39m0\u001b[39m,\u001b[39m10\u001b[39m):\n",
      "\u001b[0;31mIndexError\u001b[0m: list index out of range"
     ]
    }
   ],
   "source": [
    "numbers[0].count(str(0))\n",
    "\n",
    "#겹치는거 제거\n",
    "for i in range(last):\n",
    "    print(i)\n",
    "    if 0 or 9 in numbers[i]:\n",
    "        numbers.remove(numbers[i])\n",
    "    for k in range(0,10):\n",
    "        try:\n",
    "            if numbers[i].count(str(k)) > 1:\n",
    "                numbers.remove(numbers[i])\n",
    "        except:\n",
    "            pass\n",
    "print(numbers)"
   ]
  },
  {
   "cell_type": "code",
   "execution_count": 74,
   "metadata": {},
   "outputs": [
    {
     "data": {
      "text/plain": [
       "[]"
      ]
     },
     "execution_count": 74,
     "metadata": {},
     "output_type": "execute_result"
    }
   ],
   "source": [
    "numbers"
   ]
  },
  {
   "cell_type": "code",
   "execution_count": 80,
   "metadata": {},
   "outputs": [
    {
     "ename": "IndexError",
     "evalue": "list index out of range",
     "output_type": "error",
     "traceback": [
      "\u001b[0;31m---------------------------------------------------------------------------\u001b[0m",
      "\u001b[0;31mIndexError\u001b[0m                                Traceback (most recent call last)",
      "\u001b[1;32m/Users/owo/HOUSE/@Code/temp/code.ipynb 셀 10\u001b[0m line \u001b[0;36m4\n\u001b[1;32m      <a href='vscode-notebook-cell:/Users/owo/HOUSE/%40Code/temp/code.ipynb#X13sZmlsZQ%3D%3D?line=1'>2</a>\u001b[0m \u001b[39mwhile\u001b[39;00m(i\u001b[39m<\u001b[39m\u001b[39m10\u001b[39m):\n\u001b[1;32m      <a href='vscode-notebook-cell:/Users/owo/HOUSE/%40Code/temp/code.ipynb#X13sZmlsZQ%3D%3D?line=2'>3</a>\u001b[0m     \u001b[39mif\u001b[39;00m \u001b[39m'\u001b[39m\u001b[39m0\u001b[39m\u001b[39m'\u001b[39m \u001b[39mor\u001b[39;00m \u001b[39m'\u001b[39m\u001b[39m2\u001b[39m\u001b[39m'\u001b[39m \u001b[39min\u001b[39;00m numbers[i]:\n\u001b[0;32m----> <a href='vscode-notebook-cell:/Users/owo/HOUSE/%40Code/temp/code.ipynb#X13sZmlsZQ%3D%3D?line=3'>4</a>\u001b[0m         numbers\u001b[39m.\u001b[39mremove(numbers[i])\n\u001b[1;32m      <a href='vscode-notebook-cell:/Users/owo/HOUSE/%40Code/temp/code.ipynb#X13sZmlsZQ%3D%3D?line=4'>5</a>\u001b[0m     \u001b[39melse\u001b[39;00m:\n\u001b[1;32m      <a href='vscode-notebook-cell:/Users/owo/HOUSE/%40Code/temp/code.ipynb#X13sZmlsZQ%3D%3D?line=5'>6</a>\u001b[0m         i \u001b[39m=\u001b[39m i \u001b[39m+\u001b[39m \u001b[39m1\u001b[39m\n",
      "\u001b[0;31mIndexError\u001b[0m: list index out of range"
     ]
    }
   ],
   "source": [
    "i = 0\n",
    "while(i<last): #remove 0\n",
    "    if '0' in numbers[i]:\n",
    "        numbers.remove(numbers[i])\n",
    "    else:\n",
    "        i = i + 1\n",
    "#for i in range(1,10):"
   ]
  },
  {
   "cell_type": "markdown",
   "metadata": {},
   "source": [
    "3"
   ]
  },
  {
   "cell_type": "code",
   "execution_count": 14,
   "metadata": {},
   "outputs": [
    {
     "ename": "SyntaxError",
     "evalue": "incomplete input (1876529484.py, line 67)",
     "output_type": "error",
     "traceback": [
      "\u001b[0;36m  Cell \u001b[0;32mIn[14], line 67\u001b[0;36m\u001b[0m\n\u001b[0;31m    #     return answer\u001b[0m\n\u001b[0m                       ^\u001b[0m\n\u001b[0;31mSyntaxError\u001b[0m\u001b[0;31m:\u001b[0m incomplete input\n"
     ]
    }
   ],
   "source": [
    "\n",
    "def aya(letter,i):\n",
    "    try:\n",
    "        if letter[i] == 'a':\n",
    "            if letter[i+1] == 'y':\n",
    "                if letter[i+2] == 'a':\n",
    "                    return 1\n",
    "                else:\n",
    "                    return 0\n",
    "            else:\n",
    "                return 0\n",
    "        else:\n",
    "            return 0\n",
    "    except:\n",
    "        return -1\n",
    "def ye(sd,i):\n",
    "    try:\n",
    "        if sd[i] == 'y':\n",
    "            if sd[i+1] == 'e':\n",
    "                return 1\n",
    "            else:\n",
    "                return 0\n",
    "        else:\n",
    "            return 0\n",
    "    except:\n",
    "        return -1\n",
    "def woo(sd,i):\n",
    "    try:\n",
    "        if sd[i] == 'w':\n",
    "            if sd[i+1] == 'o':\n",
    "                if sd[i+2] == 'o':\n",
    "                    return 1\n",
    "                else:\n",
    "                    return 0\n",
    "            else:\n",
    "                return 0\n",
    "        else:\n",
    "            return 0\n",
    "    except:\n",
    "        return -1\n",
    "def ma(sd,i):\n",
    "    try:\n",
    "        if sd[i] == 'm':\n",
    "            if sd[i+1] == 'a':\n",
    "                return 1\n",
    "            else:\n",
    "                return 0\n",
    "        else:\n",
    "            return 0\n",
    "    except:\n",
    "        return -1\n",
    "def checkall(sd):\n",
    "    i = 0\n",
    "    keep = 0\n",
    "    while(1):\n",
    "        if aya(sd,i) > 0:\n",
    "            i = i + 3\n",
    "            keep = 1\n",
    "        elif aya(sd,i) == -1:\n",
    "            return 0\n",
    "        elif woo(sd,i) > 0:\n",
    "            i = i + 3\n",
    "            keep = 1\n",
    "        elif woo(sd,i) == -1\n",
    "        elif ye(sd,i) > 0:\n",
    "            i = i + 2\n",
    "            keep = 1\n",
    "        elif ma(sd,i) > 0:\n",
    "            i = i + 2\n",
    "            keep = 1\n",
    "        if keep == 0:\n",
    "            return 0\n",
    "        \n",
    "\n",
    "\n",
    "sd = [\"aya\", \"yee\", \"u\", \"maa\", \"wyeoo\"]\n",
    "\n",
    "for i in range(len(sd)):\n",
    "    while(k < 15):\n",
    "        if aya(sd[i]) > 0:\n",
    "\n",
    "\n",
    "\n",
    "\n",
    "# def solution(babbling):\n",
    "#     answer = 0\n",
    "#     return answer"
   ]
  },
  {
   "cell_type": "code",
   "execution_count": 7,
   "metadata": {},
   "outputs": [],
   "source": [
    "a = input()"
   ]
  },
  {
   "cell_type": "code",
   "execution_count": 8,
   "metadata": {},
   "outputs": [
    {
     "data": {
      "text/plain": [
       "['3x', '7', 'x']"
      ]
     },
     "execution_count": 8,
     "metadata": {},
     "output_type": "execute_result"
    }
   ],
   "source": [
    "a.split(' + ')"
   ]
  },
  {
   "cell_type": "code",
   "execution_count": 4,
   "metadata": {},
   "outputs": [
    {
     "data": {
      "text/plain": [
       "'\"3x + 7 + x\"\\t'"
      ]
     },
     "execution_count": 4,
     "metadata": {},
     "output_type": "execute_result"
    }
   ],
   "source": [
    "for i in a:\n",
    "    "
   ]
  },
  {
   "cell_type": "code",
   "execution_count": null,
   "metadata": {},
   "outputs": [],
   "source": []
  }
 ],
 "metadata": {
  "kernelspec": {
   "display_name": "torchenv",
   "language": "python",
   "name": "python3"
  },
  "language_info": {
   "codemirror_mode": {
    "name": "ipython",
    "version": 3
   },
   "file_extension": ".py",
   "mimetype": "text/x-python",
   "name": "python",
   "nbconvert_exporter": "python",
   "pygments_lexer": "ipython3",
   "version": "3.11.4"
  },
  "orig_nbformat": 4
 },
 "nbformat": 4,
 "nbformat_minor": 2
}

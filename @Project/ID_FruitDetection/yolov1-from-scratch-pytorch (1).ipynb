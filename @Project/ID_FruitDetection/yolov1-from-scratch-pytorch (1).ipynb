{
 "cells": [
  {
   "cell_type": "markdown",
   "id": "sixth-thread",
   "metadata": {
    "papermill": {
     "duration": 0.019437,
     "end_time": "2022-04-19T13:11:47.025477",
     "exception": false,
     "start_time": "2022-04-19T13:11:47.006040",
     "status": "completed"
    },
    "tags": []
   },
   "source": [
    "Disclaimer: This is an implementation from scratch of YoloV1 model [using this tutorial](https://www.youtube.com/watch?v=n9_XyCGr-MI) on a custom dataset in Kaggle. I wanted to show how to implement the code from this video on a dataset in Kaggle. If you have any confusion when looking through this code, I would highly recommend you watching this video. I have added predictions on the test set now with version 2 of the notebook. Hope you enjoy! :)"
   ]
  },
  {
   "cell_type": "markdown",
   "id": "graphic-algeria",
   "metadata": {
    "papermill": {
     "duration": 0.017654,
     "end_time": "2022-04-19T13:11:47.061687",
     "exception": false,
     "start_time": "2022-04-19T13:11:47.044033",
     "status": "completed"
    },
    "tags": []
   },
   "source": [
    "# **Import Libraries**"
   ]
  },
  {
   "cell_type": "code",
   "execution_count": 18,
   "id": "chief-lease",
   "metadata": {
    "execution": {
     "iopub.execute_input": "2022-04-19T13:11:47.102529Z",
     "iopub.status.busy": "2022-04-19T13:11:47.101014Z",
     "iopub.status.idle": "2022-04-19T13:11:48.973443Z",
     "shell.execute_reply": "2022-04-19T13:11:48.973954Z",
     "shell.execute_reply.started": "2021-06-28T12:48:02.818924Z"
    },
    "papermill": {
     "duration": 1.89472,
     "end_time": "2022-04-19T13:11:48.974253",
     "exception": false,
     "start_time": "2022-04-19T13:11:47.079533",
     "status": "completed"
    },
    "tags": []
   },
   "outputs": [],
   "source": [
    "import torch\n",
    "import torch.nn as nn\n",
    "import pandas as pd\n",
    "import os\n",
    "import PIL\n",
    "import skimage\n",
    "from skimage import io\n",
    "import numpy as np\n",
    "from PIL import Image\n",
    "import matplotlib.pyplot as plt\n",
    "import matplotlib.patches as patches\n",
    "import torchvision.transforms as transforms\n",
    "import torch.optim as optim\n",
    "import torchvision.transforms.functional as FT\n",
    "from torch.utils.data import DataLoader\n",
    "from tqdm import tqdm\n",
    "seed = 123\n",
    "import cv2\n",
    "import xml.etree.ElementTree as ET\n",
    "torch.manual_seed(seed)\n",
    "from collections import Counter"
   ]
  },
  {
   "cell_type": "markdown",
   "id": "incorporate-finish",
   "metadata": {
    "papermill": {
     "duration": 0.019006,
     "end_time": "2022-04-19T13:11:49.012292",
     "exception": false,
     "start_time": "2022-04-19T13:11:48.993286",
     "status": "completed"
    },
    "tags": []
   },
   "source": [
    "# **Model Architecture**"
   ]
  },
  {
   "cell_type": "code",
   "execution_count": 19,
   "id": "sealed-recycling",
   "metadata": {
    "execution": {
     "iopub.execute_input": "2022-04-19T13:11:49.057268Z",
     "iopub.status.busy": "2022-04-19T13:11:49.056548Z",
     "iopub.status.idle": "2022-04-19T13:11:49.059341Z",
     "shell.execute_reply": "2022-04-19T13:11:49.058913Z",
     "shell.execute_reply.started": "2021-06-28T12:48:25.219783Z"
    },
    "papermill": {
     "duration": 0.028881,
     "end_time": "2022-04-19T13:11:49.059449",
     "exception": false,
     "start_time": "2022-04-19T13:11:49.030568",
     "status": "completed"
    },
    "tags": []
   },
   "outputs": [],
   "source": [
    "architecture_config = [\n",
    "    #Tuple: (kernel_size, number of filters, strides, padding)\n",
    "    (7, 64, 2, 3),\n",
    "    #\"M\" = Max Pool Layer\n",
    "    \"M\",\n",
    "    (3, 192, 1, 1),\n",
    "    \"M\",\n",
    "    (1, 128, 1, 0),\n",
    "    (3, 256, 1, 1),\n",
    "    (1, 256, 1, 0),\n",
    "    (3, 512, 1, 1),\n",
    "    \"M\",\n",
    "    #List: [(tuple), (tuple), how many times to repeat]\n",
    "    [(1, 256, 1, 0), (3, 512, 1, 1), 4],\n",
    "    (1, 512, 1, 0),\n",
    "    (3, 1024, 1, 1),\n",
    "    \"M\",\n",
    "    [(1, 512, 1, 0), (3, 1024, 1, 1), 2],\n",
    "    (3, 1024, 1, 1),\n",
    "    (3, 1024, 2, 1),\n",
    "    (3, 1024, 1, 1),\n",
    "    (3, 1024, 1, 1),\n",
    "    #Doesnt include fc layers\n",
    "]"
   ]
  },
  {
   "cell_type": "code",
   "execution_count": 20,
   "id": "frank-tunnel",
   "metadata": {
    "execution": {
     "iopub.execute_input": "2022-04-19T13:11:49.109593Z",
     "iopub.status.busy": "2022-04-19T13:11:49.108333Z",
     "iopub.status.idle": "2022-04-19T13:11:49.110642Z",
     "shell.execute_reply": "2022-04-19T13:11:49.111038Z",
     "shell.execute_reply.started": "2021-06-28T12:48:26.778035Z"
    },
    "papermill": {
     "duration": 0.033927,
     "end_time": "2022-04-19T13:11:49.111176",
     "exception": false,
     "start_time": "2022-04-19T13:11:49.077249",
     "status": "completed"
    },
    "tags": []
   },
   "outputs": [],
   "source": [
    "class CNNBlock(nn.Module):\n",
    "    def __init__(self, in_channels, out_channels, **kwargs):\n",
    "        super(CNNBlock, self).__init__()\n",
    "        self.conv = nn.Conv2d(in_channels, out_channels, bias=False, **kwargs)\n",
    "        self.batchnorm = nn.BatchNorm2d(out_channels)\n",
    "        self.leakyrelu = nn.LeakyReLU(0.1)\n",
    "        \n",
    "    def forward(self, x):\n",
    "        return self.leakyrelu(self.batchnorm(self.conv(x)))\n",
    "    \n",
    "class YoloV1(nn.Module):\n",
    "    def __init__(self, in_channels=3, **kwargs):\n",
    "        super(YoloV1, self).__init__()\n",
    "        self.architecture = architecture_config\n",
    "        self.in_channels = in_channels\n",
    "        self.darknet = self._create_conv_layers(self.architecture)\n",
    "        self.fcs = self._create_fcs(**kwargs)\n",
    "        \n",
    "    def forward(self, x):\n",
    "        x = self.darknet(x)\n",
    "        return self.fcs(torch.flatten(x, start_dim=1))\n",
    "    \n",
    "    def _create_conv_layers(self, architecture):\n",
    "        layers = []\n",
    "        in_channels = self.in_channels\n",
    "        \n",
    "        for x in architecture:\n",
    "            if type(x) == tuple:\n",
    "                layers += [CNNBlock(in_channels, x[1], kernel_size=x[0], stride=x[2], padding=x[3])]\n",
    "                in_channels = x[1]\n",
    "            elif type(x) == str:\n",
    "                layers += [nn.MaxPool2d(kernel_size=2, stride=2)]\n",
    "            elif type(x) == list:\n",
    "                conv1 = x[0] #Tuple\n",
    "                conv2 = x[1] #Tuple\n",
    "                repeats = x[2] #Int\n",
    "                \n",
    "                for _ in range(repeats):\n",
    "                    layers += [CNNBlock(in_channels, conv1[1], kernel_size=conv1[0], stride=conv1[2], padding=conv1[3])]\n",
    "                    layers += [CNNBlock(conv1[1], conv2[1], kernel_size=conv2[0], stride=conv2[2], padding=conv2[3])]\n",
    "                    in_channels = conv2[1]\n",
    "                    \n",
    "        return nn.Sequential(*layers)\n",
    "    \n",
    "    def _create_fcs(self, split_size, num_boxes, num_classes):\n",
    "        S, B, C = split_size, num_boxes, num_classes\n",
    "        return nn.Sequential(nn.Flatten(), nn.Linear(1024 * S * S, 496), nn.Dropout(0.0), nn.LeakyReLU(0.1), nn.Linear(496, S * S * (C + B * 5)))#Original paper uses nn.Linear(1024 * S * S, 4096) not 496. Also the last layer will be reshaped to (S, S, 13) where C+B*5 = 13"
   ]
  },
  {
   "cell_type": "markdown",
   "id": "backed-crown",
   "metadata": {
    "papermill": {
     "duration": 0.01824,
     "end_time": "2022-04-19T13:11:49.149773",
     "exception": false,
     "start_time": "2022-04-19T13:11:49.131533",
     "status": "completed"
    },
    "tags": []
   },
   "source": [
    "# **Utility Functions**"
   ]
  },
  {
   "cell_type": "markdown",
   "id": "incident-contact",
   "metadata": {
    "papermill": {
     "duration": 0.018456,
     "end_time": "2022-04-19T13:11:49.186636",
     "exception": false,
     "start_time": "2022-04-19T13:11:49.168180",
     "status": "completed"
    },
    "tags": []
   },
   "source": [
    "# **Intersection Over Union**"
   ]
  },
  {
   "cell_type": "code",
   "execution_count": 21,
   "id": "available-pollution",
   "metadata": {
    "execution": {
     "iopub.execute_input": "2022-04-19T13:11:49.235540Z",
     "iopub.status.busy": "2022-04-19T13:11:49.234688Z",
     "iopub.status.idle": "2022-04-19T13:11:49.237130Z",
     "shell.execute_reply": "2022-04-19T13:11:49.236664Z",
     "shell.execute_reply.started": "2021-06-28T12:48:28.368389Z"
    },
    "papermill": {
     "duration": 0.032311,
     "end_time": "2022-04-19T13:11:49.237290",
     "exception": false,
     "start_time": "2022-04-19T13:11:49.204979",
     "status": "completed"
    },
    "tags": []
   },
   "outputs": [],
   "source": [
    "def intersection_over_union(boxes_preds, boxes_labels, box_format='midpoint'):\n",
    "    \"\"\"\n",
    "    Calculates intersection over union\n",
    "    \n",
    "    Parameters:\n",
    "        boxes_preds (tensor): Predictions of Bounding Boxes (BATCH_SIZE, 4)\n",
    "        boxes_labels (tensor): Correct labels of Bounding Boxes (BATCH_SIZE, 4)\n",
    "        box_format (str): midpoint/corners, if boxes are (x,y,w,h) or (x1,y1,x2,y2) respectively.\n",
    "    \n",
    "    Returns:\n",
    "        tensor: Intersection over union for all examples\n",
    "    \"\"\"\n",
    "    # boxes_preds shape is (N, 4) where N is the number of bboxes\n",
    "    #boxes_labels shape is (n, 4)\n",
    "    \n",
    "    if box_format == 'midpoint':\n",
    "        box1_x1 = boxes_preds[..., 0:1] - boxes_preds[..., 2:3] / 2\n",
    "        box1_y1 = boxes_preds[..., 1:2] - boxes_preds[..., 3:4] / 2\n",
    "        box1_x2 = boxes_preds[..., 0:1] + boxes_preds[..., 2:3] / 2\n",
    "        box1_y2 = boxes_preds[..., 1:2] + boxes_preds[..., 3:4] / 2\n",
    "        box2_x1 = boxes_labels[..., 0:1] - boxes_labels[..., 2:3] / 2\n",
    "        box2_y1 = boxes_labels[..., 1:2] - boxes_labels[..., 3:4] / 2\n",
    "        box2_x2 = boxes_labels[..., 0:1] + boxes_labels[..., 2:3] / 2\n",
    "        box2_y2 = boxes_labels[..., 1:2] + boxes_labels[..., 3:4] / 2\n",
    "        \n",
    "    if box_format == 'corners':\n",
    "        box1_x1 = boxes_preds[..., 0:1]\n",
    "        box1_y1 = boxes_preds[..., 1:2]\n",
    "        box1_x2 = boxes_preds[..., 2:3]\n",
    "        box1_y2 = boxes_preds[..., 3:4] # Output tensor should be (N, 1). If we only use 3, we go to (N)\n",
    "        box2_x1 = boxes_labels[..., 0:1]\n",
    "        box2_y1 = boxes_labels[..., 1:2]\n",
    "        box2_x2 = boxes_labels[..., 2:3]\n",
    "        box2_y2 = boxes_labels[..., 3:4]\n",
    "    \n",
    "    x1 = torch.max(box1_x1, box2_x1)\n",
    "    y1 = torch.max(box1_y1, box2_y1)\n",
    "    x2 = torch.min(box1_x2, box2_x2)\n",
    "    y2 = torch.min(box1_y2, box2_y2)\n",
    "    \n",
    "    #.clamp(0) is for the case when they don't intersect. Since when they don't intersect, one of these will be negative so that should become 0\n",
    "    intersection = (x2 - x1).clamp(0) * (y2 - y1).clamp(0)\n",
    "    \n",
    "    box1_area = abs((box1_x2 - box1_x1) * (box1_y2 - box1_y1))\n",
    "    box2_area = abs((box2_x2 - box2_x1) * (box2_y2 - box2_y1))\n",
    "    \n",
    "    return intersection / (box1_area + box2_area - intersection + 1e-6)"
   ]
  },
  {
   "cell_type": "markdown",
   "id": "standard-chosen",
   "metadata": {
    "papermill": {
     "duration": 0.018222,
     "end_time": "2022-04-19T13:11:49.273531",
     "exception": false,
     "start_time": "2022-04-19T13:11:49.255309",
     "status": "completed"
    },
    "tags": []
   },
   "source": [
    "# **Non-Max Supression**"
   ]
  },
  {
   "cell_type": "code",
   "execution_count": 22,
   "id": "heavy-painting",
   "metadata": {
    "execution": {
     "iopub.execute_input": "2022-04-19T13:11:49.315889Z",
     "iopub.status.busy": "2022-04-19T13:11:49.315208Z",
     "iopub.status.idle": "2022-04-19T13:11:49.317837Z",
     "shell.execute_reply": "2022-04-19T13:11:49.317433Z",
     "shell.execute_reply.started": "2021-06-28T12:48:29.383498Z"
    },
    "papermill": {
     "duration": 0.026435,
     "end_time": "2022-04-19T13:11:49.317938",
     "exception": false,
     "start_time": "2022-04-19T13:11:49.291503",
     "status": "completed"
    },
    "tags": []
   },
   "outputs": [],
   "source": [
    "def non_max_suppression(bboxes, iou_threshold, threshold, box_format=\"corners\"):\n",
    "    \"\"\"\n",
    "    Does Non Max Suppression given bboxes\n",
    "    Parameters:\n",
    "        bboxes (list): list of lists containing all bboxes with each bboxes\n",
    "        specified as [class_pred, prob_score, x1, y1, x2, y2]\n",
    "        iou_threshold (float): threshold where predicted bboxes is correct\n",
    "        threshold (float): threshold to remove predicted bboxes (independent of IoU) \n",
    "        box_format (str): \"midpoint\" or \"corners\" used to specify bboxes\n",
    "    Returns:\n",
    "        list: bboxes after performing NMS given a specific IoU threshold\n",
    "    \"\"\"\n",
    "\n",
    "    assert type(bboxes) == list\n",
    "\n",
    "    bboxes = [box for box in bboxes if box[1] > threshold]\n",
    "    bboxes = sorted(bboxes, key=lambda x: x[1], reverse=True)\n",
    "    bboxes_after_nms = []\n",
    "\n",
    "    while bboxes:\n",
    "        chosen_box = bboxes.pop(0)\n",
    "\n",
    "        bboxes = [\n",
    "            box\n",
    "            for box in bboxes\n",
    "            if box[0] != chosen_box[0]\n",
    "            or intersection_over_union(\n",
    "                torch.tensor(chosen_box[2:]),\n",
    "                torch.tensor(box[2:]),\n",
    "                box_format=box_format,\n",
    "            )\n",
    "            < iou_threshold\n",
    "        ]\n",
    "\n",
    "        bboxes_after_nms.append(chosen_box)\n",
    "\n",
    "    return bboxes_after_nms"
   ]
  },
  {
   "cell_type": "markdown",
   "id": "incorporate-tenant",
   "metadata": {
    "papermill": {
     "duration": 0.017932,
     "end_time": "2022-04-19T13:11:49.353687",
     "exception": false,
     "start_time": "2022-04-19T13:11:49.335755",
     "status": "completed"
    },
    "tags": []
   },
   "source": [
    "# **Mean Average Precision**"
   ]
  },
  {
   "cell_type": "code",
   "execution_count": 23,
   "id": "romance-rochester",
   "metadata": {
    "execution": {
     "iopub.execute_input": "2022-04-19T13:11:49.404212Z",
     "iopub.status.busy": "2022-04-19T13:11:49.402985Z",
     "iopub.status.idle": "2022-04-19T13:11:49.405656Z",
     "shell.execute_reply": "2022-04-19T13:11:49.405251Z",
     "shell.execute_reply.started": "2021-06-28T12:48:31.0696Z"
    },
    "papermill": {
     "duration": 0.034175,
     "end_time": "2022-04-19T13:11:49.405758",
     "exception": false,
     "start_time": "2022-04-19T13:11:49.371583",
     "status": "completed"
    },
    "tags": []
   },
   "outputs": [],
   "source": [
    "def mean_average_precision(\n",
    "    pred_boxes, true_boxes, iou_threshold=0.5, box_format=\"midpoint\", num_classes=20\n",
    "):\n",
    "    \"\"\"\n",
    "    Calculates mean average precision \n",
    "    Parameters:\n",
    "        pred_boxes (list): list of lists containing all bboxes with each bboxes\n",
    "        specified as [train_idx, class_prediction, prob_score, x1, y1, x2, y2]\n",
    "        true_boxes (list): Similar as pred_boxes except all the correct ones \n",
    "        iou_threshold (float): threshold where predicted bboxes is correct\n",
    "        box_format (str): \"midpoint\" or \"corners\" used to specify bboxes\n",
    "        num_classes (int): number of classes\n",
    "    Returns:\n",
    "        float: mAP value across all classes given a specific IoU threshold \n",
    "    \"\"\"\n",
    "\n",
    "    # list storing all AP for respective classes\n",
    "    average_precisions = []\n",
    "\n",
    "    # used for numerical stability later on\n",
    "    epsilon = 1e-6\n",
    "\n",
    "    for c in range(num_classes):\n",
    "        detections = []\n",
    "        ground_truths = []\n",
    "\n",
    "        # Go through all predictions and targets,\n",
    "        # and only add the ones that belong to the\n",
    "        # current class c\n",
    "        for detection in pred_boxes:\n",
    "            if detection[1] == c:\n",
    "                detections.append(detection)\n",
    "\n",
    "        for true_box in true_boxes:\n",
    "            if true_box[1] == c:\n",
    "                ground_truths.append(true_box)\n",
    "\n",
    "        # find the amount of bboxes for each training example\n",
    "        # Counter here finds how many ground truth bboxes we get\n",
    "        # for each training example, so let's say img 0 has 3,\n",
    "        # img 1 has 5 then we will obtain a dictionary with:\n",
    "        # amount_bboxes = {0:3, 1:5}\n",
    "        amount_bboxes = Counter([gt[0] for gt in ground_truths])\n",
    "\n",
    "        # We then go through each key, val in this dictionary\n",
    "        # and convert to the following (w.r.t same example):\n",
    "        # ammount_bboxes = {0:torch.tensor[0,0,0], 1:torch.tensor[0,0,0,0,0]}\n",
    "        for key, val in amount_bboxes.items():\n",
    "            amount_bboxes[key] = torch.zeros(val)\n",
    "\n",
    "        # sort by box probabilities which is index 2\n",
    "        detections.sort(key=lambda x: x[2], reverse=True)\n",
    "        TP = torch.zeros((len(detections)))\n",
    "        FP = torch.zeros((len(detections)))\n",
    "        total_true_bboxes = len(ground_truths)\n",
    "        \n",
    "        # If none exists for this class then we can safely skip\n",
    "        if total_true_bboxes == 0:\n",
    "            continue\n",
    "\n",
    "        for detection_idx, detection in enumerate(detections):\n",
    "            # Only take out the ground_truths that have the same\n",
    "            # training idx as detection\n",
    "            ground_truth_img = [\n",
    "                bbox for bbox in ground_truths if bbox[0] == detection[0]\n",
    "            ]\n",
    "\n",
    "            num_gts = len(ground_truth_img)\n",
    "            best_iou = 0\n",
    "\n",
    "            for idx, gt in enumerate(ground_truth_img):\n",
    "                iou = intersection_over_union(\n",
    "                    torch.tensor(detection[3:]),\n",
    "                    torch.tensor(gt[3:]),\n",
    "                    box_format=box_format,\n",
    "                )\n",
    "\n",
    "                if iou > best_iou:\n",
    "                    best_iou = iou\n",
    "                    best_gt_idx = idx\n",
    "\n",
    "            if best_iou > iou_threshold:\n",
    "                # only detect ground truth detection once\n",
    "                if amount_bboxes[detection[0]][best_gt_idx] == 0:\n",
    "                    # true positive and add this bounding box to seen\n",
    "                    TP[detection_idx] = 1\n",
    "                    amount_bboxes[detection[0]][best_gt_idx] = 1\n",
    "                else:\n",
    "                    FP[detection_idx] = 1\n",
    "\n",
    "            # if IOU is lower then the detection is a false positive\n",
    "            else:\n",
    "                FP[detection_idx] = 1\n",
    "\n",
    "        TP_cumsum = torch.cumsum(TP, dim=0)\n",
    "        FP_cumsum = torch.cumsum(FP, dim=0)\n",
    "        recalls = TP_cumsum / (total_true_bboxes + epsilon)\n",
    "        precisions = torch.divide(TP_cumsum, (TP_cumsum + FP_cumsum + epsilon))\n",
    "        precisions = torch.cat((torch.tensor([1]), precisions))\n",
    "        recalls = torch.cat((torch.tensor([0]), recalls))\n",
    "        # torch.trapz for numerical integration\n",
    "        average_precisions.append(torch.trapz(precisions, recalls))\n",
    "\n",
    "    return sum(average_precisions) / len(average_precisions)"
   ]
  },
  {
   "cell_type": "markdown",
   "id": "contained-jefferson",
   "metadata": {
    "papermill": {
     "duration": 0.017618,
     "end_time": "2022-04-19T13:11:49.441357",
     "exception": false,
     "start_time": "2022-04-19T13:11:49.423739",
     "status": "completed"
    },
    "tags": []
   },
   "source": [
    "# **Last Utility Functions**"
   ]
  },
  {
   "cell_type": "code",
   "execution_count": 24,
   "id": "pediatric-shopping",
   "metadata": {
    "execution": {
     "iopub.execute_input": "2022-04-19T13:11:49.495873Z",
     "iopub.status.busy": "2022-04-19T13:11:49.494469Z",
     "iopub.status.idle": "2022-04-19T13:11:49.496818Z",
     "shell.execute_reply": "2022-04-19T13:11:49.497214Z",
     "shell.execute_reply.started": "2021-06-28T12:48:33.414916Z"
    },
    "papermill": {
     "duration": 0.038008,
     "end_time": "2022-04-19T13:11:49.497334",
     "exception": false,
     "start_time": "2022-04-19T13:11:49.459326",
     "status": "completed"
    },
    "tags": []
   },
   "outputs": [],
   "source": [
    "def get_bboxes(\n",
    "    loader,\n",
    "    model,\n",
    "    iou_threshold,\n",
    "    threshold,\n",
    "    pred_format=\"cells\",\n",
    "    box_format=\"midpoint\",\n",
    "    device=\"cpu\",\n",
    "):\n",
    "    all_pred_boxes = []\n",
    "    all_true_boxes = []\n",
    "\n",
    "    # make sure model is in eval before get bboxes\n",
    "    model.eval()\n",
    "    train_idx = 0\n",
    "\n",
    "    for batch_idx, (x, labels) in enumerate(loader):\n",
    "        x = x.to(device)\n",
    "        labels = labels.to(device)\n",
    "\n",
    "        with torch.no_grad():\n",
    "            predictions = model(x)\n",
    "\n",
    "        batch_size = x.shape[0]\n",
    "        true_bboxes = cellboxes_to_boxes(labels)\n",
    "        bboxes = cellboxes_to_boxes(predictions)\n",
    "\n",
    "        for idx in range(batch_size):\n",
    "            nms_boxes = non_max_suppression(\n",
    "                bboxes[idx],\n",
    "                iou_threshold=iou_threshold,\n",
    "                threshold=threshold,\n",
    "                box_format=box_format,\n",
    "            )\n",
    "\n",
    "\n",
    "            #if batch_idx == 0 and idx == 0:\n",
    "            #    plot_image(x[idx].permute(1,2,0).to(\"cpu\"), nms_boxes)\n",
    "            #    print(nms_boxes)\n",
    "\n",
    "            for nms_box in nms_boxes:\n",
    "                all_pred_boxes.append([train_idx] + nms_box)\n",
    "\n",
    "            for box in true_bboxes[idx]:\n",
    "                # many will get converted to 0 pred\n",
    "                if box[1] > threshold:\n",
    "                    all_true_boxes.append([train_idx] + box)\n",
    "\n",
    "            train_idx += 1\n",
    "\n",
    "    model.train()\n",
    "    return all_pred_boxes, all_true_boxes\n",
    "\n",
    "\n",
    "\n",
    "def convert_cellboxes(predictions, S=7, C=3):\n",
    "    \"\"\"\n",
    "    Converts bounding boxes output from Yolo with\n",
    "    an image split size of S into entire image ratios\n",
    "    rather than relative to cell ratios. Tried to do this\n",
    "    vectorized, but this resulted in quite difficult to read\n",
    "    code... Use as a black box? Or implement a more intuitive,\n",
    "    using 2 for loops iterating range(S) and convert them one\n",
    "    by one, resulting in a slower but more readable implementation.\n",
    "    \"\"\"\n",
    "\n",
    "    predictions = predictions.to(\"cpu\")\n",
    "    batch_size = predictions.shape[0]\n",
    "    predictions = predictions.reshape(batch_size, 7, 7, C + 10)\n",
    "    bboxes1 = predictions[..., C + 1:C + 5]\n",
    "    bboxes2 = predictions[..., C + 6:C + 10]\n",
    "    scores = torch.cat(\n",
    "        (predictions[..., C].unsqueeze(0), predictions[..., C + 5].unsqueeze(0)), dim=0\n",
    "    )\n",
    "    best_box = scores.argmax(0).unsqueeze(-1)\n",
    "    best_boxes = bboxes1 * (1 - best_box) + best_box * bboxes2\n",
    "    cell_indices = torch.arange(7).repeat(batch_size, 7, 1).unsqueeze(-1)\n",
    "    x = 1 / S * (best_boxes[..., :1] + cell_indices)\n",
    "    y = 1 / S * (best_boxes[..., 1:2] + cell_indices.permute(0, 2, 1, 3))\n",
    "    w_y = 1 / S * best_boxes[..., 2:4]\n",
    "    converted_bboxes = torch.cat((x, y, w_y), dim=-1)\n",
    "    predicted_class = predictions[..., :C].argmax(-1).unsqueeze(-1)\n",
    "    best_confidence = torch.max(predictions[..., C], predictions[..., C + 5]).unsqueeze(\n",
    "        -1\n",
    "    )\n",
    "    converted_preds = torch.cat(\n",
    "        (predicted_class, best_confidence, converted_bboxes), dim=-1\n",
    "    )\n",
    "\n",
    "    return converted_preds\n",
    "\n",
    "\n",
    "def cellboxes_to_boxes(out, S=7):\n",
    "    converted_pred = convert_cellboxes(out).reshape(out.shape[0], S * S, -1)\n",
    "    converted_pred[..., 0] = converted_pred[..., 0].long()\n",
    "    all_bboxes = []\n",
    "\n",
    "    for ex_idx in range(out.shape[0]):\n",
    "        bboxes = []\n",
    "\n",
    "        for bbox_idx in range(S * S):\n",
    "            bboxes.append([x.item() for x in converted_pred[ex_idx, bbox_idx, :]])\n",
    "        all_bboxes.append(bboxes)\n",
    "\n",
    "    return all_bboxes\n",
    "\n",
    "def save_checkpoint(state, filename=\"my_checkpoint.pth\"):\n",
    "    print(\"=> Saving checkpoint\")\n",
    "    torch.save(state, filename)\n",
    "    \n",
    "def load_checkpoint(checkpoint, model, optimizer):\n",
    "    print(\"=> Loading checkpoint\")\n",
    "    model.load_state_dict(checkpoint[\"state_dict\"])\n",
    "    optimizer.load_state_dict(checkpoint[\"optimizer\"])"
   ]
  },
  {
   "cell_type": "markdown",
   "id": "residential-numbers",
   "metadata": {
    "papermill": {
     "duration": 0.01803,
     "end_time": "2022-04-19T13:11:49.533185",
     "exception": false,
     "start_time": "2022-04-19T13:11:49.515155",
     "status": "completed"
    },
    "tags": []
   },
   "source": [
    "# **Dataset Preprocessing**"
   ]
  },
  {
   "cell_type": "code",
   "execution_count": 25,
   "id": "choice-nigeria",
   "metadata": {
    "execution": {
     "iopub.execute_input": "2022-04-19T13:11:49.576638Z",
     "iopub.status.busy": "2022-04-19T13:11:49.576147Z",
     "iopub.status.idle": "2022-04-19T13:11:49.896332Z",
     "shell.execute_reply": "2022-04-19T13:11:49.895798Z",
     "shell.execute_reply.started": "2021-06-28T12:48:34.486165Z"
    },
    "papermill": {
     "duration": 0.34467,
     "end_time": "2022-04-19T13:11:49.896461",
     "exception": false,
     "start_time": "2022-04-19T13:11:49.551791",
     "status": "completed"
    },
    "tags": []
   },
   "outputs": [],
   "source": [
    "files_dir = '/Users/owo/HOUSE/@Code/@Project/ID_FruitDetection/train'\n",
    "test_dir = '/Users/owo/HOUSE/@Code/@Project/ID_FruitDetection/test'\n",
    "\n",
    "images = [image for image in sorted(os.listdir(files_dir))\n",
    "                        if image[-4:]=='.jpg']\n",
    "annots = []\n",
    "for image in images:\n",
    "    annot = image[:-4] + '.xml'\n",
    "    annots.append(annot)\n",
    "    \n",
    "images = pd.Series(images, name='images')\n",
    "annots = pd.Series(annots, name='annots')\n",
    "df = pd.concat([images, annots], axis=1)\n",
    "df = pd.DataFrame(df)\n",
    "\n",
    "test_images = [image for image in sorted(os.listdir(test_dir))\n",
    "                        if image[-4:]=='.jpg']\n",
    "\n",
    "test_annots = []\n",
    "for image in test_images:\n",
    "    annot = image[:-4] + '.xml'\n",
    "    test_annots.append(annot)\n",
    "\n",
    "test_images = pd.Series(test_images, name='test_images')\n",
    "test_annots = pd.Series(test_annots, name='test_annots')\n",
    "test_df = pd.concat([test_images, test_annots], axis=1)\n",
    "test_df = pd.DataFrame(test_df)"
   ]
  },
  {
   "cell_type": "code",
   "execution_count": 26,
   "id": "specific-train",
   "metadata": {
    "execution": {
     "iopub.execute_input": "2022-04-19T13:11:49.954506Z",
     "iopub.status.busy": "2022-04-19T13:11:49.953760Z",
     "iopub.status.idle": "2022-04-19T13:11:49.956133Z",
     "shell.execute_reply": "2022-04-19T13:11:49.956516Z",
     "shell.execute_reply.started": "2021-06-28T12:48:36.212583Z"
    },
    "papermill": {
     "duration": 0.041748,
     "end_time": "2022-04-19T13:11:49.956644",
     "exception": false,
     "start_time": "2022-04-19T13:11:49.914896",
     "status": "completed"
    },
    "tags": []
   },
   "outputs": [],
   "source": [
    "class FruitImagesDataset(torch.utils.data.Dataset):\n",
    "    def __init__(self, df=df, files_dir=files_dir, S=7, B=2, C=3, transform=None):\n",
    "        self.annotations = df\n",
    "        self.files_dir = files_dir\n",
    "        self.transform = transform\n",
    "        self.S = S\n",
    "        self.B = B\n",
    "        self.C = C\n",
    "\n",
    "    def __len__(self):\n",
    "        return len(self.annotations)\n",
    "\n",
    "    def __getitem__(self, index):\n",
    "        label_path = os.path.join(self.files_dir, self.annotations.iloc[index, 1])\n",
    "        boxes = []\n",
    "        tree = ET.parse(label_path)\n",
    "        root = tree.getroot()\n",
    "        \n",
    "        class_dictionary = {'apple':0, 'banana':1, 'orange':2}\n",
    "    \n",
    "        if(int(root.find('size').find('height').text) == 0):\n",
    "            filename = root.find('filename').text\n",
    "            img = Image.open(self.files_dir + '/' + filename)\n",
    "            img_width, img_height = img.size\n",
    "            \n",
    "            for member in root.findall('object'):\n",
    "            \n",
    "                klass = member.find('name').text\n",
    "                klass = class_dictionary[klass]\n",
    "            \n",
    "                # bounding box\n",
    "                xmin = int(member.find('bndbox').find('xmin').text)\n",
    "                xmax = int(member.find('bndbox').find('xmax').text)\n",
    "            \n",
    "                ymin = int(member.find('bndbox').find('ymin').text)\n",
    "                ymax = int(member.find('bndbox').find('ymax').text)\n",
    "                \n",
    "                centerx = ((xmax + xmin) / 2) / img_width\n",
    "                centery = ((ymax + ymin) / 2) / img_height\n",
    "                boxwidth = (xmax - xmin) / img_width\n",
    "                boxheight = (ymax - ymin) / img_height\n",
    "            \n",
    "            \n",
    "                boxes.append([klass, centerx, centery, boxwidth, boxheight])\n",
    "            \n",
    "        elif(int(root.find('size').find('height').text) != 0):\n",
    "            \n",
    "            for member in root.findall('object'):\n",
    "            \n",
    "                klass = member.find('name').text\n",
    "                klass = class_dictionary[klass]\n",
    "            \n",
    "                                # bounding box\n",
    "                xmin = int(member.find('bndbox').find('xmin').text)\n",
    "                xmax = int(member.find('bndbox').find('xmax').text)\n",
    "                img_width = int(root.find('size').find('width').text)\n",
    "            \n",
    "                ymin = int(member.find('bndbox').find('ymin').text)\n",
    "                ymax = int(member.find('bndbox').find('ymax').text)\n",
    "                img_height = int(root.find('size').find('height').text)\n",
    "                \n",
    "                centerx = ((xmax + xmin) / 2) / img_width\n",
    "                centery = ((ymax + ymin) / 2) / img_height\n",
    "                boxwidth = (xmax - xmin) / img_width\n",
    "                boxheight = (ymax - ymin) / img_height\n",
    "            \n",
    "            \n",
    "                boxes.append([klass, centerx, centery, boxwidth, boxheight])\n",
    "\n",
    "                \n",
    "        boxes = torch.tensor(boxes)\n",
    "        img_path = os.path.join(self.files_dir, self.annotations.iloc[index, 0])\n",
    "        image = Image.open(img_path)\n",
    "        image = image.convert(\"RGB\")\n",
    "\n",
    "        if self.transform:\n",
    "            # image = self.transform(image)\n",
    "            image, boxes = self.transform(image, boxes)\n",
    "\n",
    "        # Convert To Cells\n",
    "        label_matrix = torch.zeros((self.S, self.S, self.C + 5 * self.B))\n",
    "        for box in boxes:\n",
    "            class_label, x, y, width, height = box.tolist()\n",
    "            class_label = int(class_label)\n",
    "\n",
    "            # i,j represents the cell row and cell column\n",
    "            i, j = int(self.S * y), int(self.S * x)\n",
    "            x_cell, y_cell = self.S * x - j, self.S * y - i\n",
    "\n",
    "            \"\"\"\n",
    "            Calculating the width and height of cell of bounding box,\n",
    "            relative to the cell is done by the following, with\n",
    "            width as the example:\n",
    "            \n",
    "            width_pixels = (width*self.image_width)\n",
    "            cell_pixels = (self.image_width)\n",
    "            \n",
    "            Then to find the width relative to the cell is simply:\n",
    "            width_pixels/cell_pixels, simplification leads to the\n",
    "            formulas below.\n",
    "            \"\"\"\n",
    "            width_cell, height_cell = (\n",
    "                width * self.S,\n",
    "                height * self.S,\n",
    "            )\n",
    "\n",
    "            # If no object already found for specific cell i,j\n",
    "            # Note: This means we restrict to ONE object\n",
    "            # per cell!\n",
    "#             print(i, j)\n",
    "            if label_matrix[i, j, self.C] == 0:\n",
    "                # Set that there exists an object\n",
    "                label_matrix[i, j, self.C] = 1\n",
    "\n",
    "                # Box coordinates\n",
    "                box_coordinates = torch.tensor(\n",
    "                    [x_cell, y_cell, width_cell, height_cell]\n",
    "                )\n",
    "\n",
    "                label_matrix[i, j, 4:8] = box_coordinates\n",
    "\n",
    "                # Set one hot encoding for class_label\n",
    "                label_matrix[i, j, class_label] = 1\n",
    "\n",
    "        return image, label_matrix\n"
   ]
  },
  {
   "cell_type": "markdown",
   "id": "measured-sight",
   "metadata": {
    "papermill": {
     "duration": 0.017682,
     "end_time": "2022-04-19T13:11:49.992517",
     "exception": false,
     "start_time": "2022-04-19T13:11:49.974835",
     "status": "completed"
    },
    "tags": []
   },
   "source": [
    "# **Model Loss**"
   ]
  },
  {
   "cell_type": "code",
   "execution_count": 27,
   "id": "federal-album",
   "metadata": {
    "execution": {
     "iopub.execute_input": "2022-04-19T13:11:50.047409Z",
     "iopub.status.busy": "2022-04-19T13:11:50.046524Z",
     "iopub.status.idle": "2022-04-19T13:11:50.048673Z",
     "shell.execute_reply": "2022-04-19T13:11:50.049097Z",
     "shell.execute_reply.started": "2021-06-28T12:48:38.393898Z"
    },
    "papermill": {
     "duration": 0.03825,
     "end_time": "2022-04-19T13:11:50.049217",
     "exception": false,
     "start_time": "2022-04-19T13:11:50.010967",
     "status": "completed"
    },
    "tags": []
   },
   "outputs": [],
   "source": [
    "class YoloLoss(nn.Module):\n",
    "    \"\"\"\n",
    "    Calculate the loss for yolo (v1) model\n",
    "    \"\"\"\n",
    "\n",
    "    def __init__(self, S=7, B=2, C=3):\n",
    "        super(YoloLoss, self).__init__()\n",
    "        self.mse = nn.MSELoss(reduction=\"sum\")\n",
    "\n",
    "        \"\"\"\n",
    "        S is split size of image (in paper 7),\n",
    "        B is number of boxes (in paper 2),\n",
    "        C is number of classes (in paper 20, in dataset 3),\n",
    "        \"\"\"\n",
    "        self.S = S\n",
    "        self.B = B\n",
    "        self.C = C\n",
    "\n",
    "        # These are from Yolo paper, signifying how much we should\n",
    "        # pay loss for no object (noobj) and the box coordinates (coord)\n",
    "        self.lambda_noobj = 0.5\n",
    "        self.lambda_coord = 5\n",
    "    \n",
    "    def forward(self, predictions, target):\n",
    "        # predictions are shaped (BATCH_SIZE, S*S(C+B*5) when inputted\n",
    "        predictions = predictions.reshape(-1, self.S, self.S, self.C + self.B * 5)\n",
    "\n",
    "        # Calculate IoU for the two predicted bounding boxes with target bbox\n",
    "        iou_b1 = intersection_over_union(predictions[..., self.C + 1:self.C + 5], target[..., self.C + 1:self.C + 5])\n",
    "        iou_b2 = intersection_over_union(predictions[..., self.C + 6:self.C + 10], target[..., self.C + 1:self.C + 5])\n",
    "        ious = torch.cat([iou_b1.unsqueeze(0), iou_b2.unsqueeze(0)], dim=0)\n",
    "\n",
    "        # Take the box with highest IoU out of the two prediction\n",
    "        # Note that bestbox will be indices of 0, 1 for which bbox was best\n",
    "        iou_maxes, bestbox = torch.max(ious, dim=0)\n",
    "        exists_box = target[..., self.C].unsqueeze(3)  # in paper this is Iobj_i\n",
    "\n",
    "        # ======================== #\n",
    "        #   FOR BOX COORDINATES    #\n",
    "        # ======================== #\n",
    "\n",
    "        # Set boxes with no object in them to 0. We only take out one of the two \n",
    "        # predictions, which is the one with highest Iou calculated previously.\n",
    "        box_predictions = exists_box * (\n",
    "            (\n",
    "                bestbox * predictions[..., self.C + 6:self.C + 10]\n",
    "                + (1 - bestbox) * predictions[..., self.C + 1:self.C + 5]\n",
    "            )\n",
    "        )\n",
    "\n",
    "        box_targets = exists_box * target[..., self.C + 1:self.C + 5]\n",
    "\n",
    "        # Take sqrt of width, height of boxes to ensure that\n",
    "        box_predictions[..., 2:4] = torch.sign(box_predictions[..., 2:4]) * torch.sqrt(\n",
    "            torch.abs(box_predictions[..., 2:4] + 1e-6)\n",
    "        )\n",
    "        box_targets[..., 2:4] = torch.sqrt(box_targets[..., 2:4])\n",
    "\n",
    "        box_loss = self.mse(\n",
    "            torch.flatten(box_predictions, end_dim=-2),\n",
    "            torch.flatten(box_targets, end_dim=-2),\n",
    "        )\n",
    "\n",
    "        # ==================== #\n",
    "        #   FOR OBJECT LOSS    #\n",
    "        # ==================== #\n",
    "\n",
    "        # pred_box is the confidence score for the bbox with highest IoU\n",
    "        pred_box = (\n",
    "            bestbox * predictions[..., self.C + 5:self.C + 6] + (1 - bestbox) * predictions[..., self.C:self.C + 1]\n",
    "        )\n",
    "\n",
    "        object_loss = self.mse(\n",
    "            torch.flatten(exists_box * pred_box),\n",
    "            torch.flatten(exists_box * target[..., self.C:self.C + 1]),\n",
    "        )\n",
    "\n",
    "        # ======================= #\n",
    "        #   FOR NO OBJECT LOSS    #\n",
    "        # ======================= #\n",
    "\n",
    "        #max_no_obj = torch.max(predictions[..., 20:21], predictions[..., 25:26])\n",
    "        #no_object_loss = self.mse(\n",
    "        #    torch.flatten((1 - exists_box) * max_no_obj, start_dim=1),\n",
    "        #    torch.flatten((1 - exists_box) * target[..., 20:21], start_dim=1),\n",
    "        #)\n",
    "\n",
    "        no_object_loss = self.mse(\n",
    "            torch.flatten((1 - exists_box) * predictions[..., self.C:self.C + 1], start_dim=1),\n",
    "            torch.flatten((1 - exists_box) * target[..., self.C:self.C + 1], start_dim=1),\n",
    "        )\n",
    "\n",
    "        no_object_loss += self.mse(\n",
    "            torch.flatten((1 - exists_box) * predictions[..., self.C + 5:self.C + 6], start_dim=1),\n",
    "            torch.flatten((1 - exists_box) * target[..., self.C:self.C + 1], start_dim=1)\n",
    "        )\n",
    "\n",
    "        # ================== #\n",
    "        #   FOR CLASS LOSS   #\n",
    "        # ================== #\n",
    "\n",
    "        class_loss = self.mse(\n",
    "            torch.flatten(exists_box * predictions[..., :self.C], end_dim=-2,),\n",
    "            torch.flatten(exists_box * target[..., :self.C], end_dim=-2,),\n",
    "        )\n",
    "\n",
    "        loss = (\n",
    "            self.lambda_coord * box_loss  # first two rows in paper\n",
    "            + object_loss  # third row in paper\n",
    "            + self.lambda_noobj * no_object_loss  # forth row\n",
    "            + class_loss  # fifth row\n",
    "        )\n",
    "\n",
    "        return loss"
   ]
  },
  {
   "cell_type": "markdown",
   "id": "sitting-kernel",
   "metadata": {
    "papermill": {
     "duration": 0.017647,
     "end_time": "2022-04-19T13:11:50.084706",
     "exception": false,
     "start_time": "2022-04-19T13:11:50.067059",
     "status": "completed"
    },
    "tags": []
   },
   "source": [
    "# **Model Training**"
   ]
  },
  {
   "cell_type": "code",
   "execution_count": 28,
   "id": "chemical-assistant",
   "metadata": {
    "execution": {
     "iopub.execute_input": "2022-04-19T13:11:50.193402Z",
     "iopub.status.busy": "2022-04-19T13:11:50.192346Z",
     "iopub.status.idle": "2022-04-19T13:11:50.196989Z",
     "shell.execute_reply": "2022-04-19T13:11:50.197602Z",
     "shell.execute_reply.started": "2021-06-28T13:11:43.544569Z"
    },
    "papermill": {
     "duration": 0.095032,
     "end_time": "2022-04-19T13:11:50.197792",
     "exception": false,
     "start_time": "2022-04-19T13:11:50.102760",
     "status": "completed"
    },
    "tags": []
   },
   "outputs": [
    {
     "name": "stdout",
     "output_type": "stream",
     "text": [
      "cpu\n"
     ]
    }
   ],
   "source": [
    "LEARNING_RATE = 2e-5\n",
    "DEVICE = \"cuda\" if torch.cuda.is_available() else \"cpu\"\n",
    "print(DEVICE)\n",
    "BATCH_SIZE = 16 # 64 in original paper but resource exhausted error otherwise.\n",
    "WEIGHT_DECAY = 0\n",
    "EPOCHS = 20\n",
    "NUM_WORKERS = 2\n",
    "PIN_MEMORY = True\n",
    "LOAD_MODEL = False\n",
    "LOAD_MODEL_FILE = \"model.pth\"\n",
    "device = DEVICE"
   ]
  },
  {
   "cell_type": "code",
   "execution_count": 29,
   "id": "available-hebrew",
   "metadata": {
    "execution": {
     "iopub.execute_input": "2022-04-19T13:11:50.270598Z",
     "iopub.status.busy": "2022-04-19T13:11:50.268675Z",
     "iopub.status.idle": "2022-04-19T13:11:50.271400Z",
     "shell.execute_reply": "2022-04-19T13:11:50.271900Z",
     "shell.execute_reply.started": "2021-06-28T13:11:46.406146Z"
    },
    "papermill": {
     "duration": 0.043141,
     "end_time": "2022-04-19T13:11:50.272095",
     "exception": false,
     "start_time": "2022-04-19T13:11:50.228954",
     "status": "completed"
    },
    "tags": []
   },
   "outputs": [],
   "source": [
    "def train_fn(train_loader, model, optimizer, loss_fn):\n",
    "    loop = tqdm(train_loader, leave=True)\n",
    "    mean_loss = []\n",
    "    \n",
    "    for batch_idx, (x, y) in enumerate(loop):\n",
    "        x, y = x.to(DEVICE), y.to(DEVICE)\n",
    "        out = model(x)\n",
    "        loss = loss_fn(out, y)\n",
    "        mean_loss.append(loss.item())\n",
    "        optimizer.zero_grad()\n",
    "        loss.backward()\n",
    "        optimizer.step()\n",
    "        \n",
    "        loop.set_postfix(loss = loss.item())\n",
    "        \n",
    "    print(f\"Mean loss was {sum(mean_loss) / len(mean_loss)}\")"
   ]
  },
  {
   "cell_type": "code",
   "execution_count": 30,
   "id": "handy-garage",
   "metadata": {
    "execution": {
     "iopub.execute_input": "2022-04-19T13:11:50.337963Z",
     "iopub.status.busy": "2022-04-19T13:11:50.336740Z",
     "iopub.status.idle": "2022-04-19T13:11:50.340668Z",
     "shell.execute_reply": "2022-04-19T13:11:50.341291Z",
     "shell.execute_reply.started": "2021-06-28T13:11:46.726216Z"
    },
    "papermill": {
     "duration": 0.039901,
     "end_time": "2022-04-19T13:11:50.341476",
     "exception": false,
     "start_time": "2022-04-19T13:11:50.301575",
     "status": "completed"
    },
    "tags": []
   },
   "outputs": [],
   "source": [
    "class Compose(object):\n",
    "    def __init__(self, transforms):\n",
    "        self.transforms = transforms\n",
    "\n",
    "    def __call__(self, img, bboxes):\n",
    "        for t in self.transforms:\n",
    "            img, bboxes = t(img), bboxes\n",
    "\n",
    "        return img, bboxes\n",
    "\n",
    "\n",
    "transform = Compose([transforms.Resize((448, 448)), transforms.ToTensor()])"
   ]
  },
  {
   "cell_type": "code",
   "execution_count": 31,
   "id": "favorite-liver",
   "metadata": {
    "execution": {
     "iopub.execute_input": "2022-04-19T13:11:50.409193Z",
     "iopub.status.busy": "2022-04-19T13:11:50.408412Z",
     "iopub.status.idle": "2022-04-19T13:17:55.719622Z",
     "shell.execute_reply": "2022-04-19T13:17:55.719128Z",
     "shell.execute_reply.started": "2021-06-28T13:11:47.564789Z"
    },
    "papermill": {
     "duration": 365.348949,
     "end_time": "2022-04-19T13:17:55.719762",
     "exception": false,
     "start_time": "2022-04-19T13:11:50.370813",
     "status": "completed"
    },
    "tags": []
   },
   "outputs": [
    {
     "name": "stderr",
     "output_type": "stream",
     "text": [
      " 13%|█▎        | 2/15 [00:21<02:17, 10.55s/it, loss=985]    /Users/owo/anaconda3/envs/torchenv/lib/python3.11/site-packages/PIL/Image.py:996: UserWarning: Palette images with Transparency expressed in bytes should be converted to RGBA images\n",
      "  warnings.warn(\n",
      "100%|██████████| 15/15 [02:55<00:00, 11.67s/it, loss=296]\n"
     ]
    },
    {
     "name": "stdout",
     "output_type": "stream",
     "text": [
      "Mean loss was 663.6257141113281\n"
     ]
    },
    {
     "ename": "AssertionError",
     "evalue": "Torch not compiled with CUDA enabled",
     "output_type": "error",
     "traceback": [
      "\u001b[0;31m---------------------------------------------------------------------------\u001b[0m",
      "\u001b[0;31mAssertionError\u001b[0m                            Traceback (most recent call last)",
      "Cell \u001b[0;32mIn[31], line 60\u001b[0m\n\u001b[1;32m     54\u001b[0m     save_checkpoint(checkpoint, filename\u001b[39m=\u001b[39mLOAD_MODEL_FILE)\n\u001b[1;32m     59\u001b[0m \u001b[39mif\u001b[39;00m \u001b[39m__name__\u001b[39m \u001b[39m==\u001b[39m \u001b[39m\"\u001b[39m\u001b[39m__main__\u001b[39m\u001b[39m\"\u001b[39m:\n\u001b[0;32m---> 60\u001b[0m     main()\n",
      "Cell \u001b[0;32mIn[31], line 39\u001b[0m, in \u001b[0;36mmain\u001b[0;34m()\u001b[0m\n\u001b[1;32m     36\u001b[0m \u001b[39mfor\u001b[39;00m epoch \u001b[39min\u001b[39;00m \u001b[39mrange\u001b[39m(EPOCHS):\n\u001b[1;32m     37\u001b[0m     train_fn(train_loader, model, optimizer, loss_fn)\n\u001b[0;32m---> 39\u001b[0m     pred_boxes, target_boxes \u001b[39m=\u001b[39m get_bboxes(\n\u001b[1;32m     40\u001b[0m         train_loader, model, iou_threshold\u001b[39m=\u001b[39m\u001b[39m0.5\u001b[39m, threshold\u001b[39m=\u001b[39m\u001b[39m0.4\u001b[39m\n\u001b[1;32m     41\u001b[0m     )\n\u001b[1;32m     43\u001b[0m     mean_avg_prec \u001b[39m=\u001b[39m mean_average_precision(\n\u001b[1;32m     44\u001b[0m         pred_boxes, target_boxes, iou_threshold\u001b[39m=\u001b[39m\u001b[39m0.5\u001b[39m, box_format\u001b[39m=\u001b[39m\u001b[39m\"\u001b[39m\u001b[39mmidpoint\u001b[39m\u001b[39m\"\u001b[39m\n\u001b[1;32m     45\u001b[0m     )\n\u001b[1;32m     46\u001b[0m     \u001b[39mprint\u001b[39m(\u001b[39mf\u001b[39m\u001b[39m\"\u001b[39m\u001b[39mTrain mAP: \u001b[39m\u001b[39m{\u001b[39;00mmean_avg_prec\u001b[39m}\u001b[39;00m\u001b[39m\"\u001b[39m)\n",
      "Cell \u001b[0;32mIn[24], line 18\u001b[0m, in \u001b[0;36mget_bboxes\u001b[0;34m(loader, model, iou_threshold, threshold, pred_format, box_format, device)\u001b[0m\n\u001b[1;32m     15\u001b[0m train_idx \u001b[39m=\u001b[39m \u001b[39m0\u001b[39m\n\u001b[1;32m     17\u001b[0m \u001b[39mfor\u001b[39;00m batch_idx, (x, labels) \u001b[39min\u001b[39;00m \u001b[39menumerate\u001b[39m(loader):\n\u001b[0;32m---> 18\u001b[0m     x \u001b[39m=\u001b[39m x\u001b[39m.\u001b[39mto(device)\n\u001b[1;32m     19\u001b[0m     labels \u001b[39m=\u001b[39m labels\u001b[39m.\u001b[39mto(device)\n\u001b[1;32m     21\u001b[0m     \u001b[39mwith\u001b[39;00m torch\u001b[39m.\u001b[39mno_grad():\n",
      "File \u001b[0;32m~/anaconda3/envs/torchenv/lib/python3.11/site-packages/torch/cuda/__init__.py:239\u001b[0m, in \u001b[0;36m_lazy_init\u001b[0;34m()\u001b[0m\n\u001b[1;32m    235\u001b[0m     \u001b[39mraise\u001b[39;00m \u001b[39mRuntimeError\u001b[39;00m(\n\u001b[1;32m    236\u001b[0m         \u001b[39m\"\u001b[39m\u001b[39mCannot re-initialize CUDA in forked subprocess. To use CUDA with \u001b[39m\u001b[39m\"\u001b[39m\n\u001b[1;32m    237\u001b[0m         \u001b[39m\"\u001b[39m\u001b[39mmultiprocessing, you must use the \u001b[39m\u001b[39m'\u001b[39m\u001b[39mspawn\u001b[39m\u001b[39m'\u001b[39m\u001b[39m start method\u001b[39m\u001b[39m\"\u001b[39m)\n\u001b[1;32m    238\u001b[0m \u001b[39mif\u001b[39;00m \u001b[39mnot\u001b[39;00m \u001b[39mhasattr\u001b[39m(torch\u001b[39m.\u001b[39m_C, \u001b[39m'\u001b[39m\u001b[39m_cuda_getDeviceCount\u001b[39m\u001b[39m'\u001b[39m):\n\u001b[0;32m--> 239\u001b[0m     \u001b[39mraise\u001b[39;00m \u001b[39mAssertionError\u001b[39;00m(\u001b[39m\"\u001b[39m\u001b[39mTorch not compiled with CUDA enabled\u001b[39m\u001b[39m\"\u001b[39m)\n\u001b[1;32m    240\u001b[0m \u001b[39mif\u001b[39;00m _cudart \u001b[39mis\u001b[39;00m \u001b[39mNone\u001b[39;00m:\n\u001b[1;32m    241\u001b[0m     \u001b[39mraise\u001b[39;00m \u001b[39mAssertionError\u001b[39;00m(\n\u001b[1;32m    242\u001b[0m         \u001b[39m\"\u001b[39m\u001b[39mlibcudart functions unavailable. It looks like you have a broken build?\u001b[39m\u001b[39m\"\u001b[39m)\n",
      "\u001b[0;31mAssertionError\u001b[0m: Torch not compiled with CUDA enabled"
     ]
    }
   ],
   "source": [
    "def main():\n",
    "    model = YoloV1(split_size=7, num_boxes=2, num_classes=3).to(DEVICE)\n",
    "    optimizer = optim.Adam(\n",
    "        model.parameters(), lr=LEARNING_RATE, weight_decay=WEIGHT_DECAY\n",
    "    )\n",
    "    scheduler = optim.lr_scheduler.ReduceLROnPlateau(optimizer=optimizer, factor=0.1, patience=3, mode='max', verbose=True)\n",
    "    loss_fn = YoloLoss()\n",
    "\n",
    "    if LOAD_MODEL:\n",
    "        load_checkpoint(torch.load(LOAD_MODEL_FILE), model, optimizer)\n",
    "\n",
    "    train_dataset = FruitImagesDataset(\n",
    "        transform=transform,\n",
    "        files_dir=files_dir\n",
    "    )\n",
    "\n",
    "    test_dataset = FruitImagesDataset(\n",
    "        transform=transform, \n",
    "        files_dir=test_dir\n",
    "    )\n",
    "\n",
    "    train_loader = DataLoader(\n",
    "        dataset=train_dataset,\n",
    "        batch_size=BATCH_SIZE,\n",
    "        shuffle=True,\n",
    "        drop_last=False,\n",
    "    )\n",
    "\n",
    "    test_loader = DataLoader(\n",
    "        dataset=test_dataset,\n",
    "        batch_size=BATCH_SIZE,\n",
    "        shuffle=True,\n",
    "        drop_last=False,\n",
    "    )\n",
    "\n",
    "    for epoch in range(EPOCHS):\n",
    "        train_fn(train_loader, model, optimizer, loss_fn)\n",
    "        \n",
    "        pred_boxes, target_boxes = get_bboxes(\n",
    "            train_loader, model, iou_threshold=0.5, threshold=0.4\n",
    "        )\n",
    "\n",
    "        mean_avg_prec = mean_average_precision(\n",
    "            pred_boxes, target_boxes, iou_threshold=0.5, box_format=\"midpoint\"\n",
    "        )\n",
    "        print(f\"Train mAP: {mean_avg_prec}\")\n",
    "        \n",
    "        scheduler.step(mean_avg_prec)\n",
    "    \n",
    "    checkpoint = {\n",
    "            \"state_dict\": model.state_dict(),\n",
    "            \"optimizer\": optimizer.state_dict(),\n",
    "    }\n",
    "    save_checkpoint(checkpoint, filename=LOAD_MODEL_FILE)\n",
    "    \n",
    "\n",
    "\n",
    "\n",
    "if __name__ == \"__main__\":\n",
    "    main()"
   ]
  },
  {
   "cell_type": "markdown",
   "id": "white-italic",
   "metadata": {
    "papermill": {
     "duration": 0.194733,
     "end_time": "2022-04-19T13:17:56.110550",
     "exception": false,
     "start_time": "2022-04-19T13:17:55.915817",
     "status": "completed"
    },
    "tags": []
   },
   "source": [
    "# **Predictions**"
   ]
  },
  {
   "cell_type": "code",
   "execution_count": null,
   "id": "separated-burton",
   "metadata": {
    "execution": {
     "iopub.execute_input": "2022-04-19T13:17:56.505022Z",
     "iopub.status.busy": "2022-04-19T13:17:56.504175Z",
     "iopub.status.idle": "2022-04-19T13:17:56.506938Z",
     "shell.execute_reply": "2022-04-19T13:17:56.506532Z",
     "shell.execute_reply.started": "2021-06-28T13:19:36.880209Z"
    },
    "papermill": {
     "duration": 0.203052,
     "end_time": "2022-04-19T13:17:56.507049",
     "exception": false,
     "start_time": "2022-04-19T13:17:56.303997",
     "status": "completed"
    },
    "tags": []
   },
   "outputs": [],
   "source": [
    "LOAD_MODEL = True\n",
    "EPOCHS = 1"
   ]
  },
  {
   "cell_type": "code",
   "execution_count": null,
   "id": "acute-burke",
   "metadata": {
    "execution": {
     "iopub.execute_input": "2022-04-19T13:17:57.104339Z",
     "iopub.status.busy": "2022-04-19T13:17:57.103457Z",
     "iopub.status.idle": "2022-04-19T13:18:04.334753Z",
     "shell.execute_reply": "2022-04-19T13:18:04.335768Z",
     "shell.execute_reply.started": "2021-06-28T13:19:37.984152Z"
    },
    "papermill": {
     "duration": 7.55956,
     "end_time": "2022-04-19T13:18:04.335967",
     "exception": false,
     "start_time": "2022-04-19T13:17:56.776407",
     "status": "completed"
    },
    "tags": []
   },
   "outputs": [
    {
     "name": "stderr",
     "output_type": "stream",
     "text": [
      "  0%|          | 0/4 [00:00<?, ?it/s]"
     ]
    },
    {
     "name": "stdout",
     "output_type": "stream",
     "text": [
      "=> Loading checkpoint\n"
     ]
    },
    {
     "name": "stderr",
     "output_type": "stream",
     "text": [
      "100%|██████████| 4/4 [00:03<00:00,  1.09it/s, loss=179]\n"
     ]
    },
    {
     "name": "stdout",
     "output_type": "stream",
     "text": [
      "Mean loss was 162.39057731628418\n",
      "Test mAP: 0.1251758188009262\n"
     ]
    }
   ],
   "source": [
    "def predictions():\n",
    "    model = YoloV1(split_size=7, num_boxes=2, num_classes=3).to(DEVICE)\n",
    "    optimizer = optim.Adam(\n",
    "        model.parameters(), lr=LEARNING_RATE, weight_decay=WEIGHT_DECAY\n",
    "    )\n",
    "    loss_fn = YoloLoss()\n",
    "\n",
    "    if LOAD_MODEL:\n",
    "        load_checkpoint(torch.load(LOAD_MODEL_FILE), model, optimizer)\n",
    "\n",
    "    test_dataset = FruitImagesDataset(\n",
    "        transform=transform, \n",
    "        df=test_df,\n",
    "        files_dir=test_dir\n",
    "    )\n",
    "\n",
    "    test_loader = DataLoader(\n",
    "        dataset=test_dataset,\n",
    "        batch_size=BATCH_SIZE,\n",
    "        shuffle=True,\n",
    "        drop_last=False,\n",
    "    )\n",
    "        \n",
    "    for epoch in range(EPOCHS):\n",
    "        model.eval()\n",
    "        train_fn(test_loader, model, optimizer, loss_fn)\n",
    "        \n",
    "        pred_boxes, target_boxes = get_bboxes(\n",
    "            test_loader, model, iou_threshold=0.5, threshold=0.4\n",
    "        )\n",
    "\n",
    "        mean_avg_prec = mean_average_precision(\n",
    "            pred_boxes, target_boxes, iou_threshold=0.5, box_format=\"midpoint\"\n",
    "        )\n",
    "        print(f\"Test mAP: {mean_avg_prec}\")\n",
    "\n",
    "\n",
    "predictions()"
   ]
  },
  {
   "cell_type": "code",
   "execution_count": null,
   "id": "retained-czech",
   "metadata": {
    "papermill": {
     "duration": 0.208398,
     "end_time": "2022-04-19T13:18:04.874449",
     "exception": false,
     "start_time": "2022-04-19T13:18:04.666051",
     "status": "completed"
    },
    "tags": []
   },
   "outputs": [],
   "source": []
  },
  {
   "cell_type": "markdown",
   "id": "union-slovenia",
   "metadata": {
    "papermill": {
     "duration": 0.198904,
     "end_time": "2022-04-19T13:18:05.276296",
     "exception": false,
     "start_time": "2022-04-19T13:18:05.077392",
     "status": "completed"
    },
    "tags": []
   },
   "source": [
    "Thanks for reading! If you found this helpful, feel free to upvote. "
   ]
  }
 ],
 "metadata": {
  "kernelspec": {
   "display_name": "Python 3",
   "language": "python",
   "name": "python3"
  },
  "language_info": {
   "codemirror_mode": {
    "name": "ipython",
    "version": 3
   },
   "file_extension": ".py",
   "mimetype": "text/x-python",
   "name": "python",
   "nbconvert_exporter": "python",
   "pygments_lexer": "ipython3",
   "version": "3.11.4"
  },
  "papermill": {
   "default_parameters": {},
   "duration": 386.770309,
   "end_time": "2022-04-19T13:18:07.381740",
   "environment_variables": {},
   "exception": null,
   "input_path": "__notebook__.ipynb",
   "output_path": "__notebook__.ipynb",
   "parameters": {},
   "start_time": "2022-04-19T13:11:40.611431",
   "version": "2.3.3"
  }
 },
 "nbformat": 4,
 "nbformat_minor": 5
}

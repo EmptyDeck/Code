{
 "cells": [
  {
   "cell_type": "markdown",
   "id": "60e6e9a1",
   "metadata": {},
   "source": [
    "# YOLOv3 Car Detection Training"
   ]
  },
  {
   "cell_type": "code",
   "execution_count": null,
   "id": "8233318c",
   "metadata": {},
   "outputs": [],
   "source": []
  },
  {
   "cell_type": "markdown",
   "id": "ef9f6c0a",
   "metadata": {},
   "source": [
    "## 1. Data Preparation"
   ]
  },
  {
   "cell_type": "code",
   "execution_count": null,
   "id": "bb6a5d2e",
   "metadata": {},
   "outputs": [],
   "source": []
  },
  {
   "cell_type": "markdown",
   "id": "b364521a",
   "metadata": {},
   "source": [
    "### 1.1 Split the Data"
   ]
  },
  {
   "cell_type": "code",
   "execution_count": 1,
   "id": "7c93e04f",
   "metadata": {},
   "outputs": [
    {
     "data": {
      "text/plain": [
       "['vid_5_30040.jpg',\n",
       " 'vid_5_27500.jpg',\n",
       " 'vid_5_28380.jpg',\n",
       " 'vid_5_26420.jpg',\n",
       " 'vid_5_31160.jpg']"
      ]
     },
     "execution_count": 1,
     "metadata": {},
     "output_type": "execute_result"
    }
   ],
   "source": [
    "import os\n",
    "# List the contents of the \"data\" directory\n",
    "train_path = \"cardata/images/training_images/\"\n",
    "data_directory_contents = os.listdir(train_path)\n",
    "data_directory_contents[:5]\n",
    "\n",
    "import os\n",
    "test_path = \"cardata/images/testing_images/\"\n",
    "data_directory_contents = os.listdir(test_path)\n",
    "data_directory_contents[:5]"
   ]
  },
  {
   "cell_type": "markdown",
   "id": "bb4f9aea",
   "metadata": {},
   "source": [
    "### 1.2 Prepare Data Lists"
   ]
  },
  {
   "cell_type": "code",
   "execution_count": 2,
   "id": "17d5c951",
   "metadata": {},
   "outputs": [],
   "source": [
    "import pandas as pd\n",
    "\n",
    "# Load the bounding boxes CSV file\n",
    "bounding_boxes_csv_path = \"cardata/labels/train_solution_bounding_boxes.csv\"\n",
    "bounding_boxes_df = pd.read_csv(bounding_boxes_csv_path)\n",
    "\n",
    "# Display the first few rows of the CSV file\n",
    "bounding_boxes_df.head()\n",
    "\n",
    "from PIL import Image\n",
    "import os\n",
    "\n",
    "def convert_to_yolo_format(row, img_folder_path):\n",
    "    \"\"\"\n",
    "    Convert the bounding box format to YOLO format.\n",
    "    YOLO format: <class> <x_center> <y_center> <width> <height>\n",
    "    All the values are normalized between 0 and 1 with respect to the image's width and height.\n",
    "    \"\"\"\n",
    "    # Open the image and get its size\n",
    "    img_path = os.path.join(img_folder_path, row['image'])\n",
    "    with Image.open(img_path) as img:\n",
    "        img_width, img_height = img.size\n",
    "\n",
    "    # Calculate bounding box parameters\n",
    "    x_center = (row['xmin'] + row['xmax']) / 2.0\n",
    "    y_center = (row['ymin'] + row['ymax']) / 2.0\n",
    "    width = row['xmax'] - row['xmin']\n",
    "    height = row['ymax'] - row['ymin']\n",
    "\n",
    "    # Normalize the values\n",
    "    x_center /= img_width\n",
    "    y_center /= img_height\n",
    "    width /= img_width\n",
    "    height /= img_height\n",
    "\n",
    "    # Class index (assuming a single class dataset)\n",
    "    class_index = 0\n",
    "\n",
    "    return f\"{class_index} {x_center:.6f} {y_center:.6f} {width:.6f} {height:.6f}\"\n",
    "\n",
    "# Test the function on the first row of the dataframe\n",
    "yolo_format_example = convert_to_yolo_format(bounding_boxes_df.iloc[0], train_path)\n",
    "\"yolo formate one sample : \" , yolo_format_example"
   ]
  },
  {
   "cell_type": "markdown",
   "id": "00a704f2",
   "metadata": {},
   "source": [
    "## 2. Configure YOLO"
   ]
  },
  {
   "cell_type": "code",
   "execution_count": null,
   "id": "5b56c09e",
   "metadata": {},
   "outputs": [],
   "source": []
  },
  {
   "cell_type": "markdown",
   "id": "02d888bc",
   "metadata": {},
   "source": [
    "### 2.1 Modify YOLO Configuration File"
   ]
  },
  {
   "cell_type": "code",
   "execution_count": null,
   "id": "42afa632",
   "metadata": {},
   "outputs": [],
   "source": []
  },
  {
   "cell_type": "markdown",
   "id": "815a5a2b",
   "metadata": {},
   "source": [
    "### 2.2 Create `.names` File"
   ]
  },
  {
   "cell_type": "code",
   "execution_count": null,
   "id": "3e849d4f",
   "metadata": {},
   "outputs": [],
   "source": [
    "# Create YOLO formatted annotations and save them as .txt files\n",
    "output_folder = \"cardata/labels/train/\"\n",
    "# Ensure the output directory exists\n",
    "if not os.path.exists(output_folder):\n",
    "    os.makedirs(output_folder)\n",
    "\n",
    "for _, row in bounding_boxes_df.iterrows():\n",
    "    yolo_data = convert_to_yolo_format(row,train_path)\n",
    "    \n",
    "    # Generate output file path\n",
    "    output_file_name = os.path.splitext(row['image'])[0] + '.txt'\n",
    "    output_path = os.path.join(output_folder, output_file_name)\n",
    "    \n",
    "    # Write to the file\n",
    "    with open(output_path, 'a') as file:\n",
    "        file.write(yolo_data + '\\n')\n",
    "\n",
    "# Check the first few files in the output directory\n",
    "yolo_annotations_files = os.listdir(output_folder)[:5]\n",
    "\"examples : \"  , yolo_annotations_files"
   ]
  },
  {
   "cell_type": "markdown",
   "id": "bb28ce1f",
   "metadata": {},
   "source": [
    "## 3. Train YOLO"
   ]
  },
  {
   "cell_type": "code",
   "execution_count": null,
   "id": "e97fcd4f",
   "metadata": {},
   "outputs": [],
   "source": [
    "# Training command (to be executed in a terminal with Darknet setup)\n",
    "# ./darknet detector train car.data <path_to_yolov3_cfg> <path_to_pretrained_weights>"
   ]
  },
  {
   "cell_type": "markdown",
   "id": "8af066f1",
   "metadata": {},
   "source": [
    "## 4. Evaluate the Model"
   ]
  },
  {
   "cell_type": "code",
   "execution_count": null,
   "id": "c570befd",
   "metadata": {},
   "outputs": [],
   "source": [
    "# Evaluation command (to be executed in a terminal with Darknet setup)\n",
    "# ./darknet detector map car.data <path_to_yolov3_cfg> <path_to_last_weights>"
   ]
  },
  {
   "cell_type": "markdown",
   "id": "c768f4bb",
   "metadata": {},
   "source": [
    "## Download Configuration Files"
   ]
  },
  {
   "cell_type": "code",
   "execution_count": null,
   "id": "ebd9845d",
   "metadata": {},
   "outputs": [],
   "source": [
    "print(\"Download the configuration files from the links below:\")\n",
    "print(\"1. [car.data](/mnt/data/cardata/cardata/car.data)\")\n",
    "print(\"2. [classes.names](/mnt/data/cardata/cardata/classes.names)\")\n",
    "print(\"3. [train.txt](/mnt/data/cardata/cardata/train.txt)\")\n",
    "print(\"4. [val.txt](/mnt/data/cardata/cardata/val.txt)\")"
   ]
  }
 ],
 "metadata": {
  "kernelspec": {
   "display_name": "yolo5",
   "language": "python",
   "name": "python3"
  },
  "language_info": {
   "codemirror_mode": {
    "name": "ipython",
    "version": 3
   },
   "file_extension": ".py",
   "mimetype": "text/x-python",
   "name": "python",
   "nbconvert_exporter": "python",
   "pygments_lexer": "ipython3",
   "version": "3.11.4"
  }
 },
 "nbformat": 4,
 "nbformat_minor": 5
}

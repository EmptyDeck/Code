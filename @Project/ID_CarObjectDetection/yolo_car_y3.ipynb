{
 "cells": [
  {
   "cell_type": "code",
   "execution_count": 2,
   "metadata": {},
   "outputs": [
    {
     "data": {
      "text/plain": [
       "['vid_4_18340.jpg',\n",
       " 'vid_4_2460.jpg',\n",
       " 'vid_4_10720.jpg',\n",
       " 'vid_4_14220.jpg',\n",
       " 'vid_4_6160.jpg']"
      ]
     },
     "execution_count": 2,
     "metadata": {},
     "output_type": "execute_result"
    }
   ],
   "source": [
    "import os\n",
    "current_dir = os.getcwd()  #Here\n",
    "# List the contents of the \"data\" directory\n",
    "train_path = os.path.join(current_dir, \"training_images\")\n",
    "data_directory_contents = os.listdir(train_path)\n",
    "data_directory_contents[:5]"
   ]
  },
  {
   "cell_type": "code",
   "execution_count": 3,
   "metadata": {},
   "outputs": [
    {
     "data": {
      "text/plain": [
       "'/Users/owo/HOUSE/@Code/@Project/ID_CarObjectDetection'"
      ]
     },
     "execution_count": 3,
     "metadata": {},
     "output_type": "execute_result"
    }
   ],
   "source": [
    "current_dir"
   ]
  },
  {
   "cell_type": "code",
   "execution_count": 4,
   "metadata": {},
   "outputs": [
    {
     "data": {
      "text/plain": [
       "['vid_5_30040.jpg',\n",
       " 'vid_5_27500.jpg',\n",
       " 'vid_5_28380.jpg',\n",
       " 'vid_5_26420.jpg',\n",
       " 'vid_5_31160.jpg']"
      ]
     },
     "execution_count": 4,
     "metadata": {},
     "output_type": "execute_result"
    }
   ],
   "source": [
    "import os\n",
    "current_dir = os.getcwd()  #Here\n",
    "# List the contents of the \"data\" directory\n",
    "test_path = os.path.join(current_dir, \"testing_images\")\n",
    "data_directory_contents = os.listdir(test_path)\n",
    "data_directory_contents[:5]"
   ]
  },
  {
   "cell_type": "code",
   "execution_count": 5,
   "metadata": {},
   "outputs": [
    {
     "data": {
      "text/html": [
       "<div>\n",
       "<style scoped>\n",
       "    .dataframe tbody tr th:only-of-type {\n",
       "        vertical-align: middle;\n",
       "    }\n",
       "\n",
       "    .dataframe tbody tr th {\n",
       "        vertical-align: top;\n",
       "    }\n",
       "\n",
       "    .dataframe thead th {\n",
       "        text-align: right;\n",
       "    }\n",
       "</style>\n",
       "<table border=\"1\" class=\"dataframe\">\n",
       "  <thead>\n",
       "    <tr style=\"text-align: right;\">\n",
       "      <th></th>\n",
       "      <th>image</th>\n",
       "      <th>xmin</th>\n",
       "      <th>ymin</th>\n",
       "      <th>xmax</th>\n",
       "      <th>ymax</th>\n",
       "    </tr>\n",
       "  </thead>\n",
       "  <tbody>\n",
       "    <tr>\n",
       "      <th>0</th>\n",
       "      <td>vid_4_1000.jpg</td>\n",
       "      <td>281.259045</td>\n",
       "      <td>187.035071</td>\n",
       "      <td>327.727931</td>\n",
       "      <td>223.225547</td>\n",
       "    </tr>\n",
       "    <tr>\n",
       "      <th>1</th>\n",
       "      <td>vid_4_10000.jpg</td>\n",
       "      <td>15.163531</td>\n",
       "      <td>187.035071</td>\n",
       "      <td>120.329957</td>\n",
       "      <td>236.430180</td>\n",
       "    </tr>\n",
       "    <tr>\n",
       "      <th>2</th>\n",
       "      <td>vid_4_10040.jpg</td>\n",
       "      <td>239.192475</td>\n",
       "      <td>176.764801</td>\n",
       "      <td>361.968162</td>\n",
       "      <td>236.430180</td>\n",
       "    </tr>\n",
       "    <tr>\n",
       "      <th>3</th>\n",
       "      <td>vid_4_10020.jpg</td>\n",
       "      <td>496.483358</td>\n",
       "      <td>172.363256</td>\n",
       "      <td>630.020260</td>\n",
       "      <td>231.539575</td>\n",
       "    </tr>\n",
       "    <tr>\n",
       "      <th>4</th>\n",
       "      <td>vid_4_10060.jpg</td>\n",
       "      <td>16.630970</td>\n",
       "      <td>186.546010</td>\n",
       "      <td>132.558611</td>\n",
       "      <td>238.386422</td>\n",
       "    </tr>\n",
       "  </tbody>\n",
       "</table>\n",
       "</div>"
      ],
      "text/plain": [
       "             image        xmin        ymin        xmax        ymax\n",
       "0   vid_4_1000.jpg  281.259045  187.035071  327.727931  223.225547\n",
       "1  vid_4_10000.jpg   15.163531  187.035071  120.329957  236.430180\n",
       "2  vid_4_10040.jpg  239.192475  176.764801  361.968162  236.430180\n",
       "3  vid_4_10020.jpg  496.483358  172.363256  630.020260  231.539575\n",
       "4  vid_4_10060.jpg   16.630970  186.546010  132.558611  238.386422"
      ]
     },
     "execution_count": 5,
     "metadata": {},
     "output_type": "execute_result"
    }
   ],
   "source": [
    "import pandas as pd\n",
    "\n",
    "# Load the bounding boxes CSV file\n",
    "bounding_boxes_csv_path = os.path.join(current_dir, 'train_solution_bounding_boxes.csv')\n",
    "bounding_boxes_df = pd.read_csv(bounding_boxes_csv_path)\n",
    "\n",
    "# Display the first few rows of the CSV file\n",
    "bounding_boxes_df.head()"
   ]
  },
  {
   "cell_type": "markdown",
   "metadata": {},
   "source": [
    "# To YOLO Format"
   ]
  },
  {
   "cell_type": "code",
   "execution_count": 6,
   "metadata": {},
   "outputs": [
    {
     "data": {
      "text/plain": [
       "'0 0.450434 0.539817 0.068741 0.095238'"
      ]
     },
     "execution_count": 6,
     "metadata": {},
     "output_type": "execute_result"
    }
   ],
   "source": [
    "from PIL import Image\n",
    "import os\n",
    "\n",
    "def convert_to_yolo_format(row, img_folder_path):\n",
    "    \"\"\"\n",
    "    Convert the bounding box format to YOLO format.\n",
    "    YOLO format: <class> <x_center> <y_center> <width> <height>\n",
    "    All the values are normalized between 0 and 1 with respect to the image's width and height.\n",
    "    \"\"\"\n",
    "    # Open the image and get its size\n",
    "    img_path = os.path.join(img_folder_path, row['image'])\n",
    "    with Image.open(img_path) as img:\n",
    "        img_width, img_height = img.size\n",
    "\n",
    "    # Calculate bounding box parameters\n",
    "    x_center = (row['xmin'] + row['xmax']) / 2.0\n",
    "    y_center = (row['ymin'] + row['ymax']) / 2.0\n",
    "    width = row['xmax'] - row['xmin']\n",
    "    height = row['ymax'] - row['ymin']\n",
    "\n",
    "    # Normalize the values\n",
    "    x_center /= img_width\n",
    "    y_center /= img_height\n",
    "    width /= img_width\n",
    "    height /= img_height\n",
    "\n",
    "    # Class index (assuming a single class dataset)\n",
    "    class_index = 0\n",
    "\n",
    "    return f\"{class_index} {x_center:.6f} {y_center:.6f} {width:.6f} {height:.6f}\"\n",
    "\n",
    "# Test the function on the first row of the dataframe\n",
    "yolo_format_example = convert_to_yolo_format(bounding_boxes_df.iloc[0], train_path)\n",
    "yolo_format_example"
   ]
  },
  {
   "cell_type": "code",
   "execution_count": 7,
   "metadata": {},
   "outputs": [
    {
     "data": {
      "text/plain": [
       "['vid_4_740.txt',\n",
       " 'vid_4_6260.txt',\n",
       " 'vid_4_13840.txt',\n",
       " 'vid_4_15000.txt',\n",
       " 'vid_4_21400.txt']"
      ]
     },
     "execution_count": 7,
     "metadata": {},
     "output_type": "execute_result"
    }
   ],
   "source": [
    "# Create YOLO formatted annotations and save them as .txt files\n",
    "output_folder = 'yolo3_annotations'\n",
    "output_folder = os.path.join(current_dir,output_folder)\n",
    "# Ensure the output directory exists\n",
    "if not os.path.exists(output_folder):\n",
    "    os.makedirs(output_folder)\n",
    "\n",
    "for _, row in bounding_boxes_df.iterrows():\n",
    "    yolo_data = convert_to_yolo_format(row,train_path)\n",
    "    \n",
    "    # Generate output file path\n",
    "    output_file_name = os.path.splitext(row['image'])[0] + '.txt'\n",
    "    output_path = os.path.join(output_folder, output_file_name)\n",
    "    \n",
    "    # Write to the file\n",
    "    with open(output_path, 'a') as file:\n",
    "        file.write(yolo_data + '\\n')\n",
    "\n",
    "# Check the first few files in the output directory\n",
    "yolo_annotations_files = os.listdir(output_folder)[:5]\n",
    "yolo_annotations_files"
   ]
  },
  {
   "cell_type": "code",
   "execution_count": 8,
   "metadata": {},
   "outputs": [],
   "source": [
    "classes_path = os.path.join(current_dir, \"classes.names\")\n",
    "\n",
    "# Create classes.names file\n",
    "with open(classes_path, 'w') as file:\n",
    "    file.write('car\\n')  # Assuming \"자동차\" is the class name for cars"
   ]
  },
  {
   "cell_type": "code",
   "execution_count": 9,
   "metadata": {},
   "outputs": [],
   "source": [
    "import random\n",
    "\n",
    "# List all images in the training directory\n",
    "all_images = [f for f in os.listdir(train_path) if f.endswith('.jpg')]\n",
    "random.shuffle(all_images)\n",
    "\n",
    "# Split the images into train and validation sets (80-20 split)\n",
    "split_index = int(0.8 * len(all_images))\n",
    "train_images = all_images[:split_index]\n",
    "valid_images = all_images[split_index:]\n",
    "\n",
    "# Save the list of train and validation images to train.txt and valid.txt\n",
    "with open(os.path.join(current_dir, \"yolo3_annotations\", \"train.txt\"), 'w') as file:\n",
    "    for img in train_images:\n",
    "        file.write(os.path.join(\"training_images\", img) + '\\n')\n",
    "\n",
    "with open(os.path.join(current_dir, \"yolo3_annotations\", \"valid.txt\"), 'w') as file:\n",
    "    for img in valid_images:\n",
    "        file.write(os.path.join(\"training_images\", img) + '\\n')\n",
    "\n",
    "num_train_images = len(train_images)\n",
    "num_valid_images = len(valid_images)"
   ]
  },
  {
   "cell_type": "code",
   "execution_count": 10,
   "metadata": {},
   "outputs": [
    {
     "data": {
      "text/plain": [
       "'/Users/owo/HOUSE/@Code/@Project/ID_CarObjectDetection/yolov3-custom.cfg'"
      ]
     },
     "execution_count": 10,
     "metadata": {},
     "output_type": "execute_result"
    }
   ],
   "source": [
    "# Creating the yolov3-custom.cfg content\n",
    "cfg_content = \"\"\"\n",
    "[net]\n",
    "# Training\n",
    "batch=64\n",
    "subdivisions=16\n",
    "width=416\n",
    "height=416\n",
    "channels=3\n",
    "momentum=0.9\n",
    "decay=0.0005\n",
    "angle=0\n",
    "saturation = 1.5\n",
    "exposure = 1.5\n",
    "hue=.1\n",
    "\n",
    "learning_rate=0.001\n",
    "burn_in=1000\n",
    "max_batches = 2000\n",
    "policy=steps\n",
    "steps=1600,1800\n",
    "scales=.1,.1\n",
    "\n",
    "# ...\n",
    "\n",
    "[convolutional]\n",
    "size=1\n",
    "stride=1\n",
    "pad=1\n",
    "filters=18\n",
    "activation=linear\n",
    "\n",
    "[yolo]\n",
    "mask = 0,1,2\n",
    "anchors = 10,13, 16,30, 33,23, 30,61, 62,45, 59,119, 116,90, 156,198, 373,326\n",
    "classes=1\n",
    "num=9\n",
    "jitter=.3\n",
    "ignore_thresh = .7\n",
    "truth_thresh = 1\n",
    "random=1\n",
    "\"\"\"\n",
    "\n",
    "# Saving the cfg content to a file\n",
    "cfg_path = os.path.join(current_dir, \"yolov3-custom.cfg\")\n",
    "with open(cfg_path, 'w') as cfg_file:\n",
    "    cfg_file.write(cfg_content)\n",
    "\n",
    "cfg_path"
   ]
  },
  {
   "cell_type": "code",
   "execution_count": 11,
   "metadata": {},
   "outputs": [
    {
     "data": {
      "text/plain": [
       "'/Users/owo/HOUSE/@Code/@Project/ID_CarObjectDetection/yolo3_annotations/data.yaml'"
      ]
     },
     "execution_count": 11,
     "metadata": {},
     "output_type": "execute_result"
    }
   ],
   "source": [
    "\n",
    "# Creating the data.yaml content\n",
    "data_yaml_content = \"\"\"\n",
    "train: yolo3_annotations/train.txt\n",
    "val: yolo3_annotations/valid.txt\n",
    "\n",
    "nc: 1\n",
    "names: ['car']\n",
    "\"\"\"\n",
    "\n",
    "# Saving the yaml content to a file\n",
    "data_yaml_path = os.path.join(current_dir, \"yolo3_annotations\", \"data.yaml\")\n",
    "with open(data_yaml_path, 'w') as yaml_file:\n",
    "    yaml_file.write(data_yaml_content)\n",
    "\n",
    "data_yaml_path"
   ]
  },
  {
   "cell_type": "code",
   "execution_count": 14,
   "metadata": {},
   "outputs": [
    {
     "name": "stdout",
     "output_type": "stream",
     "text": [
      "\u001b[34m\u001b[1mtrain: \u001b[0mweights=yolov3.pt, cfg=/Users/owo/HOUSE/@Code/@Project/ID_CarObjectDetection/yolov3-custom.cfg, data=/Users/owo/HOUSE/@Code/@Project/ID_CarObjectDetection/yolo3_annotations/data.yaml, hyp=yolov3/data/hyps/hyp.scratch-low.yaml, epochs=1, batch_size=16, imgsz=416, rect=False, resume=False, nosave=False, noval=False, noautoanchor=False, noplots=False, evolve=None, bucket=, cache=None, image_weights=False, device=, multi_scale=False, single_cls=False, optimizer=SGD, sync_bn=False, workers=8, project=yolov3/runs/train, name=exp, exist_ok=False, quad=False, cos_lr=False, label_smoothing=0.0, patience=100, freeze=[0], save_period=-1, seed=0, local_rank=-1, entity=None, upload_dataset=False, bbox_interval=-1, artifact_alias=latest\n",
      "remote: Enumerating objects: 15921, done.\u001b[K\n",
      "remote: Counting objects: 100% (41/41), done.\u001b[K\n",
      "remote: Compressing objects: 100% (28/28), done.\u001b[K\n",
      "remote: Total 15921 (delta 17), reused 28 (delta 13), pack-reused 15880\u001b[K\n",
      "Receiving objects: 100% (15921/15921), 14.66 MiB | 9.36 MiB/s, done.\n",
      "Resolving deltas: 100% (10916/10916), done.\n",
      "From https://github.com/ultralytics/yolov5\n",
      " * [new branch]        add/weights_dir   -> ultralytics/add/weights_dir\n",
      " * [new branch]        benchmarks        -> ultralytics/benchmarks\n",
      " * [new branch]        exp/scaleFill     -> ultralytics/exp/scaleFill\n",
      " * [new branch]        exp12             -> ultralytics/exp12\n",
      " * [new branch]        exp13             -> ultralytics/exp13\n",
      " * [new branch]        exp13-nosoft      -> ultralytics/exp13-nosoft\n",
      " * [new branch]        exp13-soft        -> ultralytics/exp13-soft\n",
      " * [new branch]        fix/rgb_albumentations -> ultralytics/fix/rgb_albumentations\n",
      " * [new branch]        ghost             -> ultralytics/ghost\n",
      " * [new branch]        master            -> ultralytics/master\n",
      " * [new branch]        study_activations -> ultralytics/study_activations\n",
      " * [new branch]        ultralytics/HUB   -> ultralytics/ultralytics/HUB\n",
      " * [new branch]        update/cls-album  -> ultralytics/update/cls-album\n",
      " * [new branch]        update/textlogger -> ultralytics/update/textlogger\n",
      " * [new branch]        update/threaded   -> ultralytics/update/threaded\n",
      " * [new tag]           v3.1              -> v3.1\n",
      " * [new tag]           v4.0              -> v4.0\n",
      " * [new tag]           v5.0              -> v5.0\n",
      " * [new tag]           v6.0              -> v6.0\n",
      " * [new tag]           v6.1              -> v6.1\n",
      " * [new tag]           v6.2              -> v6.2\n",
      " * [new tag]           v7.0              -> v7.0\n",
      "\u001b[34m\u001b[1mgithub: \u001b[0m⚠️ YOLOv3 is out of date by 2694 commits. Use 'git pull ultralytics master' or 'git clone https://github.com/ultralytics/yolov5' to update.\n",
      "Traceback (most recent call last):\n",
      "  File \"/Users/owo/HOUSE/@Code/@Project/ID_CarObjectDetection/yolov3/train.py\", line 647, in <module>\n",
      "    main(opt)\n",
      "  File \"/Users/owo/HOUSE/@Code/@Project/ID_CarObjectDetection/yolov3/train.py\", line 511, in main\n",
      "    check_file(opt.data), check_yaml(opt.cfg), check_yaml(opt.hyp), str(opt.weights), str(opt.project)  # checks\n",
      "                          ^^^^^^^^^^^^^^^^^^^\n",
      "  File \"/Users/owo/HOUSE/@Code/@Project/ID_CarObjectDetection/yolov3/utils/general.py\", line 432, in check_yaml\n",
      "    return check_file(file, suffix)\n",
      "           ^^^^^^^^^^^^^^^^^^^^^^^^\n",
      "  File \"/Users/owo/HOUSE/@Code/@Project/ID_CarObjectDetection/yolov3/utils/general.py\", line 437, in check_file\n",
      "    check_suffix(file, suffix)  # optional\n",
      "    ^^^^^^^^^^^^^^^^^^^^^^^^^^\n",
      "  File \"/Users/owo/HOUSE/@Code/@Project/ID_CarObjectDetection/yolov3/utils/general.py\", line 427, in check_suffix\n",
      "    assert s in suffix, f'{msg}{f} acceptable suffix is {suffix}'\n",
      "           ^^^^^^^^^^^\n",
      "AssertionError: /Users/owo/HOUSE/@Code/@Project/ID_CarObjectDetection/yolov3-custom.cfg acceptable suffix is ('.yaml', '.yml')\n"
     ]
    }
   ],
   "source": [
    "MY_PATH=\"/Users/owo/HOUSE/@Code/@Project/ID_CarObjectDetection/yolov3\"\n",
    "CFG_PATH=\"/Users/owo/HOUSE/@Code/@Project/ID_CarObjectDetection/yolov3-custom.cfg\"\n",
    "DATA_PATH=\"/Users/owo/HOUSE/@Code/@Project/ID_CarObjectDetection/yolo3_annotations/data.yaml\"\n",
    "! python $MY_PATH/train.py --img 416 --batch 16 --epochs 1 --data $DATA_PATH --cfg $CFG_PATH --weights yolov3.pt\n"
   ]
  },
  {
   "cell_type": "code",
   "execution_count": null,
   "metadata": {},
   "outputs": [],
   "source": []
  }
 ],
 "metadata": {
  "kernelspec": {
   "display_name": "torchenv",
   "language": "python",
   "name": "python3"
  },
  "language_info": {
   "codemirror_mode": {
    "name": "ipython",
    "version": 3
   },
   "file_extension": ".py",
   "mimetype": "text/x-python",
   "name": "python",
   "nbconvert_exporter": "python",
   "pygments_lexer": "ipython3",
   "version": "3.11.4"
  },
  "orig_nbformat": 4
 },
 "nbformat": 4,
 "nbformat_minor": 2
}

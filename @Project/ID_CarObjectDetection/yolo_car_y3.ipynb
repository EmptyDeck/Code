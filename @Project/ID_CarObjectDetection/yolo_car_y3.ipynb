{
 "cells": [
  {
   "cell_type": "code",
   "execution_count": 16,
   "metadata": {},
   "outputs": [
    {
     "data": {
      "text/plain": [
       "['vid_4_18340.jpg',\n",
       " 'vid_4_2460.jpg',\n",
       " 'vid_4_10720.jpg',\n",
       " 'vid_4_14220.jpg',\n",
       " 'vid_4_6160.jpg']"
      ]
     },
     "execution_count": 16,
     "metadata": {},
     "output_type": "execute_result"
    }
   ],
   "source": [
    "import os\n",
    "current_dir = os.getcwd()  #Here\n",
    "# List the contents of the \"data\" directory\n",
    "train_path = os.path.join(current_dir, \"training_images\")\n",
    "data_directory_contents = os.listdir(train_path)\n",
    "data_directory_contents[:5]"
   ]
  },
  {
   "cell_type": "code",
   "execution_count": 17,
   "metadata": {},
   "outputs": [
    {
     "data": {
      "text/plain": [
       "'/Users/owo/HOUSE/@Code/@Project/ID_CarObjectDetection'"
      ]
     },
     "execution_count": 17,
     "metadata": {},
     "output_type": "execute_result"
    }
   ],
   "source": [
    "current_dir"
   ]
  },
  {
   "cell_type": "code",
   "execution_count": 18,
   "metadata": {},
   "outputs": [
    {
     "data": {
      "text/plain": [
       "['vid_5_30040.jpg',\n",
       " 'vid_5_27500.jpg',\n",
       " 'vid_5_28380.jpg',\n",
       " 'vid_5_26420.jpg',\n",
       " 'vid_5_31160.jpg']"
      ]
     },
     "execution_count": 18,
     "metadata": {},
     "output_type": "execute_result"
    }
   ],
   "source": [
    "import os\n",
    "current_dir = os.getcwd()  #Here\n",
    "# List the contents of the \"data\" directory\n",
    "test_path = os.path.join(current_dir, \"testing_images\")\n",
    "data_directory_contents = os.listdir(test_path)\n",
    "data_directory_contents[:5]"
   ]
  },
  {
   "cell_type": "code",
   "execution_count": 19,
   "metadata": {},
   "outputs": [
    {
     "data": {
      "text/html": [
       "<div>\n",
       "<style scoped>\n",
       "    .dataframe tbody tr th:only-of-type {\n",
       "        vertical-align: middle;\n",
       "    }\n",
       "\n",
       "    .dataframe tbody tr th {\n",
       "        vertical-align: top;\n",
       "    }\n",
       "\n",
       "    .dataframe thead th {\n",
       "        text-align: right;\n",
       "    }\n",
       "</style>\n",
       "<table border=\"1\" class=\"dataframe\">\n",
       "  <thead>\n",
       "    <tr style=\"text-align: right;\">\n",
       "      <th></th>\n",
       "      <th>image</th>\n",
       "      <th>xmin</th>\n",
       "      <th>ymin</th>\n",
       "      <th>xmax</th>\n",
       "      <th>ymax</th>\n",
       "    </tr>\n",
       "  </thead>\n",
       "  <tbody>\n",
       "    <tr>\n",
       "      <th>0</th>\n",
       "      <td>vid_4_1000.jpg</td>\n",
       "      <td>281.259045</td>\n",
       "      <td>187.035071</td>\n",
       "      <td>327.727931</td>\n",
       "      <td>223.225547</td>\n",
       "    </tr>\n",
       "    <tr>\n",
       "      <th>1</th>\n",
       "      <td>vid_4_10000.jpg</td>\n",
       "      <td>15.163531</td>\n",
       "      <td>187.035071</td>\n",
       "      <td>120.329957</td>\n",
       "      <td>236.430180</td>\n",
       "    </tr>\n",
       "    <tr>\n",
       "      <th>2</th>\n",
       "      <td>vid_4_10040.jpg</td>\n",
       "      <td>239.192475</td>\n",
       "      <td>176.764801</td>\n",
       "      <td>361.968162</td>\n",
       "      <td>236.430180</td>\n",
       "    </tr>\n",
       "    <tr>\n",
       "      <th>3</th>\n",
       "      <td>vid_4_10020.jpg</td>\n",
       "      <td>496.483358</td>\n",
       "      <td>172.363256</td>\n",
       "      <td>630.020260</td>\n",
       "      <td>231.539575</td>\n",
       "    </tr>\n",
       "    <tr>\n",
       "      <th>4</th>\n",
       "      <td>vid_4_10060.jpg</td>\n",
       "      <td>16.630970</td>\n",
       "      <td>186.546010</td>\n",
       "      <td>132.558611</td>\n",
       "      <td>238.386422</td>\n",
       "    </tr>\n",
       "  </tbody>\n",
       "</table>\n",
       "</div>"
      ],
      "text/plain": [
       "             image        xmin        ymin        xmax        ymax\n",
       "0   vid_4_1000.jpg  281.259045  187.035071  327.727931  223.225547\n",
       "1  vid_4_10000.jpg   15.163531  187.035071  120.329957  236.430180\n",
       "2  vid_4_10040.jpg  239.192475  176.764801  361.968162  236.430180\n",
       "3  vid_4_10020.jpg  496.483358  172.363256  630.020260  231.539575\n",
       "4  vid_4_10060.jpg   16.630970  186.546010  132.558611  238.386422"
      ]
     },
     "execution_count": 19,
     "metadata": {},
     "output_type": "execute_result"
    }
   ],
   "source": [
    "import pandas as pd\n",
    "\n",
    "# Load the bounding boxes CSV file\n",
    "bounding_boxes_csv_path = os.path.join(current_dir, 'train_solution_bounding_boxes.csv')\n",
    "bounding_boxes_df = pd.read_csv(bounding_boxes_csv_path)\n",
    "\n",
    "# Display the first few rows of the CSV file\n",
    "bounding_boxes_df.head()"
   ]
  },
  {
   "cell_type": "markdown",
   "metadata": {},
   "source": [
    "# To YOLO Format"
   ]
  },
  {
   "cell_type": "code",
   "execution_count": 20,
   "metadata": {},
   "outputs": [
    {
     "data": {
      "text/plain": [
       "'0 0.450434 0.539817 0.068741 0.095238'"
      ]
     },
     "execution_count": 20,
     "metadata": {},
     "output_type": "execute_result"
    }
   ],
   "source": [
    "from PIL import Image\n",
    "import os\n",
    "\n",
    "def convert_to_yolo_format(row, img_folder_path):\n",
    "    \"\"\"\n",
    "    Convert the bounding box format to YOLO format.\n",
    "    YOLO format: <class> <x_center> <y_center> <width> <height>\n",
    "    All the values are normalized between 0 and 1 with respect to the image's width and height.\n",
    "    \"\"\"\n",
    "    # Open the image and get its size\n",
    "    img_path = os.path.join(img_folder_path, row['image'])\n",
    "    with Image.open(img_path) as img:\n",
    "        img_width, img_height = img.size\n",
    "\n",
    "    # Calculate bounding box parameters\n",
    "    x_center = (row['xmin'] + row['xmax']) / 2.0\n",
    "    y_center = (row['ymin'] + row['ymax']) / 2.0\n",
    "    width = row['xmax'] - row['xmin']\n",
    "    height = row['ymax'] - row['ymin']\n",
    "\n",
    "    # Normalize the values\n",
    "    x_center /= img_width\n",
    "    y_center /= img_height\n",
    "    width /= img_width\n",
    "    height /= img_height\n",
    "\n",
    "    # Class index (assuming a single class dataset)\n",
    "    class_index = 0\n",
    "\n",
    "    return f\"{class_index} {x_center:.6f} {y_center:.6f} {width:.6f} {height:.6f}\"\n",
    "\n",
    "# Test the function on the first row of the dataframe\n",
    "yolo_format_example = convert_to_yolo_format(bounding_boxes_df.iloc[0], train_path)\n",
    "yolo_format_example"
   ]
  },
  {
   "cell_type": "code",
   "execution_count": 21,
   "metadata": {},
   "outputs": [
    {
     "data": {
      "text/plain": [
       "['vid_4_740.txt',\n",
       " 'vid_4_6260.txt',\n",
       " 'vid_4_13840.txt',\n",
       " 'vid_4_15000.txt',\n",
       " 'vid_4_21400.txt']"
      ]
     },
     "execution_count": 21,
     "metadata": {},
     "output_type": "execute_result"
    }
   ],
   "source": [
    "# Create YOLO formatted annotations and save them as .txt files\n",
    "output_folder = 'yolo3_annotations'\n",
    "output_folder = os.path.join(current_dir,output_folder)\n",
    "# Ensure the output directory exists\n",
    "if not os.path.exists(output_folder):\n",
    "    os.makedirs(output_folder)\n",
    "\n",
    "for _, row in bounding_boxes_df.iterrows():\n",
    "    yolo_data = convert_to_yolo_format(row,train_path)\n",
    "    \n",
    "    # Generate output file path\n",
    "    output_file_name = os.path.splitext(row['image'])[0] + '.txt'\n",
    "    output_path = os.path.join(output_folder, output_file_name)\n",
    "    \n",
    "    # Write to the file\n",
    "    with open(output_path, 'a') as file:\n",
    "        file.write(yolo_data + '\\n')\n",
    "\n",
    "# Check the first few files in the output directory\n",
    "yolo_annotations_files = os.listdir(output_folder)[:5]\n",
    "yolo_annotations_files"
   ]
  },
  {
   "cell_type": "code",
   "execution_count": 22,
   "metadata": {},
   "outputs": [],
   "source": [
    "classes_path = os.path.join(current_dir, \"classes.names\")\n",
    "\n",
    "# Create classes.names file\n",
    "with open(classes_path, 'w') as file:\n",
    "    file.write('car\\n')  # Assuming \"자동차\" is the class name for cars"
   ]
  },
  {
   "cell_type": "code",
   "execution_count": 23,
   "metadata": {},
   "outputs": [],
   "source": [
    "import random\n",
    "\n",
    "# List all images in the training directory\n",
    "all_images = [f for f in os.listdir(train_path) if f.endswith('.jpg')]\n",
    "random.shuffle(all_images)\n",
    "\n",
    "# Split the images into train and validation sets (80-20 split)\n",
    "split_index = int(0.8 * len(all_images))\n",
    "train_images = all_images[:split_index]\n",
    "valid_images = all_images[split_index:]\n",
    "\n",
    "# Save the list of train and validation images to train.txt and valid.txt\n",
    "with open(os.path.join(current_dir, \"yolo3_annotations\", \"train.txt\"), 'w') as file:\n",
    "    for img in train_images:\n",
    "        file.write(os.path.join(\"training_images\", img) + '\\n')\n",
    "\n",
    "with open(os.path.join(current_dir, \"yolo3_annotations\", \"valid.txt\"), 'w') as file:\n",
    "    for img in valid_images:\n",
    "        file.write(os.path.join(\"training_images\", img) + '\\n')\n",
    "\n",
    "num_train_images = len(train_images)\n",
    "num_valid_images = len(valid_images)"
   ]
  },
  {
   "cell_type": "code",
   "execution_count": 24,
   "metadata": {},
   "outputs": [
    {
     "data": {
      "text/plain": [
       "'/Users/owo/HOUSE/@Code/@Project/ID_CarObjectDetection/yolov3-custom.cfg'"
      ]
     },
     "execution_count": 24,
     "metadata": {},
     "output_type": "execute_result"
    }
   ],
   "source": [
    "# Creating the yolov3-custom.cfg content\n",
    "cfg_content = \"\"\"\n",
    "[net]\n",
    "# Training\n",
    "batch=64\n",
    "subdivisions=16\n",
    "width=416\n",
    "height=416\n",
    "channels=3\n",
    "momentum=0.9\n",
    "decay=0.0005\n",
    "angle=0\n",
    "saturation = 1.5\n",
    "exposure = 1.5\n",
    "hue=.1\n",
    "\n",
    "learning_rate=0.001\n",
    "burn_in=1000\n",
    "max_batches = 2000\n",
    "policy=steps\n",
    "steps=1600,1800\n",
    "scales=.1,.1\n",
    "\n",
    "# ...\n",
    "\n",
    "[convolutional]\n",
    "size=1\n",
    "stride=1\n",
    "pad=1\n",
    "filters=18\n",
    "activation=linear\n",
    "\n",
    "[yolo]\n",
    "mask = 0,1,2\n",
    "anchors = 10,13, 16,30, 33,23, 30,61, 62,45, 59,119, 116,90, 156,198, 373,326\n",
    "classes=1\n",
    "num=9\n",
    "jitter=.3\n",
    "ignore_thresh = .7\n",
    "truth_thresh = 1\n",
    "random=1\n",
    "\"\"\"\n",
    "\n",
    "# Saving the cfg content to a file\n",
    "cfg_path = os.path.join(current_dir, \"yolov3-custom.cfg\")\n",
    "with open(cfg_path, 'w') as cfg_file:\n",
    "    cfg_file.write(cfg_content)\n",
    "\n",
    "cfg_path"
   ]
  },
  {
   "cell_type": "code",
   "execution_count": 25,
   "metadata": {},
   "outputs": [
    {
     "data": {
      "text/plain": [
       "'/Users/owo/HOUSE/@Code/@Project/ID_CarObjectDetection/yolo3_annotations/data.yaml'"
      ]
     },
     "execution_count": 25,
     "metadata": {},
     "output_type": "execute_result"
    }
   ],
   "source": [
    "\n",
    "# Creating the data.yaml content\n",
    "data_yaml_content = \"\"\"\n",
    "train: yolo3_annotations/train.txt\n",
    "val: yolo3_annotations/valid.txt\n",
    "\n",
    "nc: 1\n",
    "names: ['car']\n",
    "\"\"\"\n",
    "\n",
    "# Saving the yaml content to a file\n",
    "data_yaml_path = os.path.join(current_dir, \"yolo3_annotations\", \"data.yaml\")\n",
    "with open(data_yaml_path, 'w') as yaml_file:\n",
    "    yaml_file.write(data_yaml_content)\n",
    "\n",
    "data_yaml_path"
   ]
  },
  {
   "cell_type": "code",
   "execution_count": 1,
   "metadata": {},
   "outputs": [
    {
     "name": "stdout",
     "output_type": "stream",
     "text": [
      "\u001b[34m\u001b[1mtrain: \u001b[0mweights=yolov3.pt, cfg=, data=/Users/owo/HOUSE/@Code/@Project/ID_CarObjectDetection/yolo3_annotations/data.yaml, hyp=yolov3/data/hyps/hyp.scratch-low.yaml, epochs=1, batch_size=16, imgsz=416, rect=False, resume=False, nosave=False, noval=False, noautoanchor=False, noplots=False, evolve=None, bucket=, cache=None, image_weights=False, device=, multi_scale=False, single_cls=False, optimizer=SGD, sync_bn=False, workers=8, project=yolov3/runs/train, name=exp, exist_ok=False, quad=False, cos_lr=False, label_smoothing=0.0, patience=100, freeze=[0], save_period=-1, seed=0, local_rank=-1, entity=None, upload_dataset=False, bbox_interval=-1, artifact_alias=latest\n",
      "\u001b[34m\u001b[1mgithub: \u001b[0m⚠️ YOLOv3 is out of date by 2694 commits. Use 'git pull ultralytics master' or 'git clone https://github.com/ultralytics/yolov5' to update.\n",
      "YOLOv3 🚀 v9.6.0-105-g44cb63f6 Python-3.11.4 torch-2.0.1 CPU\n",
      "\n",
      "\u001b[34m\u001b[1mhyperparameters: \u001b[0mlr0=0.01, lrf=0.01, momentum=0.937, weight_decay=0.0005, warmup_epochs=3.0, warmup_momentum=0.8, warmup_bias_lr=0.1, box=0.05, cls=0.5, cls_pw=1.0, obj=1.0, obj_pw=1.0, iou_t=0.2, anchor_t=4.0, fl_gamma=0.0, hsv_h=0.015, hsv_s=0.7, hsv_v=0.4, degrees=0.0, translate=0.1, scale=0.5, shear=0.0, perspective=0.0, flipud=0.0, fliplr=0.5, mosaic=1.0, mixup=0.0, copy_paste=0.0\n",
      "\u001b[34m\u001b[1mComet: \u001b[0mrun 'pip install comet_ml' to automatically track and visualize YOLOv3 🚀 runs in Comet\n",
      "\u001b[34m\u001b[1mTensorBoard: \u001b[0mStart with 'tensorboard --logdir yolov3/runs/train', view at http://localhost:6006/\n",
      "Overriding model.yaml nc=80 with nc=1\n",
      "\n",
      "                 from  n    params  module                                  arguments                     \n",
      "  0                -1  1       928  models.common.Conv                      [3, 32, 3, 1]                 \n",
      "  1                -1  1     18560  models.common.Conv                      [32, 64, 3, 2]                \n",
      "  2                -1  1     20672  models.common.Bottleneck                [64, 64]                      \n",
      "  3                -1  1     73984  models.common.Conv                      [64, 128, 3, 2]               \n",
      "  4                -1  2    164608  models.common.Bottleneck                [128, 128]                    \n",
      "  5                -1  1    295424  models.common.Conv                      [128, 256, 3, 2]              \n",
      "  6                -1  8   2627584  models.common.Bottleneck                [256, 256]                    \n",
      "  7                -1  1   1180672  models.common.Conv                      [256, 512, 3, 2]              \n",
      "  8                -1  8  10498048  models.common.Bottleneck                [512, 512]                    \n",
      "  9                -1  1   4720640  models.common.Conv                      [512, 1024, 3, 2]             \n",
      " 10                -1  4  20983808  models.common.Bottleneck                [1024, 1024]                  \n",
      " 11                -1  1   5245952  models.common.Bottleneck                [1024, 1024, False]           \n",
      " 12                -1  1    525312  models.common.Conv                      [1024, 512, 1, 1]             \n",
      " 13                -1  1   4720640  models.common.Conv                      [512, 1024, 3, 1]             \n",
      " 14                -1  1    525312  models.common.Conv                      [1024, 512, 1, 1]             \n",
      " 15                -1  1   4720640  models.common.Conv                      [512, 1024, 3, 1]             \n",
      " 16                -2  1    131584  models.common.Conv                      [512, 256, 1, 1]              \n",
      " 17                -1  1         0  torch.nn.modules.upsampling.Upsample    [None, 2, 'nearest']          \n",
      " 18           [-1, 8]  1         0  models.common.Concat                    [1]                           \n",
      " 19                -1  1   1377792  models.common.Bottleneck                [768, 512, False]             \n",
      " 20                -1  1   1312256  models.common.Bottleneck                [512, 512, False]             \n",
      " 21                -1  1    131584  models.common.Conv                      [512, 256, 1, 1]              \n",
      " 22                -1  1   1180672  models.common.Conv                      [256, 512, 3, 1]              \n",
      " 23                -2  1     33024  models.common.Conv                      [256, 128, 1, 1]              \n",
      " 24                -1  1         0  torch.nn.modules.upsampling.Upsample    [None, 2, 'nearest']          \n",
      " 25           [-1, 6]  1         0  models.common.Concat                    [1]                           \n",
      " 26                -1  1    344832  models.common.Bottleneck                [384, 256, False]             \n",
      " 27                -1  2    656896  models.common.Bottleneck                [256, 256, False]             \n",
      " 28      [27, 22, 15]  1     32310  models.yolo.Detect                      [1, [[10, 13, 16, 30, 33, 23], [30, 61, 62, 45, 59, 119], [116, 90, 156, 198, 373, 326]], [256, 512, 1024]]\n",
      "Model summary: 262 layers, 61523734 parameters, 61523734 gradients, 155.3 GFLOPs\n",
      "\n",
      "Transferred 433/439 items from yolov3.pt\n",
      "\u001b[34m\u001b[1moptimizer:\u001b[0m SGD(lr=0.01) with parameter groups 72 weight(decay=0.0), 75 weight(decay=0.0005), 75 bias\n",
      "\u001b[34m\u001b[1mtrain: \u001b[0mScanning /Users/owo/HOUSE/@Code/@Project/ID_CarObjectDetection/yolo3_anno\u001b[0m\n",
      "\u001b[34m\u001b[1mtrain: \u001b[0mWARNING ⚠️ No labels found in /Users/owo/HOUSE/@Code/@Project/ID_CarObjectDetection/yolo3_annotations/train.cache. See https://docs.ultralytics.com/yolov5/tutorials/train_custom_data\n",
      "\u001b[34m\u001b[1mtrain: \u001b[0mNew cache created: /Users/owo/HOUSE/@Code/@Project/ID_CarObjectDetection/yolo3_annotations/train.cache\n",
      "Traceback (most recent call last):\n",
      "  File \"/Users/owo/HOUSE/@Code/@Project/ID_CarObjectDetection/yolov3/train.py\", line 647, in <module>\n",
      "    main(opt)\n",
      "  File \"/Users/owo/HOUSE/@Code/@Project/ID_CarObjectDetection/yolov3/train.py\", line 536, in main\n",
      "    train(opt.hyp, opt, device, callbacks)\n",
      "  File \"/Users/owo/HOUSE/@Code/@Project/ID_CarObjectDetection/yolov3/train.py\", line 195, in train\n",
      "    train_loader, dataset = create_dataloader(train_path,\n",
      "                            ^^^^^^^^^^^^^^^^^^^^^^^^^^^^^\n",
      "  File \"/Users/owo/HOUSE/@Code/@Project/ID_CarObjectDetection/yolov3/utils/dataloaders.py\", line 124, in create_dataloader\n",
      "    dataset = LoadImagesAndLabels(\n",
      "              ^^^^^^^^^^^^^^^^^^^^\n",
      "  File \"/Users/owo/HOUSE/@Code/@Project/ID_CarObjectDetection/yolov3/utils/dataloaders.py\", line 502, in __init__\n",
      "    assert nf > 0 or not augment, f'{prefix}No labels found in {cache_path}, can not start training. {HELP_URL}'\n",
      "           ^^^^^^\n",
      "AssertionError: \u001b[34m\u001b[1mtrain: \u001b[0mNo labels found in /Users/owo/HOUSE/@Code/@Project/ID_CarObjectDetection/yolo3_annotations/train.cache, can not start training. See https://docs.ultralytics.com/yolov5/tutorials/train_custom_data\n"
     ]
    }
   ],
   "source": [
    "MY_PATH=\"/Users/owo/HOUSE/@Code/@Project/ID_CarObjectDetection/yolov3\"\n",
    "CFG_PATH=\"/Users/owo/HOUSE/@Code/@Project/ID_CarObjectDetection/yolov3-custom.yaml\"\n",
    "DATA_PATH=\"/Users/owo/HOUSE/@Code/@Project/ID_CarObjectDetection/yolo3_annotations/data.yaml\"\n",
    "! python $MY_PATH/train.py --img 416 --batch 16 --epochs 1 --data $DATA_PATH --weights yolov3.pt"
   ]
  },
  {
   "cell_type": "code",
   "execution_count": null,
   "metadata": {},
   "outputs": [],
   "source": []
  }
 ],
 "metadata": {
  "kernelspec": {
   "display_name": "torchenv",
   "language": "python",
   "name": "python3"
  },
  "language_info": {
   "codemirror_mode": {
    "name": "ipython",
    "version": 3
   },
   "file_extension": ".py",
   "mimetype": "text/x-python",
   "name": "python",
   "nbconvert_exporter": "python",
   "pygments_lexer": "ipython3",
   "version": "3.11.4"
  },
  "orig_nbformat": 4
 },
 "nbformat": 4,
 "nbformat_minor": 2
}

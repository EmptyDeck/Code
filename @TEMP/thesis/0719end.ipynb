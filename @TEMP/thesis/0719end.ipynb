{
 "cells": [
  {
   "cell_type": "code",
   "execution_count": 1,
   "metadata": {},
   "outputs": [],
   "source": [
    "import numpy as np \n",
    "import pandas as pd\n",
    "import os\n",
    "import scipy.stats as ss\n",
    "import matplotlib.pyplot as plt\n",
    "#import tensorflow as tf\n",
    "import sklearn\n",
    "from sklearn.preprocessing import StandardScaler, MinMaxScaler\n",
    "from sklearn.model_selection import train_test_split\n",
    "from sklearn.tree import DecisionTreeRegressor\n",
    "from sklearn.metrics import mean_squared_error, r2_score\n",
    "from sklearn.model_selection import GridSearchCV\n",
    "from scipy.stats import f_oneway\n",
    "import pandas as pd\n",
    "import datetime\n",
    "#from tensorflow.keras.callbacks import EarlyStopping, ModelCheckpoint"
   ]
  },
  {
   "cell_type": "code",
   "execution_count": 5,
   "metadata": {},
   "outputs": [],
   "source": [
    "# 데이터 불러오기\n",
    "past_sales = pd.read_csv('rossmann.csv',low_memory=False)\n",
    "store = pd.read_csv('store.csv',low_memory=False)\n",
    "\n",
    "# 데이터 병합\n",
    "data = pd.merge(left = past_sales,right = store, on = 'Store', how = 'right')\n",
    "\n",
    "data = pd.get_dummies(data, columns=['StateHoliday', 'StoreType', 'Assortment'])\n",
    "\n",
    "# 날짜\n",
    "data['Date'] = pd.to_datetime(data['Date'], format=\"%Y-%m-%d\")\n",
    "data['Month']=pd.DatetimeIndex(data.Date).month\n",
    "data['Day']=pd.DatetimeIndex(data.Date).day\n",
    "data = data.drop(['Date'],axis=1)\n",
    "\n",
    "#결측값 중간값 \n",
    "\n",
    "data['CompetitionDistance'].fillna(data['CompetitionDistance'].median(), inplace=True)\n",
    "data['CompetitionOpenSinceMonth'].fillna(data['CompetitionOpenSinceMonth'].mode()[0], inplace=True)\n",
    "data['CompetitionOpenSinceYear'].fillna(data['CompetitionOpenSinceYear'].mode()[0], inplace=True)\n",
    "promo_cols = ['Promo2SinceWeek', 'Promo2SinceYear', 'PromoInterval']\n",
    "data[promo_cols] = data[promo_cols].fillna(0)\n",
    "\n",
    "\n",
    "\n",
    "\n",
    "# 데이터 가공 : PromoInterval\n",
    "months = ['Jan', 'Feb', 'Mar', 'Apr', 'May', 'Jun', 'Jul', 'Aug', 'Sep', 'Oct', 'Nov', 'Dec']\n",
    "for month in months:\n",
    "    data['PromoInterval_' + month] = data['PromoInterval'].apply(lambda x: 1 if month in str(x) else 0)\n",
    "data.drop('PromoInterval',axis=1,inplace=True)\n",
    "\n",
    "# 데이터 가공 : StateHoliday\n",
    "scaler = MinMaxScaler()\n",
    "num_cols = ['CompetitionDistance', 'CompetitionOpenSinceMonth', 'CompetitionOpenSinceYear', 'Promo2SinceWeek', 'Promo2SinceYear']\n",
    "\n",
    "data[num_cols] = scaler.fit_transform(data[num_cols])\n",
    "\n",
    "x_train = data.drop(['Sales','Customers'],axis=1)\n",
    "y_train = data['Sales']\n",
    "\n",
    "\n",
    "\n",
    "data"
   ]
  },
  {
   "cell_type": "code",
   "execution_count": 168,
   "metadata": {},
   "outputs": [],
   "source": [
    "target_col = 'Sales'\n",
    "features_cols = data.columns.drop(target_col)        \n",
    "features = data[features_cols]\n",
    "target = data[target_col]\n",
    "target = pd.DataFrame(target.values.reshape(-1,1))\n",
    "features = features.values\n",
    "target = target.values"
   ]
  },
  {
   "cell_type": "code",
   "execution_count": 150,
   "metadata": {},
   "outputs": [
    {
     "data": {
      "text/plain": [
       "(610325, 1)"
      ]
     },
     "execution_count": 150,
     "metadata": {},
     "output_type": "execute_result"
    }
   ],
   "source": [
    "x_train, x_test, y_train, y_test = train_test_split(features, target, test_size=0.4, shuffle=True)\n",
    "x_test,x_valid,y_test,y_valid = train_test_split(x_test, y_test, test_size=0.5, shuffle=False)\n",
    "y_train.shape"
   ]
  },
  {
   "cell_type": "code",
   "execution_count": 151,
   "metadata": {},
   "outputs": [
    {
     "name": "stdout",
     "output_type": "stream",
     "text": [
      "train_data의 row : 610325, column : 35\n",
      "test_data의 row : 203442, column : 35\n",
      "val_data의 row : 203442, column : 35\n"
     ]
    },
    {
     "data": {
      "text/plain": [
       "array([[7690.],\n",
       "       [8431.],\n",
       "       [   0.],\n",
       "       ...,\n",
       "       [7920.],\n",
       "       [2687.],\n",
       "       [3303.]], dtype=float32)"
      ]
     },
     "execution_count": 151,
     "metadata": {},
     "output_type": "execute_result"
    }
   ],
   "source": [
    "x_train = x_train.astype(np.float32)\n",
    "x_test = x_test.astype(np.float32)\n",
    "x_valid = x_valid.astype(np.float32)\n",
    "y_train = y_train.astype(np.float32)\n",
    "y_test = y_test.astype(np.float32)\n",
    "y_valid = y_valid.astype(np.float32)\n",
    "print('train_data의 row : %s, column : %s'%(x_train.shape[0],x_train.shape[1]))\n",
    "print('test_data의 row : %s, column : %s'%(x_test.shape[0],x_test.shape[1]))\n",
    "print('val_data의 row : %s, column : %s'%(x_valid.shape[0],x_valid.shape[1]))\n",
    "y_train"
   ]
  },
  {
   "cell_type": "code",
   "execution_count": 152,
   "metadata": {},
   "outputs": [
    {
     "name": "stdout",
     "output_type": "stream",
     "text": [
      "Model: \"sequential_17\"\n",
      "_________________________________________________________________\n",
      "Layer (type)                 Output Shape              Param #   \n",
      "=================================================================\n",
      "dense_81 (Dense)             (None, 256)               9216      \n",
      "_________________________________________________________________\n",
      "dropout_65 (Dropout)         (None, 256)               0         \n",
      "_________________________________________________________________\n",
      "batch_normalization_65 (Batc (None, 256)               1024      \n",
      "_________________________________________________________________\n",
      "dense_82 (Dense)             (None, 256)               65792     \n",
      "_________________________________________________________________\n",
      "dropout_66 (Dropout)         (None, 256)               0         \n",
      "_________________________________________________________________\n",
      "batch_normalization_66 (Batc (None, 256)               1024      \n",
      "_________________________________________________________________\n",
      "dense_83 (Dense)             (None, 256)               65792     \n",
      "_________________________________________________________________\n",
      "dropout_67 (Dropout)         (None, 256)               0         \n",
      "_________________________________________________________________\n",
      "batch_normalization_67 (Batc (None, 256)               1024      \n",
      "_________________________________________________________________\n",
      "dense_84 (Dense)             (None, 128)               32896     \n",
      "_________________________________________________________________\n",
      "dropout_68 (Dropout)         (None, 128)               0         \n",
      "_________________________________________________________________\n",
      "batch_normalization_68 (Batc (None, 128)               512       \n",
      "_________________________________________________________________\n",
      "dense_85 (Dense)             (None, 1)                 129       \n",
      "=================================================================\n",
      "Total params: 177,409\n",
      "Trainable params: 175,617\n",
      "Non-trainable params: 1,792\n",
      "_________________________________________________________________\n"
     ]
    },
    {
     "data": {
      "text/plain": [
       "Store                False\n",
       "DayOfWeek            False\n",
       "Sales                False\n",
       "Customers            False\n",
       "Open                 False\n",
       "Promo                False\n",
       "SchoolHoliday        False\n",
       "Promo2               False\n",
       "StateHoliday_0       False\n",
       "StateHoliday_0       False\n",
       "StateHoliday_a       False\n",
       "StateHoliday_b       False\n",
       "StateHoliday_c       False\n",
       "StoreType_a          False\n",
       "StoreType_b          False\n",
       "StoreType_c          False\n",
       "StoreType_d          False\n",
       "Assortment_a         False\n",
       "Assortment_b         False\n",
       "Assortment_c         False\n",
       "Month                False\n",
       "Day                  False\n",
       "PromoInterval_Jan    False\n",
       "PromoInterval_Feb    False\n",
       "PromoInterval_Mar    False\n",
       "PromoInterval_Apr    False\n",
       "PromoInterval_May    False\n",
       "PromoInterval_Jun    False\n",
       "PromoInterval_Jul    False\n",
       "PromoInterval_Aug    False\n",
       "PromoInterval_Sep    False\n",
       "PromoInterval_Oct    False\n",
       "PromoInterval_Nov    False\n",
       "PromoInterval_Dec    False\n",
       "dtype: bool"
      ]
     },
     "execution_count": 152,
     "metadata": {},
     "output_type": "execute_result"
    }
   ],
   "source": [
    "model = tf.keras.Sequential()\n",
    "model.add(tf.keras.layers.Dense(256,input_dim = x_train.shape[1],activation='relu'))\n",
    "model.add(tf.keras.layers.Dropout(0.2))\n",
    "model.add(tf.keras.layers.BatchNormalization())\n",
    "\n",
    "model.add(tf.keras.layers.Dense(256,activation = 'relu'))\n",
    "model.add(tf.keras.layers.Dropout(0.2))\n",
    "model.add(tf.keras.layers.BatchNormalization())\n",
    "\n",
    "model.add(tf.keras.layers.Dense(256,activation = 'relu'))\n",
    "model.add(tf.keras.layers.Dropout(0.2))\n",
    "model.add(tf.keras.layers.BatchNormalization())\n",
    "\n",
    "model.add(tf.keras.layers.Dense(128,activation = 'relu'))\n",
    "model.add(tf.keras.layers.Dropout(0.2))\n",
    "model.add(tf.keras.layers.BatchNormalization())\n",
    "\n",
    "model.add(tf.keras.layers.Dense(1))\n",
    "\n",
    "optimizer = tf.keras.optimizers.Adam(clipnorm=1.0)\n",
    "\n",
    "model.compile(optimizer=optimizer, loss='categorical_crossentropy', metrics=['accuracy'])\n",
    "\n",
    "model_path = 'C:/project/rossmann-store-sales'\n",
    "checkpoint = tf.keras.callbacks.ModelCheckpoint(filepath=model_path , monitor='val_mean_absolute_error', verbose=1, save_best_only=True)\n",
    "# early_stopping = EarlyStopping(monitor='val_loss', patience=6)\n",
    "\n",
    "model.summary()\n",
    "data.isnull().any()"
   ]
  },
  {
   "cell_type": "code",
   "execution_count": 153,
   "metadata": {},
   "outputs": [
    {
     "name": "stdout",
     "output_type": "stream",
     "text": [
      "Epoch 1/5\n",
      "9537/9537 [==============================] - 30s 3ms/step - loss: 6.8809e-04 - accuracy: 0.1115 - val_loss: 6.8770e-04 - val_accuracy: 0.1638\n",
      "Epoch 2/5\n",
      "9537/9537 [==============================] - 28s 3ms/step - loss: 6.8864e-04 - accuracy: 0.1126 - val_loss: 6.8770e-04 - val_accuracy: 0.1618\n",
      "Epoch 3/5\n",
      "9537/9537 [==============================] - 28s 3ms/step - loss: 6.8833e-04 - accuracy: 0.1126 - val_loss: 6.8770e-04 - val_accuracy: 0.1629\n",
      "Epoch 4/5\n",
      "9537/9537 [==============================] - 28s 3ms/step - loss: 6.8881e-04 - accuracy: 0.1123 - val_loss: 6.8770e-04 - val_accuracy: 0.1626\n",
      "Epoch 5/5\n",
      "9537/9537 [==============================] - 28s 3ms/step - loss: 6.8869e-04 - accuracy: 0.1123 - val_loss: 6.8770e-04 - val_accuracy: 0.1628\n",
      "처리시간 :  0:02:20.759308\n"
     ]
    }
   ],
   "source": [
    "early_stopping = EarlyStopping()\n",
    "\n",
    "start = datetime.datetime.now()\n",
    "\n",
    "history = model.fit(x_train, y_train,\n",
    "                    validation_data=(x_valid, y_valid),\n",
    "                    batch_size=64,\n",
    "                    epochs=5,\n",
    ")\n",
    "\n",
    "end = datetime.datetime.now()\n",
    "time = end-start\n",
    "print(\"처리시간 : \", time)\n"
   ]
  },
  {
   "cell_type": "code",
   "execution_count": 154,
   "metadata": {},
   "outputs": [
    {
     "name": "stdout",
     "output_type": "stream",
     "text": [
      "R2 값: -2.2668517590958794\n"
     ]
    }
   ],
   "source": [
    "y_pred = model.predict(x_test)\n",
    "\n",
    "# R2 값을 계산\n",
    "r2_value = r2_score(y_test, y_pred)\n",
    "\n",
    "print(\"R2 값:\", r2_value)"
   ]
  }
 ],
 "metadata": {
  "kernelspec": {
   "display_name": "changho",
   "language": "python",
   "name": "python3"
  },
  "language_info": {
   "codemirror_mode": {
    "name": "ipython",
    "version": 3
   },
   "file_extension": ".py",
   "mimetype": "text/x-python",
   "name": "python",
   "nbconvert_exporter": "python",
   "pygments_lexer": "ipython3",
   "version": "3.11.4"
  },
  "orig_nbformat": 4
 },
 "nbformat": 4,
 "nbformat_minor": 2
}

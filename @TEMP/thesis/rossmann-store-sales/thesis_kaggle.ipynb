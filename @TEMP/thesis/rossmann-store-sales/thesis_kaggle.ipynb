{
 "cells": [
  {
   "cell_type": "markdown",
   "metadata": {},
   "source": [
    "# Hi \n",
    "2023.07.19  \n",
    "let get init"
   ]
  },
  {
   "cell_type": "code",
   "execution_count": null,
   "metadata": {},
   "outputs": [],
   "source": [
    "import numpy as np # linear algebra\n",
    "import pandas as pd # data processing, CSV file I/O (e.g. pd.read_csv)\n",
    "\n",
    "import os\n",
    "for dirname, _, filenames in os.walk('/kaggle/input'):\n",
    "    for filename in filenames:\n",
    "        print(os.path.join(dirname, filename))"
   ]
  },
  {
   "cell_type": "code",
   "execution_count": 196,
   "metadata": {},
   "outputs": [
    {
     "name": "stderr",
     "output_type": "stream",
     "text": [
      "/var/folders/sb/2gzn9_qx589_ft0jp8q6nbbc0000gn/T/ipykernel_98518/1301930319.py:5: DtypeWarning: Columns (7) have mixed types. Specify dtype option on import or set low_memory=False.\n",
      "  train_df = pd.read_csv('train.csv')\n"
     ]
    },
    {
     "data": {
      "text/plain": [
       "(   Store  DayOfWeek        Date  Sales  Customers  Open  Promo StateHoliday  \\\n",
       " 0      1          5  2015-07-31   5263        555     1      1            0   \n",
       " 1      2          5  2015-07-31   6064        625     1      1            0   \n",
       " 2      3          5  2015-07-31   8314        821     1      1            0   \n",
       " 3      4          5  2015-07-31  13995       1498     1      1            0   \n",
       " 4      5          5  2015-07-31   4822        559     1      1            0   \n",
       " \n",
       "    SchoolHoliday  \n",
       " 0              1  \n",
       " 1              1  \n",
       " 2              1  \n",
       " 3              1  \n",
       " 4              1  ,\n",
       "    Store StoreType Assortment  CompetitionDistance  CompetitionOpenSinceMonth  \\\n",
       " 0      1         c          a               1270.0                        9.0   \n",
       " 1      2         a          a                570.0                       11.0   \n",
       " 2      3         a          a              14130.0                       12.0   \n",
       " 3      4         c          c                620.0                        9.0   \n",
       " 4      5         a          a              29910.0                        4.0   \n",
       " \n",
       "    CompetitionOpenSinceYear  Promo2  Promo2SinceWeek  Promo2SinceYear  \\\n",
       " 0                    2008.0       0              NaN              NaN   \n",
       " 1                    2007.0       1             13.0           2010.0   \n",
       " 2                    2006.0       1             14.0           2011.0   \n",
       " 3                    2009.0       0              NaN              NaN   \n",
       " 4                    2015.0       0              NaN              NaN   \n",
       " \n",
       "      PromoInterval  \n",
       " 0              NaN  \n",
       " 1  Jan,Apr,Jul,Oct  \n",
       " 2  Jan,Apr,Jul,Oct  \n",
       " 3              NaN  \n",
       " 4              NaN  ,\n",
       "    Id  Store  DayOfWeek        Date  Open  Promo StateHoliday  SchoolHoliday\n",
       " 0   1      1          4  2015-09-17   1.0      1            0              0\n",
       " 1   2      3          4  2015-09-17   1.0      1            0              0\n",
       " 2   3      7          4  2015-09-17   1.0      1            0              0\n",
       " 3   4      8          4  2015-09-17   1.0      1            0              0\n",
       " 4   5      9          4  2015-09-17   1.0      1            0              0)"
      ]
     },
     "execution_count": 196,
     "metadata": {},
     "output_type": "execute_result"
    }
   ],
   "source": [
    "# Let's start by loading the datasets\n",
    "import pandas as pd\n",
    "\n",
    "# Load train data\n",
    "try:\n",
    "    train_df = pd.read_csv('train.csv')\n",
    "except:\n",
    "    train_df = pd.read_csv('/kaggle/input/rossmann-store-sales/train.csv')\n",
    "\n",
    "# Load store data\n",
    "try:\n",
    "    store_df = pd.read_csv('store.csv')\n",
    "except:\n",
    "    store_df = pd.read_csv('/mnt/data/store.csv')\n",
    "\n",
    "# Load test data\n",
    "try:\n",
    "    test_df = pd.read_csv('test.csv')\n",
    "except:\n",
    "    test_df = pd.read_csv('/kaggle/input/rossmann-store-sales/test.csv')\n",
    "\n",
    "# Display the first few rows of each dataframe\n",
    "train_df.head(), store_df.head(), test_df.head()\n"
   ]
  },
  {
   "cell_type": "code",
   "execution_count": 197,
   "metadata": {},
   "outputs": [
    {
     "data": {
      "text/plain": [
       "(   Store  DayOfWeek        Date  Sales  Customers  Open  Promo StateHoliday  \\\n",
       " 0      1          5  2015-07-31   5263        555     1      1            0   \n",
       " 1      2          5  2015-07-31   6064        625     1      1            0   \n",
       " 2      3          5  2015-07-31   8314        821     1      1            0   \n",
       " 3      4          5  2015-07-31  13995       1498     1      1            0   \n",
       " 4      5          5  2015-07-31   4822        559     1      1            0   \n",
       " \n",
       "    SchoolHoliday StoreType Assortment  CompetitionDistance  \\\n",
       " 0              1         c          a               1270.0   \n",
       " 1              1         a          a                570.0   \n",
       " 2              1         a          a              14130.0   \n",
       " 3              1         c          c                620.0   \n",
       " 4              1         a          a              29910.0   \n",
       " \n",
       "    CompetitionOpenSinceMonth  CompetitionOpenSinceYear  Promo2  \\\n",
       " 0                        9.0                    2008.0       0   \n",
       " 1                       11.0                    2007.0       1   \n",
       " 2                       12.0                    2006.0       1   \n",
       " 3                        9.0                    2009.0       0   \n",
       " 4                        4.0                    2015.0       0   \n",
       " \n",
       "    Promo2SinceWeek  Promo2SinceYear    PromoInterval  \n",
       " 0              NaN              NaN              NaN  \n",
       " 1             13.0           2010.0  Jan,Apr,Jul,Oct  \n",
       " 2             14.0           2011.0  Jan,Apr,Jul,Oct  \n",
       " 3              NaN              NaN              NaN  \n",
       " 4              NaN              NaN              NaN  ,\n",
       "    Id  Store  DayOfWeek        Date  Open  Promo StateHoliday  SchoolHoliday  \\\n",
       " 0   1      1          4  2015-09-17   1.0      1            0              0   \n",
       " 1   2      3          4  2015-09-17   1.0      1            0              0   \n",
       " 2   3      7          4  2015-09-17   1.0      1            0              0   \n",
       " 3   4      8          4  2015-09-17   1.0      1            0              0   \n",
       " 4   5      9          4  2015-09-17   1.0      1            0              0   \n",
       " \n",
       "   StoreType Assortment  CompetitionDistance  CompetitionOpenSinceMonth  \\\n",
       " 0         c          a               1270.0                        9.0   \n",
       " 1         a          a              14130.0                       12.0   \n",
       " 2         a          c              24000.0                        4.0   \n",
       " 3         a          a               7520.0                       10.0   \n",
       " 4         a          c               2030.0                        8.0   \n",
       " \n",
       "    CompetitionOpenSinceYear  Promo2  Promo2SinceWeek  Promo2SinceYear  \\\n",
       " 0                    2008.0       0              NaN              NaN   \n",
       " 1                    2006.0       1             14.0           2011.0   \n",
       " 2                    2013.0       0              NaN              NaN   \n",
       " 3                    2014.0       0              NaN              NaN   \n",
       " 4                    2000.0       0              NaN              NaN   \n",
       " \n",
       "      PromoInterval  \n",
       " 0              NaN  \n",
       " 1  Jan,Apr,Jul,Oct  \n",
       " 2              NaN  \n",
       " 3              NaN  \n",
       " 4              NaN  )"
      ]
     },
     "execution_count": 197,
     "metadata": {},
     "output_type": "execute_result"
    }
   ],
   "source": [
    "# Merge the train and store dataframes\n",
    "train_df = pd.merge(train_df, store_df, on='Store', how='left')\n",
    "\n",
    "# Merge the test and store dataframes\n",
    "test_df = pd.merge(test_df, store_df, on='Store', how='left')\n",
    "\n",
    "# Display the first few rows of each merged dataframe\n",
    "train_df.head(), test_df.head()\n"
   ]
  },
  {
   "cell_type": "code",
   "execution_count": 198,
   "metadata": {},
   "outputs": [
    {
     "data": {
      "text/plain": [
       "(   Store  DayOfWeek  Sales  Customers  Open  Promo StateHoliday  \\\n",
       " 0      1          5   5263        555     1      1            0   \n",
       " 1      2          5   6064        625     1      1            0   \n",
       " 2      3          5   8314        821     1      1            0   \n",
       " 3      4          5  13995       1498     1      1            0   \n",
       " 4      5          5   4822        559     1      1            0   \n",
       " \n",
       "    SchoolHoliday StoreType Assortment  CompetitionDistance  \\\n",
       " 0              1         c          a               1270.0   \n",
       " 1              1         a          a                570.0   \n",
       " 2              1         a          a              14130.0   \n",
       " 3              1         c          c                620.0   \n",
       " 4              1         a          a              29910.0   \n",
       " \n",
       "    CompetitionOpenSinceMonth  CompetitionOpenSinceYear  Promo2  \\\n",
       " 0                        9.0                    2008.0       0   \n",
       " 1                       11.0                    2007.0       1   \n",
       " 2                       12.0                    2006.0       1   \n",
       " 3                        9.0                    2009.0       0   \n",
       " 4                        4.0                    2015.0       0   \n",
       " \n",
       "    Promo2SinceWeek  Promo2SinceYear    PromoInterval  Year  Month  Day  \n",
       " 0              NaN              NaN              NaN  2015      7   31  \n",
       " 1             13.0           2010.0  Jan,Apr,Jul,Oct  2015      7   31  \n",
       " 2             14.0           2011.0  Jan,Apr,Jul,Oct  2015      7   31  \n",
       " 3              NaN              NaN              NaN  2015      7   31  \n",
       " 4              NaN              NaN              NaN  2015      7   31  ,\n",
       "    Id  Store  DayOfWeek  Open  Promo StateHoliday  SchoolHoliday StoreType  \\\n",
       " 0   1      1          4   1.0      1            0              0         c   \n",
       " 1   2      3          4   1.0      1            0              0         a   \n",
       " 2   3      7          4   1.0      1            0              0         a   \n",
       " 3   4      8          4   1.0      1            0              0         a   \n",
       " 4   5      9          4   1.0      1            0              0         a   \n",
       " \n",
       "   Assortment  CompetitionDistance  CompetitionOpenSinceMonth  \\\n",
       " 0          a               1270.0                        9.0   \n",
       " 1          a              14130.0                       12.0   \n",
       " 2          c              24000.0                        4.0   \n",
       " 3          a               7520.0                       10.0   \n",
       " 4          c               2030.0                        8.0   \n",
       " \n",
       "    CompetitionOpenSinceYear  Promo2  Promo2SinceWeek  Promo2SinceYear  \\\n",
       " 0                    2008.0       0              NaN              NaN   \n",
       " 1                    2006.0       1             14.0           2011.0   \n",
       " 2                    2013.0       0              NaN              NaN   \n",
       " 3                    2014.0       0              NaN              NaN   \n",
       " 4                    2000.0       0              NaN              NaN   \n",
       " \n",
       "      PromoInterval  Year  Month  Day  \n",
       " 0              NaN  2015      9   17  \n",
       " 1  Jan,Apr,Jul,Oct  2015      9   17  \n",
       " 2              NaN  2015      9   17  \n",
       " 3              NaN  2015      9   17  \n",
       " 4              NaN  2015      9   17  )"
      ]
     },
     "execution_count": 198,
     "metadata": {},
     "output_type": "execute_result"
    }
   ],
   "source": [
    "# Convert 'Date' column to datetime format for both train and test dataframes\n",
    "train_df['Date'] = pd.to_datetime(train_df['Date'])\n",
    "test_df['Date'] = pd.to_datetime(test_df['Date'])\n",
    "\n",
    "# Extract year, month, and day as separate features\n",
    "train_df['Year'] = train_df['Date'].dt.year\n",
    "train_df['Month'] = train_df['Date'].dt.month\n",
    "train_df['Day'] = train_df['Date'].dt.day\n",
    "\n",
    "test_df['Year'] = test_df['Date'].dt.year\n",
    "test_df['Month'] = test_df['Date'].dt.month\n",
    "test_df['Day'] = test_df['Date'].dt.day\n",
    "\n",
    "# Now that we've extracted the necessary information from the 'Date' column, we can drop it\n",
    "train_df.drop('Date', axis=1, inplace=True)\n",
    "test_df.drop('Date', axis=1, inplace=True)\n",
    "\n",
    "# Check the updated dataframes\n",
    "train_df.head(), test_df.head()\n"
   ]
  },
  {
   "cell_type": "code",
   "execution_count": 199,
   "metadata": {},
   "outputs": [
    {
     "data": {
      "text/plain": [
       "(CompetitionDistance            2642\n",
       " CompetitionOpenSinceMonth    323348\n",
       " CompetitionOpenSinceYear     323348\n",
       " Promo2SinceWeek              508031\n",
       " Promo2SinceYear              508031\n",
       " PromoInterval                508031\n",
       " dtype: int64,\n",
       " Open                            11\n",
       " CompetitionDistance             96\n",
       " CompetitionOpenSinceMonth    15216\n",
       " CompetitionOpenSinceYear     15216\n",
       " Promo2SinceWeek              17232\n",
       " Promo2SinceYear              17232\n",
       " PromoInterval                17232\n",
       " dtype: int64)"
      ]
     },
     "execution_count": 199,
     "metadata": {},
     "output_type": "execute_result"
    }
   ],
   "source": [
    "# Check for missing values in train and test datasets\n",
    "train_missing = train_df.isnull().sum()\n",
    "test_missing = test_df.isnull().sum()\n",
    "\n",
    "train_missing[train_missing > 0], test_missing[test_missing > 0]\n"
   ]
  },
  {
   "cell_type": "code",
   "execution_count": 200,
   "metadata": {},
   "outputs": [
    {
     "data": {
      "text/plain": [
       "(Series([], dtype: int64), Series([], dtype: int64))"
      ]
     },
     "execution_count": 200,
     "metadata": {},
     "output_type": "execute_result"
    }
   ],
   "source": [
    "# Fill missing values\n",
    "\n",
    "# For 'CompetitionDistance', we fill missing values with the median distance\n",
    "train_df['CompetitionDistance'].fillna(train_df['CompetitionDistance'].median(), inplace=True)\n",
    "test_df['CompetitionDistance'].fillna(test_df['CompetitionDistance'].median(), inplace=True)\n",
    "\n",
    "# For 'CompetitionOpenSinceMonth' and 'CompetitionOpenSinceYear', we fill missing values with the most frequent value\n",
    "train_df['CompetitionOpenSinceMonth'].fillna(train_df['CompetitionOpenSinceMonth'].mode()[0], inplace=True)\n",
    "train_df['CompetitionOpenSinceYear'].fillna(train_df['CompetitionOpenSinceYear'].mode()[0], inplace=True)\n",
    "\n",
    "test_df['CompetitionOpenSinceMonth'].fillna(test_df['CompetitionOpenSinceMonth'].mode()[0], inplace=True)\n",
    "test_df['CompetitionOpenSinceYear'].fillna(test_df['CompetitionOpenSinceYear'].mode()[0], inplace=True)\n",
    "\n",
    "# For 'Promo2SinceWeek', 'Promo2SinceYear', 'PromoInterval', we fill missing values with zero\n",
    "promo_cols = ['Promo2SinceWeek', 'Promo2SinceYear', 'PromoInterval']\n",
    "train_df[promo_cols] = train_df[promo_cols].fillna(0)\n",
    "test_df[promo_cols] = test_df[promo_cols].fillna(0)\n",
    "\n",
    "# For 'Open' column in test dataset, fill missing values with 1\n",
    "test_df['Open'].fillna(1, inplace=True)\n",
    "\n",
    "# Check if there are any missing values left\n",
    "train_missing = train_df.isnull().sum()\n",
    "test_missing = test_df.isnull().sum()\n",
    "\n",
    "train_missing[train_missing > 0], test_missing[test_missing > 0]\n"
   ]
  },
  {
   "cell_type": "code",
   "execution_count": 201,
   "metadata": {},
   "outputs": [
    {
     "name": "stdout",
     "output_type": "stream",
     "text": [
      "Unique values in 'PromoInterval' column:\n",
      "[0 'Jan,Apr,Jul,Oct' 'Feb,May,Aug,Nov' 'Mar,Jun,Sept,Dec']\n"
     ]
    },
    {
     "data": {
      "text/plain": [
       "(   Store  DayOfWeek  Sales  Customers  Open  Promo  SchoolHoliday  \\\n",
       " 0      1          5   5263        555     1      1              1   \n",
       " 1      2          5   6064        625     1      1              1   \n",
       " 2      3          5   8314        821     1      1              1   \n",
       " 3      4          5  13995       1498     1      1              1   \n",
       " 4      5          5   4822        559     1      1              1   \n",
       " \n",
       "    CompetitionDistance  CompetitionOpenSinceMonth  CompetitionOpenSinceYear  \\\n",
       " 0               1270.0                        9.0                    2008.0   \n",
       " 1                570.0                       11.0                    2007.0   \n",
       " 2              14130.0                       12.0                    2006.0   \n",
       " 3                620.0                        9.0                    2009.0   \n",
       " 4              29910.0                        4.0                    2015.0   \n",
       " \n",
       "    ...  PromoInterval_Mar  PromoInterval_Apr  PromoInterval_May  \\\n",
       " 0  ...                  0                  0                  0   \n",
       " 1  ...                  0                  1                  0   \n",
       " 2  ...                  0                  1                  0   \n",
       " 3  ...                  0                  0                  0   \n",
       " 4  ...                  0                  0                  0   \n",
       " \n",
       "    PromoInterval_Jun  PromoInterval_Jul  PromoInterval_Aug  PromoInterval_Sep  \\\n",
       " 0                  0                  0                  0                  0   \n",
       " 1                  0                  1                  0                  0   \n",
       " 2                  0                  1                  0                  0   \n",
       " 3                  0                  0                  0                  0   \n",
       " 4                  0                  0                  0                  0   \n",
       " \n",
       "    PromoInterval_Oct  PromoInterval_Nov  PromoInterval_Dec  \n",
       " 0                  0                  0                  0  \n",
       " 1                  1                  0                  0  \n",
       " 2                  1                  0                  0  \n",
       " 3                  0                  0                  0  \n",
       " 4                  0                  0                  0  \n",
       " \n",
       " [5 rows x 40 columns],\n",
       "    Id  Store  DayOfWeek  Open  Promo  SchoolHoliday  CompetitionDistance  \\\n",
       " 0   1      1          4   1.0      1              0               1270.0   \n",
       " 1   2      3          4   1.0      1              0              14130.0   \n",
       " 2   3      7          4   1.0      1              0              24000.0   \n",
       " 3   4      8          4   1.0      1              0               7520.0   \n",
       " 4   5      9          4   1.0      1              0               2030.0   \n",
       " \n",
       "    CompetitionOpenSinceMonth  CompetitionOpenSinceYear  Promo2  ...  \\\n",
       " 0                        9.0                    2008.0       0  ...   \n",
       " 1                       12.0                    2006.0       1  ...   \n",
       " 2                        4.0                    2013.0       0  ...   \n",
       " 3                       10.0                    2014.0       0  ...   \n",
       " 4                        8.0                    2000.0       0  ...   \n",
       " \n",
       "    PromoInterval_Mar  PromoInterval_Apr  PromoInterval_May  PromoInterval_Jun  \\\n",
       " 0                  0                  0                  0                  0   \n",
       " 1                  0                  1                  0                  0   \n",
       " 2                  0                  0                  0                  0   \n",
       " 3                  0                  0                  0                  0   \n",
       " 4                  0                  0                  0                  0   \n",
       " \n",
       "    PromoInterval_Jul  PromoInterval_Aug  PromoInterval_Sep  PromoInterval_Oct  \\\n",
       " 0                  0                  0                  0                  0   \n",
       " 1                  1                  0                  0                  1   \n",
       " 2                  0                  0                  0                  0   \n",
       " 3                  0                  0                  0                  0   \n",
       " 4                  0                  0                  0                  0   \n",
       " \n",
       "    PromoInterval_Nov  PromoInterval_Dec  \n",
       " 0                  0                  0  \n",
       " 1                  0                  0  \n",
       " 2                  0                  0  \n",
       " 3                  0                  0  \n",
       " 4                  0                  0  \n",
       " \n",
       " [5 rows x 36 columns])"
      ]
     },
     "execution_count": 201,
     "metadata": {},
     "output_type": "execute_result"
    }
   ],
   "source": [
    "# One-hot encode 'StateHoliday', 'StoreType', 'Assortment' columns\n",
    "train_df = pd.get_dummies(train_df, columns=['StateHoliday', 'StoreType', 'Assortment'])\n",
    "test_df = pd.get_dummies(test_df, columns=['StateHoliday', 'StoreType', 'Assortment'])\n",
    "\n",
    "# Handle 'PromoInterval' column\n",
    "# First, let's see what unique values it has\n",
    "print(\"Unique values in 'PromoInterval' column:\")\n",
    "print(train_df['PromoInterval'].unique())\n",
    "\n",
    "# It seems like 'PromoInterval' contains either 0 (for no promotion) or a string with comma-separated months.\n",
    "# Let's create separate binary columns for each possible month in the 'PromoInterval'\n",
    "\n",
    "# Months\n",
    "months = ['Jan', 'Feb', 'Mar', 'Apr', 'May', 'Jun', 'Jul', 'Aug', 'Sep', 'Oct', 'Nov', 'Dec']\n",
    "\n",
    "# For each month, create a new column in train and test dataframes\n",
    "for month in months:\n",
    "    train_df['PromoInterval_' + month] = train_df['PromoInterval'].apply(lambda x: 1 if month in str(x) else 0)\n",
    "    test_df['PromoInterval_' + month] = test_df['PromoInterval'].apply(lambda x: 1 if month in str(x) else 0)\n",
    "\n",
    "# Now that we've extracted the necessary information from the 'PromoInterval' column, we can drop it\n",
    "train_df.drop('PromoInterval', axis=1, inplace=True)\n",
    "test_df.drop('PromoInterval', axis=1, inplace=True)\n",
    "\n",
    "# Check the updated dataframes\n",
    "train_df.head(), test_df.head()\n"
   ]
  },
  {
   "cell_type": "code",
   "execution_count": 202,
   "metadata": {},
   "outputs": [
    {
     "data": {
      "text/plain": [
       "(   Store  DayOfWeek  Sales  Customers  Open  Promo  SchoolHoliday  \\\n",
       " 0      1          5   5263        555     1      1              1   \n",
       " 1      2          5   6064        625     1      1              1   \n",
       " 2      3          5   8314        821     1      1              1   \n",
       " 3      4          5  13995       1498     1      1              1   \n",
       " 4      5          5   4822        559     1      1              1   \n",
       " \n",
       "    CompetitionDistance  CompetitionOpenSinceMonth  CompetitionOpenSinceYear  \\\n",
       " 0             0.016482                   0.727273                  0.939130   \n",
       " 1             0.007252                   0.909091                  0.930435   \n",
       " 2             0.186050                   1.000000                  0.921739   \n",
       " 3             0.007911                   0.727273                  0.947826   \n",
       " 4             0.394119                   0.272727                  1.000000   \n",
       " \n",
       "    ...  PromoInterval_Mar  PromoInterval_Apr  PromoInterval_May  \\\n",
       " 0  ...                  0                  0                  0   \n",
       " 1  ...                  0                  1                  0   \n",
       " 2  ...                  0                  1                  0   \n",
       " 3  ...                  0                  0                  0   \n",
       " 4  ...                  0                  0                  0   \n",
       " \n",
       "    PromoInterval_Jun  PromoInterval_Jul  PromoInterval_Aug  PromoInterval_Sep  \\\n",
       " 0                  0                  0                  0                  0   \n",
       " 1                  0                  1                  0                  0   \n",
       " 2                  0                  1                  0                  0   \n",
       " 3                  0                  0                  0                  0   \n",
       " 4                  0                  0                  0                  0   \n",
       " \n",
       "    PromoInterval_Oct  PromoInterval_Nov  PromoInterval_Dec  \n",
       " 0                  0                  0                  0  \n",
       " 1                  1                  0                  0  \n",
       " 2                  1                  0                  0  \n",
       " 3                  0                  0                  0  \n",
       " 4                  0                  0                  0  \n",
       " \n",
       " [5 rows x 40 columns],\n",
       "    Id  Store  DayOfWeek  Open  Promo  SchoolHoliday  CompetitionDistance  \\\n",
       " 0   1      1          4   1.0      1              0             0.016482   \n",
       " 1   2      3          4   1.0      1              0             0.186050   \n",
       " 2   3      7          4   1.0      1              0             0.316192   \n",
       " 3   4      8          4   1.0      1              0             0.098892   \n",
       " 4   5      9          4   1.0      1              0             0.026503   \n",
       " \n",
       "    CompetitionOpenSinceMonth  CompetitionOpenSinceYear  Promo2  ...  \\\n",
       " 0                   0.727273                  0.939130       0  ...   \n",
       " 1                   1.000000                  0.921739       1  ...   \n",
       " 2                   0.272727                  0.982609       0  ...   \n",
       " 3                   0.818182                  0.991304       0  ...   \n",
       " 4                   0.636364                  0.869565       0  ...   \n",
       " \n",
       "    PromoInterval_Mar  PromoInterval_Apr  PromoInterval_May  PromoInterval_Jun  \\\n",
       " 0                  0                  0                  0                  0   \n",
       " 1                  0                  1                  0                  0   \n",
       " 2                  0                  0                  0                  0   \n",
       " 3                  0                  0                  0                  0   \n",
       " 4                  0                  0                  0                  0   \n",
       " \n",
       "    PromoInterval_Jul  PromoInterval_Aug  PromoInterval_Sep  PromoInterval_Oct  \\\n",
       " 0                  0                  0                  0                  0   \n",
       " 1                  1                  0                  0                  1   \n",
       " 2                  0                  0                  0                  0   \n",
       " 3                  0                  0                  0                  0   \n",
       " 4                  0                  0                  0                  0   \n",
       " \n",
       "    PromoInterval_Nov  PromoInterval_Dec  \n",
       " 0                  0                  0  \n",
       " 1                  0                  0  \n",
       " 2                  0                  0  \n",
       " 3                  0                  0  \n",
       " 4                  0                  0  \n",
       " \n",
       " [5 rows x 36 columns])"
      ]
     },
     "execution_count": 202,
     "metadata": {},
     "output_type": "execute_result"
    }
   ],
   "source": [
    "from sklearn.preprocessing import MinMaxScaler\n",
    "\n",
    "# Initialize a scaler\n",
    "scaler = MinMaxScaler()\n",
    "\n",
    "# List of numerical columns\n",
    "num_cols = ['CompetitionDistance', 'CompetitionOpenSinceMonth', 'CompetitionOpenSinceYear', 'Promo2SinceWeek', 'Promo2SinceYear', 'Year', 'Month', 'Day']\n",
    "\n",
    "# Apply the scaler to the numerical columns\n",
    "train_df[num_cols] = scaler.fit_transform(train_df[num_cols])\n",
    "test_df[num_cols] = scaler.transform(test_df[num_cols]) # Note: we use transform() here, not fit_transform()\n",
    "\n",
    "# Check the updated dataframes\n",
    "train_df.head(), test_df.head()\n"
   ]
  },
  {
   "cell_type": "code",
   "execution_count": 203,
   "metadata": {},
   "outputs": [
    {
     "data": {
      "text/plain": [
       "((1017209, 38), (1017209,), (41088, 38))"
      ]
     },
     "execution_count": 203,
     "metadata": {},
     "output_type": "execute_result"
    }
   ],
   "source": [
    "# Separate target variable 'Sales' from the rest of the training dataset\n",
    "X_train = train_df.drop(['Sales', 'Customers'], axis=1) # We also drop 'Customers' as it's not present in the test dataset\n",
    "y_train = train_df['Sales']\n",
    "\n",
    "# Ensure that train and test datasets have the same columns\n",
    "missing_cols = set(X_train.columns) - set(test_df.columns)\n",
    "for c in missing_cols:\n",
    "    test_df[c] = 0\n",
    "test_df = test_df[X_train.columns]\n",
    "\n",
    "# Check the shapes of the datasets\n",
    "X_train.shape, y_train.shape, test_df.shape\n"
   ]
  },
  {
   "cell_type": "markdown",
   "metadata": {},
   "source": [
    "# Deep Leaning\n"
   ]
  },
  {
   "cell_type": "code",
   "execution_count": 209,
   "metadata": {},
   "outputs": [],
   "source": [
    "#imports\n",
    "import torch\n",
    "from torch.utils.data import DataLoader, TensorDataset, random_split\n",
    "import torch.nn as nn\n",
    "import torch.optim as optim\n",
    "import matplotlib.pyplot as plt\n"
   ]
  },
  {
   "cell_type": "markdown",
   "metadata": {},
   "source": [
    "# Device"
   ]
  },
  {
   "cell_type": "code",
   "execution_count": 210,
   "metadata": {},
   "outputs": [
    {
     "name": "stdout",
     "output_type": "stream",
     "text": [
      "Apple device detected\n",
      "Activating Apple Silicon GPU\n",
      "cpu\n"
     ]
    }
   ],
   "source": [
    "\n",
    "import torch\n",
    "import subprocess\n",
    "\n",
    "def GPU():\n",
    "    if torch.cuda.is_available() == True:\n",
    "        device = 'cuda'\n",
    "        templist = [1, 2, 3]\n",
    "        templist = torch.FloatTensor(templist).to(device)\n",
    "        print(\"Cuda torch working : \", end=\"\")\n",
    "        print(templist.is_cuda)\n",
    "        print(\"current device no. : \", end=\"\")\n",
    "        print(torch.cuda.current_device())\n",
    "        print(\"GPU device count : \", end=\"\")\n",
    "        print(torch.cuda.device_count())\n",
    "        print(\"GPU name : \", end=\"\")\n",
    "        print(torch.cuda.get_device_name(0))\n",
    "        print(\"device : \", device)\n",
    "        # Execute the nvidia-smi command using subprocess\n",
    "        try:\n",
    "            output = subprocess.check_output(['nvidia-smi']).decode('utf-8')\n",
    "            print(\"nvidia-smi output:\")\n",
    "            print(output)\n",
    "        except (subprocess.CalledProcessError, FileNotFoundError) as e:\n",
    "            print(\"Error executing nvidia-smi command:\", str(e))\n",
    "    elif torch.backends.mps.is_available() == True:\n",
    "        print(\"Apple device detected\\nActivating Apple Silicon GPU\")\n",
    "        device = torch.device(\"mps\")\n",
    "    else:\n",
    "        print(\"cant use gpu , activating cpu\")\n",
    "        device = 'cpu'\n",
    "\n",
    "    return device\n",
    "device = GPU()\n",
    "device = 'cpu'\n",
    "print(device)"
   ]
  },
  {
   "cell_type": "code",
   "execution_count": 211,
   "metadata": {},
   "outputs": [],
   "source": [
    "# Convert the dataframes into PyTorch tensors\n",
    "X_train_tensor = torch.tensor(X_train.values, dtype=torch.float32).to(device)\n",
    "y_train_tensor = torch.tensor(y_train.values, dtype=torch.float32).view(-1, 1).to(device) # reshape to (n_samples, 1)\n",
    "X_test_tensor = torch.tensor(test_df.values, dtype=torch.float32).to(device)"
   ]
  },
  {
   "cell_type": "code",
   "execution_count": 212,
   "metadata": {},
   "outputs": [],
   "source": [
    "# Split data into training and validation\n",
    "dataset = TensorDataset(X_train_tensor, y_train_tensor)\n",
    "train_size = int(0.8 * len(dataset))\n",
    "val_size = len(dataset) - train_size\n",
    "train_dataset, val_dataset = random_split(dataset, [train_size, val_size])\n"
   ]
  },
  {
   "cell_type": "code",
   "execution_count": 213,
   "metadata": {},
   "outputs": [],
   "source": [
    "# Create data loaders\n",
    "batch_size = 64\n",
    "train_loader = DataLoader(train_dataset, batch_size=batch_size, shuffle=True)\n",
    "val_loader = DataLoader(val_dataset, batch_size=batch_size, shuffle=False)"
   ]
  },
  {
   "cell_type": "code",
   "execution_count": 214,
   "metadata": {},
   "outputs": [],
   "source": [
    "# Define the model architecture\n",
    "model = nn.Sequential(\n",
    "    nn.Linear(X_train_tensor.shape[1], 128),\n",
    "    nn.ReLU(),\n",
    "    nn.Linear(128, 64),\n",
    "    nn.ReLU(),\n",
    "    nn.Linear(64, 1)\n",
    ").to(device) # move the model to the device"
   ]
  },
  {
   "cell_type": "code",
   "execution_count": 215,
   "metadata": {},
   "outputs": [],
   "source": [
    "import torch.nn.functional as F\n",
    "\n",
    "\n",
    "class FFN(nn.Module):\n",
    "    def __init__(self, input_dim):\n",
    "        super(FFN, self).__init__()\n",
    "        \n",
    "        self.layer1 = nn.Linear(input_dim, 256)\n",
    "        self.layer2 = nn.Linear(256, 128)\n",
    "        self.layer3 = nn.Linear(128, 64)\n",
    "        self.layer4 = nn.Linear(64, 32)\n",
    "        self.output_layer = nn.Linear(32, 1)\n",
    "        \n",
    "        self.dropout = nn.Dropout(0.2)\n",
    "        self.batchnorm1 = nn.BatchNorm1d(256)\n",
    "        self.batchnorm2 = nn.BatchNorm1d(128)\n",
    "        self.batchnorm3 = nn.BatchNorm1d(64)\n",
    "        self.batchnorm4 = nn.BatchNorm1d(32)\n",
    "        \n",
    "    def forward(self, x):\n",
    "        x = F.relu(self.batchnorm1(self.layer1(x)))\n",
    "        x = self.dropout(x)\n",
    "        x = F.relu(self.batchnorm2(self.layer2(x)))\n",
    "        x = self.dropout(x)\n",
    "        x = F.relu(self.batchnorm3(self.layer3(x)))\n",
    "        x = self.dropout(x)\n",
    "        x = F.relu(self.batchnorm4(self.layer4(x)))\n",
    "        x = self.dropout(x)\n",
    "        x = self.output_layer(x)\n",
    "        return x\n",
    "model = FFN(X_train_tensor.shape[1]).to(device)"
   ]
  },
  {
   "cell_type": "code",
   "execution_count": 216,
   "metadata": {},
   "outputs": [],
   "source": [
    "# Define the loss function\n",
    "criterion = nn.MSELoss()\n",
    "\n",
    "# Define the optimizer\n",
    "optimizer = optim.Adam(model.parameters(), lr=0.001)"
   ]
  },
  {
   "cell_type": "code",
   "execution_count": 217,
   "metadata": {},
   "outputs": [],
   "source": [
    "# Store losses for plot\n",
    "train_losses = []\n",
    "val_losses = []\n",
    "\n",
    "\n",
    "# Placeholder for best validation loss\n",
    "best_val_loss = float('inf')"
   ]
  },
  {
   "cell_type": "markdown",
   "metadata": {},
   "source": [
    "# Loop\n",
    "\n",
    "1. train\n",
    "2. calculate val loss while torch no grad\n",
    "3. if val loss is smaller , save model\n",
    "4. print train val loss"
   ]
  },
  {
   "cell_type": "code",
   "execution_count": 218,
   "metadata": {},
   "outputs": [
    {
     "name": "stdout",
     "output_type": "stream",
     "text": [
      "Epoch: 1 \tTraining Loss: 23546138.909730 \tValidation Loss: 5963204.885063 \tRemaining Time: 303.48s\n",
      "Validation loss decreased (inf --> 5963204.885063). Saving model ...\n",
      "Epoch: 2 \tTraining Loss: 6447005.410252 \tValidation Loss: 5642971.684215 \tRemaining Time: 274.94s\n",
      "Validation loss decreased (5963204.885063 --> 5642971.684215). Saving model ...\n",
      "Epoch: 3 \tTraining Loss: 6277082.157996 \tValidation Loss: 5574030.597733 \tRemaining Time: 239.30s\n",
      "Validation loss decreased (5642971.684215 --> 5574030.597733). Saving model ...\n",
      "Epoch: 4 \tTraining Loss: 6151766.951047 \tValidation Loss: 5526859.512367 \tRemaining Time: 204.44s\n",
      "Validation loss decreased (5574030.597733 --> 5526859.512367). Saving model ...\n",
      "Epoch: 5 \tTraining Loss: 6039672.686556 \tValidation Loss: 5564565.218740 \tRemaining Time: 172.81s\n",
      "Epoch: 6 \tTraining Loss: 5922771.565764 \tValidation Loss: 5261788.702318 \tRemaining Time: 139.68s\n",
      "Validation loss decreased (5526859.512367 --> 5261788.702318). Saving model ...\n",
      "Epoch: 7 \tTraining Loss: 5839094.290893 \tValidation Loss: 5117983.355354 \tRemaining Time: 104.36s\n",
      "Validation loss decreased (5261788.702318 --> 5117983.355354). Saving model ...\n",
      "Epoch: 8 \tTraining Loss: 5764186.365439 \tValidation Loss: 4951882.642576 \tRemaining Time: 69.99s\n",
      "Validation loss decreased (5117983.355354 --> 4951882.642576). Saving model ...\n"
     ]
    }
   ],
   "source": [
    "import time\n",
    "\n",
    "# Training loop\n",
    "start_time = time.time()  # Start time\n",
    "NB_EPOCH  = 10\n",
    "for epoch in range(NB_EPOCH):\n",
    "    model.train()\n",
    "    train_loss = 0.0\n",
    "    for batch_idx, (data, target) in enumerate(train_loader):\n",
    "        optimizer.zero_grad()\n",
    "        output = model(data)\n",
    "        loss = criterion(output, target)\n",
    "        loss.backward()\n",
    "        optimizer.step()\n",
    "        train_loss += loss.item() * data.size(0)\n",
    "\n",
    "    train_loss = train_loss / len(train_loader.dataset)\n",
    "    train_losses.append(train_loss)\n",
    "\n",
    "    model.eval()\n",
    "    val_loss = 0.0\n",
    "    with torch.no_grad():\n",
    "        for data, target in val_loader:\n",
    "            output = model(data)\n",
    "            loss = criterion(output, target)\n",
    "            val_loss += loss.item() * data.size(0)\n",
    "    val_loss = val_loss / len(val_loader.dataset)\n",
    "    val_losses.append(val_loss)\n",
    "\n",
    "    elapsed_time = time.time() - start_time  # Elapsed time\n",
    "    epochs_done = epoch + 1\n",
    "    epochs_remaining = NB_EPOCH - epochs_done\n",
    "    avg_time_per_epoch = elapsed_time / epochs_done\n",
    "    remaining_time = avg_time_per_epoch * epochs_remaining\n",
    "\n",
    "    print('Epoch: {} \\tTraining Loss: {:.2f} \\tValidation Loss: {:.2f} \\tRemaining Time: {:f}s'.format(epoch + 1, train_loss, val_loss, remaining_time))\n",
    "\n",
    "    if val_loss < best_val_loss:\n",
    "        print('Val loss decreased ({:.1} --> {:.1f}). Saving model'.format(best_val_loss, val_loss))\n",
    "        torch.save(model.state_dict(), 'model.pt')\n",
    "        best_val_loss = val_loss"
   ]
  },
  {
   "cell_type": "code",
   "execution_count": null,
   "metadata": {},
   "outputs": [
    {
     "data": {
      "image/png": "[encoded data removed]",
      "text/plain": [
       "<Figure size 1000x600 with 1 Axes>"
      ]
     },
     "metadata": {},
     "output_type": "display_data"
    }
   ],
   "source": [
    "plt.figure(figsize=(10, 6))\n",
    "plt.plot(train_losses, label='Training loss')\n",
    "plt.plot(val_losses, label='Validation loss')\n",
    "plt.title('Training and Validation Losses')\n",
    "plt.xlabel('Epochs')\n",
    "plt.ylabel('Loss')\n",
    "plt.legend()\n",
    "plt.savefig('loss_graph.png')\n",
    "plt.show()"
   ]
  },
  {
   "cell_type": "code",
   "execution_count": null,
   "metadata": {},
   "outputs": [],
   "source": [
    "# Load the best model\n",
    "model.load_state_dict(torch.load('model.pt'))\n",
    "\n",
    "# Switch model to the evaluation mode\n",
    "model.eval()\n",
    "\n",
    "# Make predictions on the test data\n",
    "with torch.no_grad():\n",
    "    predictions = model(X_test_tensor).numpy()\n",
    "\n",
    "# Create a submission dataframe\n",
    "submission_df = pd.DataFrame({'Id': test_df.index + 1, 'Sales': predictions.flatten()})\n",
    "\n",
    "# Save the submission dataframe as a csv file\n",
    "submission_df.to_csv('sample_submission.csv', index=False)"
   ]
  }
 ],
 "metadata": {
  "kernelspec": {
   "display_name": "torchenv",
   "language": "python",
   "name": "python3"
  },
  "language_info": {
   "codemirror_mode": {
    "name": "ipython",
    "version": 3
   },
   "file_extension": ".py",
   "mimetype": "text/x-python",
   "name": "python",
   "nbconvert_exporter": "python",
   "pygments_lexer": "ipython3",
   "version": "3.11.4"
  },
  "orig_nbformat": 4
 },
 "nbformat": 4,
 "nbformat_minor": 2
}

{
 "cells": [
  {
   "cell_type": "markdown",
   "metadata": {},
   "source": [
    "https://www.kaggle.com/competitions/rossmann-store-sales/data?select=store.csv"
   ]
  },
  {
   "cell_type": "code",
   "execution_count": 1,
   "metadata": {},
   "outputs": [],
   "source": [
    "import numpy as np \n",
    "import pandas as pd\n",
    "import os\n",
    "import scipy.stats as ss\n",
    "import matplotlib.pyplot as plt\n",
    "import sklearn\n",
    "from sklearn.preprocessing import StandardScaler, PowerTransformer\n",
    "from sklearn.model_selection import train_test_split\n",
    "from sklearn.tree import DecisionTreeRegressor\n",
    "from sklearn.metrics import mean_squared_error\n",
    "from sklearn.model_selection import GridSearchCV\n",
    "from scipy.stats import f_oneway\n",
    "import pandas as pd\n",
    "import datetime"
   ]
  },
  {
   "cell_type": "code",
   "execution_count": 2,
   "metadata": {},
   "outputs": [
    {
     "name": "stdout",
     "output_type": "stream",
     "text": [
      "Apple device detected\n",
      "Activating Apple Silicon GPU\n",
      "mps\n"
     ]
    }
   ],
   "source": [
    "\n",
    "import torch\n",
    "import subprocess\n",
    "\n",
    "def GPU():\n",
    "    if torch.cuda.is_available() == True:\n",
    "        device = 'cuda'\n",
    "        templist = [1, 2, 3]\n",
    "        templist = torch.FloatTensor(templist).to(device)\n",
    "        print(\"Cuda torch working : \", end=\"\")\n",
    "        print(templist.is_cuda)\n",
    "        print(\"current device no. : \", end=\"\")\n",
    "        print(torch.cuda.current_device())\n",
    "        print(\"GPU device count : \", end=\"\")\n",
    "        print(torch.cuda.device_count())\n",
    "        print(\"GPU name : \", end=\"\")\n",
    "        print(torch.cuda.get_device_name(0))\n",
    "        print(\"device : \", device)\n",
    "        # Execute the nvidia-smi command using subprocess\n",
    "        try:\n",
    "            output = subprocess.check_output(['nvidia-smi']).decode('utf-8')\n",
    "            print(\"nvidia-smi output:\")\n",
    "            print(output)\n",
    "        except (subprocess.CalledProcessError, FileNotFoundError) as e:\n",
    "            print(\"Error executing nvidia-smi command:\", str(e))\n",
    "    elif torch.backends.mps.is_available() == True:\n",
    "        print(\"Apple device detected\\nActivating Apple Silicon GPU\")\n",
    "        device = torch.device(\"mps\")\n",
    "    else:\n",
    "        print(\"cant use gpu , activating cpu\")\n",
    "        device = 'cpu'\n",
    "\n",
    "    return device\n",
    "device = GPU()\n",
    "print(device)"
   ]
  },
  {
   "cell_type": "code",
   "execution_count": 17,
   "metadata": {},
   "outputs": [
    {
     "name": "stderr",
     "output_type": "stream",
     "text": [
      "/var/folders/sb/2gzn9_qx589_ft0jp8q6nbbc0000gn/T/ipykernel_1456/635303137.py:6: DtypeWarning: Columns (7) have mixed types. Specify dtype option on import or set low_memory=False.\n",
      "  past_sales = pd.read_csv('rossmann.csv')\n"
     ]
    }
   ],
   "source": [
    "# 데이터 불러오기\n",
    "try:\n",
    "    past_sales = pd.read_csv('C:/Users/Administrator/Desktop/딥러닝/rossmann.csv')\n",
    "    store = pd.read_csv('C:/Users/Administrator/Desktop/딥러닝/store.csv')\n",
    "except:\n",
    "    past_sales = pd.read_csv('rossmann.csv')\n",
    "    store = pd.read_csv('store.csv')\n",
    "\n",
    "# 데이터 제거\n",
    "store = store.drop(['CompetitionOpenSinceMonth', 'CompetitionOpenSinceYear', 'Promo2SinceWeek', 'Promo2SinceYear', 'PromoInterval'], axis=1)\n",
    "\n",
    "# 데이터 병합\n",
    "data = pd.merge(left = past_sales,right = store, on = 'Store', how = 'right')\n",
    "\n",
    "# 날짜\n",
    "data['Date'] = pd.to_datetime(data['Date'], format=\"%Y-%m-%d\")\n",
    "data['Month']=pd.DatetimeIndex(data.Date).month\n",
    "data['Day']=pd.DatetimeIndex(data.Date).day\n",
    "data = data.drop(['Date'],axis=1)\n",
    "\n",
    "# 데이터 가공 : StateHoliday\n",
    "data['StateHoliday'] = data['StateHoliday'].replace({0:'d'}) # 0 값은 d로 대체\n",
    "data['StateHoliday'] = data['StateHoliday'].replace({'0':'d'})# 0 값은 d로 대체\n",
    "\n",
    "\n",
    "# 결측값 처리\n",
    "data = data.dropna(axis=0)\n",
    "\n",
    "# store 이름 제거\n",
    "data = data.drop(['Store'],axis=1)\n",
    "\n",
    "# 데이터 분리(수치형, 범주형)\n",
    "digital_cols = ['Sales', 'Customers', 'CompetitionDistance', 'Month', 'Day']\n",
    "digital_data = data[digital_cols]\n",
    "digital_data = pd.DataFrame(digital_data.values, columns = digital_cols)\n",
    "\n",
    "# 표준화\n",
    "scaler = StandardScaler().fit(digital_data)\n",
    "digital_data = pd.DataFrame(scaler.transform(digital_data),index = digital_data.index, columns = digital_cols)\n",
    "\n",
    "categorey_clos = data.columns.drop(digital_cols)\n",
    "categorey_data = data[categorey_clos]\n",
    "categorey_data = pd.DataFrame(categorey_data.values, columns = categorey_clos)\n",
    "\n",
    "# 인코딩\n",
    "onehotencoding_cols = ['StateHoliday', 'StoreType', 'Assortment', 'DayOfWeek']\n",
    "categorey_data = pd.get_dummies(data = categorey_data, columns = onehotencoding_cols)\n",
    "\n",
    "# 데이터 병합\n",
    "data = pd.concat([digital_data, categorey_data], axis = 1)\n",
    "\n",
    "# 형 통일\n",
    "data = data.astype({'Promo2':'int', 'StateHoliday_b':'int', 'StateHoliday_c':'int', 'StateHoliday_d':'int', 'StoreType_a':'int', 'StoreType_b':'int', 'StoreType_c':'int', 'StoreType_d':'int'})\n",
    "data = data.astype({'Assortment_a':'int', 'Assortment_b':'int', 'Assortment_c':'int', 'DayOfWeek_1':'int', 'DayOfWeek_2':'int', 'DayOfWeek_3':'int', 'DayOfWeek_4':'int', 'DayOfWeek_5':'int', 'DayOfWeek_6':'int', 'DayOfWeek_7':'int'})\n",
    "\n",
    "pd.options.display.max_columns = None\n",
    "print(data.head(3))\n",
    "print(past_sales.columns)\n",
    "print(store.columns)"
   ]
  },
  {
   "cell_type": "code",
   "execution_count": 4,
   "metadata": {},
   "outputs": [],
   "source": [
    "target_col = 'Sales'\n",
    "features_cols = data.columns.drop(target_col)\n",
    "features = data[features_cols]\n",
    "target = data[target_col]\n",
    "target = pd.DataFrame(target.values.reshape(-1,1))\n",
    "features = features.values\n",
    "target = target.values"
   ]
  },
  {
   "cell_type": "code",
   "execution_count": 5,
   "metadata": {},
   "outputs": [],
   "source": [
    "# 전체 데이터 중 60%는 학습용 데이터, 20%는 검증용, 20%는 테스트용 데이터 추출\n",
    "x_train, x_test, y_train, y_test = train_test_split(features, target, test_size=0.4, shuffle=True) #60%\n",
    "x_test,x_valid,y_test,y_valid = train_test_split(x_test, y_test, test_size=0.5, shuffle=True) #20%/20%"
   ]
  },
  {
   "cell_type": "code",
   "execution_count": 6,
   "metadata": {},
   "outputs": [],
   "source": [
    "x_train = x_train.astype(np.float32)\n",
    "x_test = x_test.astype(np.float32)\n",
    "x_valid = x_valid.astype(np.float32)\n",
    "y_train = y_train.astype(np.float32)\n",
    "y_test = y_test.astype(np.float32)\n",
    "y_valid = y_valid.astype(np.float32)"
   ]
  },
  {
   "cell_type": "code",
   "execution_count": 7,
   "metadata": {},
   "outputs": [
    {
     "name": "stdout",
     "output_type": "stream",
     "text": [
      "train_data의 row : 608740, column : 26\n",
      "test_data의 row : 202913, column : 26\n",
      "val_data의 row : 202914, column : 26\n"
     ]
    }
   ],
   "source": [
    "print('train_data의 row : %s, column : %s'%(x_train.shape[0],x_train.shape[1]))\n",
    "print('test_data의 row : %s, column : %s'%(x_test.shape[0],x_test.shape[1]))\n",
    "print('val_data의 row : %s, column : %s'%(x_valid.shape[0],x_valid.shape[1]))"
   ]
  },
  {
   "cell_type": "code",
   "execution_count": 8,
   "metadata": {},
   "outputs": [],
   "source": [
    "#Param\n",
    "Batch = 32 #Batch size\n",
    "#드랍아웃\n",
    "DropOut = 0.2 #drop out ratio\n",
    "\n",
    "import torch\n",
    "import torch.nn as nn\n",
    "import torch.optim as optim\n",
    "from torch.utils.data import TensorDataset, DataLoader\n",
    "import time\n",
    "\n",
    "# 데이터를 파이토치 Tensor로 변환하고 DataLoader를 만듭니다.\n",
    "x_train_tensor = torch.from_numpy(x_train).float()\n",
    "y_train_tensor = torch.from_numpy(y_train).float()\n",
    "\n",
    "train_data = TensorDataset(x_train_tensor, y_train_tensor)\n",
    "train_loader = DataLoader(train_data, batch_size=Batch)\n",
    "\n",
    "\n",
    "\n",
    "\n",
    "\n",
    "# Define Model by Class\n",
    "class Model(nn.Module):\n",
    "    def __init__(self):\n",
    "        super(Model, self).__init__()\n",
    "        self.layer1 = nn.Sequential(\n",
    "            nn.Linear(x_train.shape[1], 128),\n",
    "            nn.ReLU(),\n",
    "            nn.Dropout(DropOut),\n",
    "            nn.BatchNorm1d(128)\n",
    "        )\n",
    "        self.layer2 = nn.Sequential(\n",
    "            nn.Linear(128, 128),\n",
    "            nn.ReLU(),\n",
    "            nn.Dropout(DropOut),\n",
    "            nn.BatchNorm1d(128)\n",
    "        )\n",
    "        self.layer3 = nn.Sequential(\n",
    "            nn.Linear(128, 128),\n",
    "            nn.ReLU(),\n",
    "            nn.Dropout(DropOut),\n",
    "            nn.BatchNorm1d(128)\n",
    "        )\n",
    "        self.layer4 = nn.Linear(128, 1)\n",
    "        \n",
    "    def forward(self, x):\n",
    "        x = self.layer1(x)\n",
    "        x = self.layer2(x)\n",
    "        x = self.layer3(x)\n",
    "        x = self.layer4(x)\n",
    "        return x\n",
    "\n",
    "model = Model()"
   ]
  },
  {
   "cell_type": "code",
   "execution_count": 9,
   "metadata": {},
   "outputs": [],
   "source": [
    "# 손실 함수와 옵티마이저를 설정합니다.\n",
    "criterion = nn.MSELoss()\n",
    "optimizer = optim.Adam(model.parameters())"
   ]
  },
  {
   "cell_type": "code",
   "execution_count": 10,
   "metadata": {},
   "outputs": [],
   "source": [
    "from torch.utils.data import TensorDataset, DataLoader\n",
    "\n",
    "# 데이터를 PyTorch의 Tensor 형식으로 변환합니다.\n",
    "x_train = torch.tensor(x_train, dtype=torch.float32)\n",
    "y_train = torch.tensor(y_train, dtype=torch.float32)\n",
    "x_valid = torch.tensor(x_valid, dtype=torch.float32)\n",
    "y_valid = torch.tensor(y_valid, dtype=torch.float32)\n",
    "x_test = torch.tensor(x_test, dtype=torch.float32)\n",
    "y_test = torch.tensor(y_test, dtype=torch.float32)\n",
    "\n",
    "\n",
    "# TensorDataset과 DataLoader를 사용하여 데이터를 관리합니다.\n",
    "train_dataset = TensorDataset(x_train, y_train)\n",
    "val_dataset = TensorDataset(x_valid, y_valid)\n",
    "test_dataset = TensorDataset(x_test, y_test)\n",
    "\n",
    "BATCH = 32\n",
    "\n",
    "train_loader = DataLoader(train_dataset, batch_size=BATCH, shuffle=True)\n",
    "val_loader = DataLoader(val_dataset, batch_size=BATCH, shuffle=False)\n",
    "test_loader = DataLoader(test_dataset, batch_size=BATCH, shuffle=False)"
   ]
  },
  {
   "cell_type": "code",
   "execution_count": 11,
   "metadata": {},
   "outputs": [
    {
     "name": "stdout",
     "output_type": "stream",
     "text": [
      "Epoch 1 / 10, Training Loss: 0.13320281512328777\n",
      "Epoch 1 / 10, Validation Loss: 0.11927718540829219\n",
      "Estimated time left for training: 344.87 seconds\n",
      "Epoch 2 / 10, Training Loss: 0.11747125432271623\n",
      "Epoch 2 / 10, Validation Loss: 0.11420934069261439\n",
      "Estimated time left for training: 304.42 seconds\n",
      "Epoch 3 / 10, Training Loss: 0.11377117098663535\n",
      "Epoch 3 / 10, Validation Loss: 0.11678600690005396\n",
      "Estimated time left for training: 266.98 seconds\n",
      "Epoch 4 / 10, Training Loss: 0.11107746718915083\n",
      "Epoch 4 / 10, Validation Loss: 0.11134292648647606\n",
      "Estimated time left for training: 221.62 seconds\n",
      "Epoch 5 / 10, Training Loss: 0.10999673436823888\n",
      "Epoch 5 / 10, Validation Loss: 0.10772121369630774\n",
      "Estimated time left for training: 186.94 seconds\n",
      "Epoch 6 / 10, Training Loss: 0.10977457886684334\n",
      "Epoch 6 / 10, Validation Loss: 0.10840051332961513\n",
      "Estimated time left for training: 5418.74 seconds\n",
      "Epoch 7 / 10, Training Loss: 0.10954213068374849\n",
      "Epoch 7 / 10, Validation Loss: 0.10733505973439089\n",
      "Estimated time left for training: 1787.73 seconds\n",
      "Epoch 8 / 10, Training Loss: 0.10914067502176238\n",
      "Epoch 8 / 10, Validation Loss: 0.10861873843342075\n",
      "Estimated time left for training: 74.79 seconds\n",
      "Epoch 9 / 10, Training Loss: 0.10868954239471888\n",
      "Epoch 9 / 10, Validation Loss: 0.10704281913173552\n",
      "Estimated time left for training: 36.45 seconds\n",
      "Epoch 10 / 10, Training Loss: 0.10851961045206389\n",
      "Epoch 10 / 10, Validation Loss: 0.10694066832827134\n",
      "Estimated time left for training: 0.00 seconds\n",
      "Total elapsed time for training: 2251.92 seconds\n"
     ]
    }
   ],
   "source": [
    "NB_EPOCH = 10\n",
    "\n",
    "import time\n",
    "\n",
    "start = time.time()\n",
    "\n",
    "train_losses = []\n",
    "val_losses = []\n",
    "\n",
    "for epoch in range(NB_EPOCH):\n",
    "    epoch_start = time.time()\n",
    "\n",
    "    # Training\n",
    "    total_train_loss = 0.0\n",
    "    num_train_batches = 0\n",
    "    for i, data in enumerate(train_loader, 0):\n",
    "        inputs, labels = data\n",
    "        optimizer.zero_grad()\n",
    "\n",
    "        outputs = model(inputs)\n",
    "        loss = criterion(outputs, labels)\n",
    "        loss.backward()\n",
    "        optimizer.step()\n",
    "\n",
    "        total_train_loss += loss.item()\n",
    "        num_train_batches += 1\n",
    "        \n",
    "    avg_train_loss = total_train_loss / num_train_batches\n",
    "    print(f'Epoch {epoch+1} / {NB_EPOCH}, Training Loss: {avg_train_loss}')\n",
    "    train_losses.append(avg_train_loss)\n",
    "\n",
    "    # Validation\n",
    "    with torch.no_grad():\n",
    "        total_val_loss = 0.0\n",
    "        num_val_batches = 0\n",
    "        for i, data in enumerate(val_loader, 0):\n",
    "            inputs, labels = data\n",
    "            outputs = model(inputs)\n",
    "            loss = criterion(outputs, labels)\n",
    "\n",
    "            total_val_loss += loss.item()\n",
    "            num_val_batches += 1\n",
    "\n",
    "        avg_val_loss = total_val_loss / num_val_batches\n",
    "        print(f'Epoch {epoch+1} / {NB_EPOCH}, Validation Loss: {avg_val_loss}')\n",
    "        val_losses.append(avg_val_loss)\n",
    "\n",
    "    epoch_end = time.time()\n",
    "    elapsed_time = epoch_end - epoch_start\n",
    "    remaining_time = (NB_EPOCH - epoch - 1) * elapsed_time\n",
    "    print('Estimated time left for training: {:.2f} seconds'.format(remaining_time))\n",
    "\n",
    "end = time.time()\n",
    "print(\"Total elapsed time for training: {:.2f} seconds\".format(end - start))\n"
   ]
  },
  {
   "cell_type": "code",
   "execution_count": 14,
   "metadata": {},
   "outputs": [],
   "source": [
    "torch.save(model.state_dict(), 'store_model.pth')"
   ]
  },
  {
   "cell_type": "code",
   "execution_count": 15,
   "metadata": {},
   "outputs": [
    {
     "data": {
      "image/png": "[encoded data removed]",
      "text/plain": [
       "<Figure size 640x480 with 1 Axes>"
      ]
     },
     "metadata": {},
     "output_type": "display_data"
    }
   ],
   "source": [
    "import matplotlib.pyplot as plt\n",
    "\n",
    "plt.plot(train_losses, label='Training Loss')\n",
    "plt.plot(val_losses, label='Validation Loss')\n",
    "plt.title('Training and Validation Loss')\n",
    "plt.xlabel('Epochs')\n",
    "plt.ylabel('Loss')\n",
    "plt.legend()\n",
    "\n",
    "plt.grid(True, linestyle='-', alpha=0.5)\n",
    "\n",
    "# 그래프를 파일로 저장합니다.\n",
    "plt.savefig('loss_plot.png')\n",
    "\n",
    "plt.show()\n"
   ]
  },
  {
   "cell_type": "code",
   "execution_count": 13,
   "metadata": {},
   "outputs": [
    {
     "ename": "NameError",
     "evalue": "name 'tf' is not defined",
     "output_type": "error",
     "traceback": [
      "\u001b[0;31m---------------------------------------------------------------------------\u001b[0m",
      "\u001b[0;31mNameError\u001b[0m                                 Traceback (most recent call last)",
      "Cell \u001b[0;32mIn[13], line 1\u001b[0m\n\u001b[0;32m----> 1\u001b[0m model \u001b[39m=\u001b[39m tf\u001b[39m.\u001b[39mkeras\u001b[39m.\u001b[39mSequential()\n\u001b[1;32m      2\u001b[0m model\u001b[39m.\u001b[39madd(tf\u001b[39m.\u001b[39mkeras\u001b[39m.\u001b[39mlayers\u001b[39m.\u001b[39mDense(\u001b[39m256\u001b[39m,input_dim \u001b[39m=\u001b[39m x_train\u001b[39m.\u001b[39mshape[\u001b[39m1\u001b[39m],activation\u001b[39m=\u001b[39m\u001b[39m'\u001b[39m\u001b[39mrelu\u001b[39m\u001b[39m'\u001b[39m))\n\u001b[1;32m      3\u001b[0m model\u001b[39m.\u001b[39madd(tf\u001b[39m.\u001b[39mkeras\u001b[39m.\u001b[39mlayers\u001b[39m.\u001b[39mDropout(\u001b[39m0.2\u001b[39m))\n",
      "\u001b[0;31mNameError\u001b[0m: name 'tf' is not defined"
     ]
    }
   ],
   "source": [
    "model = tf.keras.Sequential()\n",
    "model.add(tf.keras.layers.Dense(256,input_dim = x_train.shape[1],activation='relu'))\n",
    "model.add(tf.keras.layers.Dropout(0.2))\n",
    "model.add(tf.keras.layers.BatchNormalization())\n",
    "\n",
    "model.add(tf.keras.layers.Dense(128,activation = 'relu'))\n",
    "model.add(tf.keras.layers.Dropout(0.2))\n",
    "model.add(tf.keras.layers.BatchNormalization())\n",
    "\n",
    "model.add(tf.keras.layers.Dense(128,activation = 'relu'))\n",
    "model.add(tf.keras.layers.Dropout(0.2))\n",
    "model.add(tf.keras.layers.BatchNormalization())\n",
    "\n",
    "model.add(tf.keras.layers.Dense(1))\n",
    "\n",
    "model.compile(optimizer='adam',\n",
    "loss='mae',\n",
    "metrics=['mean_absolute_error'])\n",
    "\n",
    "model_path = 'C:/project/rossmann-store-sales'\n",
    "checkpoint = tf.keras.callbacks.ModelCheckpoint(filepath=model_path , monitor='val_mean_absolute_error', verbose=1, save_best_only=True)\n",
    "early_stopping = EarlyStopping(monitor='val_mean_absolute_error', patience=10, mode='auto')\n",
    "\n",
    "history = model.fit(x_train, y_train,\n",
    "validation_data=(x_valid, y_valid),\n",
    "batch_size=64,\n",
    "epochs=50,\n",
    "callbacks=[checkpoint, early_stopping])\n",
    "print(\"\\n test accuracy: %.4f\" %(model.evaluate(x_test, y_test)[1]))"
   ]
  },
  {
   "cell_type": "code",
   "execution_count": null,
   "metadata": {},
   "outputs": [
    {
     "data": {
      "image/png": "[encoded data removed]",
      "text/plain": [
       "<Figure size 640x480 with 1 Axes>"
      ]
     },
     "metadata": {},
     "output_type": "display_data"
    },
    {
     "name": "stdout",
     "output_type": "stream",
     "text": [
      "6342/6342 [==============================] - 3s 511us/step - loss: 0.2168 - mean_absolute_error: 0.2168\n",
      "\n",
      " test accuracy: 0.2168\n"
     ]
    }
   ],
   "source": [
    "plt.plot(history.history['loss'], label='Training Loss')\n",
    "plt.plot(history.history['val_loss'], label='Validation Loss')\n",
    "plt.title('Training and Validation Loss')\n",
    "plt.xlabel('Epochs')\n",
    "plt.ylabel('Loss=MAE')\n",
    "plt.legend()\n",
    "\n",
    "# 그리드 추가\n",
    "plt.grid(True, linestyle='-', alpha=0.5)\n",
    "\n",
    "plt.show()\n",
    "print(\"\\n test accuracy: %.4f\" %(model.evaluate(x_test, y_test)[1]))"
   ]
  }
 ],
 "metadata": {
  "kernelspec": {
   "display_name": "changho",
   "language": "python",
   "name": "python3"
  },
  "language_info": {
   "codemirror_mode": {
    "name": "ipython",
    "version": 3
   },
   "file_extension": ".py",
   "mimetype": "text/x-python",
   "name": "python",
   "nbconvert_exporter": "python",
   "pygments_lexer": "ipython3",
   "version": "3.11.4"
  },
  "orig_nbformat": 4
 },
 "nbformat": 4,
 "nbformat_minor": 2
}

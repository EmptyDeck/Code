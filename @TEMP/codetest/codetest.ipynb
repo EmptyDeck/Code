{
 "cells": [
  {
   "cell_type": "code",
   "execution_count": 79,
   "metadata": {},
   "outputs": [],
   "source": [
    "def solution(players, callings):\n",
    "    for df in callings:\n",
    "        num = players.index(df)\n",
    "        temp = players[num]\n",
    "        players[num] = players[num-1]\n",
    "        players[num-1] = temp\n",
    "    return players"
   ]
  },
  {
   "cell_type": "code",
   "execution_count": 80,
   "metadata": {},
   "outputs": [],
   "source": [
    "def solution(players, callings):\n",
    "    dic = {ath:i for i, ath in enumerate(players)}\n",
    "    dic[\"kai\"]\n",
    "    print(dic)\n",
    "    return players"
   ]
  },
  {
   "cell_type": "code",
   "execution_count": 81,
   "metadata": {},
   "outputs": [
    {
     "data": {
      "text/plain": [
       "2"
      ]
     },
     "execution_count": 81,
     "metadata": {},
     "output_type": "execute_result"
    }
   ],
   "source": [
    "players = [\"mumu\", \"soe\", \"poe\", \"kai\", \"mine\"]\n",
    "dic1 = {ath:i for i, ath in enumerate(players)}\n",
    "dic2 = {i:ath for i, ath in enumerate(players)}\n",
    "\n",
    "\n",
    "dic1[\"kai\"] = dic1[\"kai\"]  -1\n",
    "dic1[\"kai\"]"
   ]
  },
  {
   "cell_type": "code",
   "execution_count": 82,
   "metadata": {},
   "outputs": [
    {
     "data": {
      "text/plain": [
       "'poe'"
      ]
     },
     "execution_count": 82,
     "metadata": {},
     "output_type": "execute_result"
    }
   ],
   "source": [
    "dic2[dic1[\"kai\"]]"
   ]
  },
  {
   "cell_type": "code",
   "execution_count": 83,
   "metadata": {},
   "outputs": [
    {
     "data": {
      "text/plain": [
       "3"
      ]
     },
     "execution_count": 83,
     "metadata": {},
     "output_type": "execute_result"
    }
   ],
   "source": [
    "dic1[dic2[dic1[\"kai\"]]] = dic1[\"kai\"] + 1\n",
    "dic1[\"poe\"]"
   ]
  },
  {
   "cell_type": "code",
   "execution_count": 84,
   "metadata": {},
   "outputs": [
    {
     "data": {
      "text/plain": [
       "['mumu', 'soe', 'poe', 'kai', 'mine']"
      ]
     },
     "execution_count": 84,
     "metadata": {},
     "output_type": "execute_result"
    }
   ],
   "source": [
    "callings = [\"kai\", \"kai\", \"mine\", \"mine\"]\n",
    "for i in callings:\n",
    "    dic1[i] = dic1[i] - 1\n",
    "    dic1[dic2[dic1[i]]] = dic1[i] + 1\n",
    "list(dic1.keys())"
   ]
  },
  {
   "cell_type": "code",
   "execution_count": 85,
   "metadata": {},
   "outputs": [
    {
     "name": "stdout",
     "output_type": "stream",
     "text": [
      "{'mumu': 0, 'soe': 1, 'poe': 2, 'kai': 3, 'mine': 4}\n"
     ]
    },
    {
     "data": {
      "text/plain": [
       "['mumu', 'soe', 'poe', 'kai', 'mine']"
      ]
     },
     "execution_count": 85,
     "metadata": {},
     "output_type": "execute_result"
    }
   ],
   "source": [
    "solution([\"mumu\", \"soe\", \"poe\", \"kai\", \"mine\"]\t,[\"kai\", \"kai\", \"mine\", \"mine\"]\t)\n",
    "#[\"mumu\", \"kai\", \"mine\", \"soe\", \"poe\"]"
   ]
  },
  {
   "cell_type": "code",
   "execution_count": 123,
   "metadata": {},
   "outputs": [],
   "source": [
    "def solution(players, callings):\n",
    "    dic1 = {ath:i for i, ath in enumerate(players)}\n",
    "    dic2 = {i:ath for i, ath in enumerate(players)}\n",
    "    for i in callings:\n",
    "        dic1[i] = dic1[i] - 1\n",
    "        dic1[dic2[dic1[i]]] = dic1[i] + 1\n",
    "        dic2[dic1[i]+1] = dic2[dic1[i]]\n",
    "        dic2[dic1[i]] = i\n",
    "    return [dic2.get(i) for i in range(len(players))]\n"
   ]
  },
  {
   "cell_type": "code",
   "execution_count": 124,
   "metadata": {},
   "outputs": [
    {
     "name": "stdout",
     "output_type": "stream",
     "text": [
      "{'mumu': 0, 'soe': 1, 'poe': 2, 'kai': 3, 'mine': 4}\n",
      "{'mumu': 0, 'soe': 3, 'poe': 4, 'kai': 1, 'mine': 2}\n",
      "mine\n"
     ]
    },
    {
     "data": {
      "text/plain": [
       "['mumu', 'kai', 'mine', 'soe', 'poe']"
      ]
     },
     "execution_count": 124,
     "metadata": {},
     "output_type": "execute_result"
    }
   ],
   "source": [
    "solution([\"mumu\", \"soe\", \"poe\", \"kai\", \"mine\"]\t,[\"kai\", \"kai\", \"mine\", \"mine\"])"
   ]
  },
  {
   "cell_type": "code",
   "execution_count": 1,
   "metadata": {},
   "outputs": [
    {
     "data": {
      "text/plain": [
       "1"
      ]
     },
     "execution_count": 1,
     "metadata": {},
     "output_type": "execute_result"
    }
   ],
   "source": [
    "1081%10"
   ]
  },
  {
   "cell_type": "code",
   "execution_count": 3,
   "metadata": {},
   "outputs": [
    {
     "data": {
      "text/plain": [
       "108"
      ]
     },
     "execution_count": 3,
     "metadata": {},
     "output_type": "execute_result"
    }
   ],
   "source": [
    "1081//10"
   ]
  },
  {
   "cell_type": "code",
   "execution_count": 15,
   "metadata": {},
   "outputs": [],
   "source": [
    "def cupon(num):\n",
    "    return num//10 , num%10\n",
    "def solution(chicken):\n",
    "    answer = 0\n",
    "    while(1):\n",
    "        if chicken >= 10:\n",
    "            chicken , coup = cupon(chicken)\n",
    "            answer = answer + chicken\n",
    "            chicken = chicken + coup     \n",
    "        else:\n",
    "            break\n",
    "    return answer"
   ]
  },
  {
   "cell_type": "code",
   "execution_count": 16,
   "metadata": {},
   "outputs": [
    {
     "data": {
      "text/plain": [
       "11"
      ]
     },
     "execution_count": 16,
     "metadata": {},
     "output_type": "execute_result"
    }
   ],
   "source": [
    "solution(100)"
   ]
  }
 ],
 "metadata": {
  "kernelspec": {
   "display_name": "torchenv",
   "language": "python",
   "name": "python3"
  },
  "language_info": {
   "codemirror_mode": {
    "name": "ipython",
    "version": 3
   },
   "file_extension": ".py",
   "mimetype": "text/x-python",
   "name": "python",
   "nbconvert_exporter": "python",
   "pygments_lexer": "ipython3",
   "version": "3.11.4"
  }
 },
 "nbformat": 4,
 "nbformat_minor": 2
}

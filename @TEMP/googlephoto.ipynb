{
 "cells": [
  {
   "cell_type": "markdown",
   "metadata": {},
   "source": [
    "# GOOGLE PHOTO"
   ]
  },
  {
   "cell_type": "code",
   "execution_count": 1,
   "metadata": {},
   "outputs": [
    {
     "ename": "ValueError",
     "evalue": "지정된 경로에 Takeout* 폴더가 존재하지 않습니다!",
     "output_type": "error",
     "traceback": [
      "\u001b[0;31m---------------------------------------------------------------------------\u001b[0m",
      "\u001b[0;31mValueError\u001b[0m                                Traceback (most recent call last)",
      "\u001b[1;32m/Users/owo/HOUSE/@Code/@TEMP/googlephoto.ipynb 셀 2\u001b[0m line \u001b[0;36m2\n\u001b[1;32m     <a href='vscode-notebook-cell:/Users/owo/HOUSE/%40Code/%40TEMP/googlephoto.ipynb#W1sZmlsZQ%3D%3D?line=16'>17</a>\u001b[0m takeout_folders \u001b[39m=\u001b[39m [folder \u001b[39mfor\u001b[39;00m folder \u001b[39min\u001b[39;00m os\u001b[39m.\u001b[39mlistdir(base_path) \u001b[39mif\u001b[39;00m folder\u001b[39m.\u001b[39mstartswith(\u001b[39m'\u001b[39m\u001b[39mTakeout\u001b[39m\u001b[39m'\u001b[39m)]\n\u001b[1;32m     <a href='vscode-notebook-cell:/Users/owo/HOUSE/%40Code/%40TEMP/googlephoto.ipynb#W1sZmlsZQ%3D%3D?line=18'>19</a>\u001b[0m \u001b[39mif\u001b[39;00m \u001b[39mnot\u001b[39;00m takeout_folders:\n\u001b[0;32m---> <a href='vscode-notebook-cell:/Users/owo/HOUSE/%40Code/%40TEMP/googlephoto.ipynb#W1sZmlsZQ%3D%3D?line=19'>20</a>\u001b[0m     \u001b[39mraise\u001b[39;00m \u001b[39mValueError\u001b[39;00m(\u001b[39m\"\u001b[39m\u001b[39m지정된 경로에 Takeout* 폴더가 존재하지 않습니다!\u001b[39m\u001b[39m\"\u001b[39m)\n\u001b[1;32m     <a href='vscode-notebook-cell:/Users/owo/HOUSE/%40Code/%40TEMP/googlephoto.ipynb#W1sZmlsZQ%3D%3D?line=21'>22</a>\u001b[0m \u001b[39mprint\u001b[39m(\u001b[39mf\u001b[39m\u001b[39m\"\u001b[39m\u001b[39m{\u001b[39;00m\u001b[39mlen\u001b[39m(takeout_folders)\u001b[39m}\u001b[39;00m\u001b[39m개의 Takeout* 폴더를 찾았습니다.\u001b[39m\u001b[39m\"\u001b[39m)\n\u001b[1;32m     <a href='vscode-notebook-cell:/Users/owo/HOUSE/%40Code/%40TEMP/googlephoto.ipynb#W1sZmlsZQ%3D%3D?line=23'>24</a>\u001b[0m \u001b[39m# 사용자에게 진행 여부를 확인\u001b[39;00m\n",
      "\u001b[0;31mValueError\u001b[0m: 지정된 경로에 Takeout* 폴더가 존재하지 않습니다!"
     ]
    }
   ],
   "source": [
    "import os\n",
    "import shutil\n",
    "from pathlib import Path\n",
    "\n",
    "base_path = './'  # 현재 작업 경로를 기준으로 하겠습니다. 필요에 따라 수정 가능합니다.\n",
    "merged_path = os.path.join(base_path, 'MERGED')\n",
    "\n",
    "# base_path의 존재 여부 확인\n",
    "if not os.path.exists(base_path):\n",
    "    raise ValueError(f\"지정된 base_path({base_path})가 존재하지 않습니다!\")\n",
    "\n",
    "# MERGED 폴더가 없다면 생성\n",
    "if not os.path.exists(merged_path):\n",
    "    os.makedirs(merged_path)\n",
    "\n",
    "# Takeout* 폴더들의 목록을 구하기\n",
    "takeout_folders = [folder for folder in os.listdir(base_path) if folder.startswith('Takeout')]\n",
    "\n",
    "if not takeout_folders:\n",
    "    raise ValueError(\"지정된 경로에 Takeout* 폴더가 존재하지 않습니다!\")\n",
    "\n",
    "print(f\"{len(takeout_folders)}개의 Takeout* 폴더를 찾았습니다.\")\n",
    "\n",
    "# 사용자에게 진행 여부를 확인\n",
    "proceed = input(\"진행하시겠습니까? y/n: \").lower()\n",
    "if proceed != 'y':\n",
    "    print(\"작업을 중단합니다.\")\n",
    "    exit()\n",
    "\n",
    "# 통계를 위한 변수들\n",
    "total_folders_moved = 0\n",
    "total_files_moved = 0\n",
    "total_files_skipped = 0\n",
    "total_size_moved = 0  # 바이트 단위\n",
    "\n",
    "for takeout in takeout_folders:\n",
    "    src_folder = os.path.join(base_path, takeout, 'Google 포토')\n",
    "    \n",
    "    # 폴더가 존재하는 경우만 처리\n",
    "    if os.path.exists(src_folder):\n",
    "        # 폴더 내부의 하위 폴더들\n",
    "        for folder in os.listdir(src_folder):\n",
    "            src_subfolder = os.path.join(src_folder, folder)\n",
    "            dest_subfolder = os.path.join(merged_path, folder)\n",
    "            \n",
    "            # 목적지 폴더가 없다면 생성\n",
    "            if not os.path.exists(dest_subfolder):\n",
    "                os.makedirs(dest_subfolder)\n",
    "                total_folders_moved += 1\n",
    "            \n",
    "            # 파일들을 생성날짜 기준으로 정렬하여 이동\n",
    "            files = sorted(Path(src_subfolder).glob('*'), key=os.path.getctime)\n",
    "            for file in files:\n",
    "                dest_file = os.path.join(dest_subfolder, file.name)\n",
    "                if not os.path.exists(dest_file):\n",
    "                    total_size_moved += file.stat().st_size  # 파일 크기 추가\n",
    "                    shutil.move(str(file), dest_subfolder)\n",
    "                    total_files_moved += 1\n",
    "                else:\n",
    "                    total_files_skipped += 1\n",
    "\n",
    "print(f\"총 {total_folders_moved}개의 폴더를 이동했습니다.\")\n",
    "print(f\"총 {total_files_moved}개의 파일을 이동했습니다.\")\n",
    "print(f\"총 {total_files_skipped}개의 파일이 중복되어 이동되지 않았습니다.\")\n",
    "print(f\"총 {total_size_moved / (1024 * 1024):.2f}MB를 이동했습니다.\")\n",
    "print(\"모든 파일 병합이 완료되었습니다!\")\n"
   ]
  },
  {
   "cell_type": "code",
   "execution_count": 2,
   "metadata": {},
   "outputs": [
    {
     "name": "stdout",
     "output_type": "stream",
     "text": [
      "5개의 Takeout* 폴더를 찾았습니다.\n",
      "모든 파일 병합이 완료되었습니다!\n"
     ]
    }
   ],
   "source": [
    "import os\n",
    "import shutil\n",
    "from pathlib import Path\n",
    "\n",
    "base_path = '../../{temp}/test'\n",
    "\n",
    "merged_path = os.path.join(base_path, 'MERGED')\n",
    "\n",
    "# base_path의 존재 여부 확인\n",
    "if not os.path.exists(base_path):\n",
    "    raise ValueError(f\"지정된 base_path({base_path})가 존재하지 않습니다!\")\n",
    "\n",
    "# MERGED 폴더가 없다면 생성\n",
    "if not os.path.exists(merged_path):\n",
    "    os.makedirs(merged_path)\n",
    "\n",
    "# Takeout* 폴더들의 목록을 구하기\n",
    "takeout_folders = [folder for folder in os.listdir(base_path) if folder.startswith('Takeout')]\n",
    "\n",
    "if not takeout_folders:\n",
    "    raise ValueError(\"지정된 경로에 Takeout* 폴더가 존재하지 않습니다!\")\n",
    "\n",
    "print(f\"{len(takeout_folders)}개의 Takeout* 폴더를 찾았습니다.\")\n",
    "\n",
    "for takeout in takeout_folders:\n",
    "    src_folder = os.path.join(base_path, takeout, 'Google 포토')\n",
    "    \n",
    "    # 폴더가 존재하는 경우만 처리\n",
    "    if os.path.exists(src_folder):\n",
    "        # 폴더 내부의 하위 폴더들\n",
    "        for folder in os.listdir(src_folder):\n",
    "            src_subfolder = os.path.join(src_folder, folder)\n",
    "            dest_subfolder = os.path.join(merged_path, folder)\n",
    "            \n",
    "            # 목적지 폴더가 없다면 생성\n",
    "            if not os.path.exists(dest_subfolder):\n",
    "                os.makedirs(dest_subfolder)\n",
    "            \n",
    "            # 파일들을 생성날짜 기준으로 정렬하여 이동\n",
    "            files = sorted(Path(src_subfolder).glob('*'), key=os.path.getctime)\n",
    "            for file in files:\n",
    "                dest_file = os.path.join(dest_subfolder, file.name)\n",
    "                if not os.path.exists(dest_file):\n",
    "                    shutil.move(str(file), dest_subfolder)\n",
    "\n",
    "print(\"모든 파일 병합이 완료되었습니다!\")\n"
   ]
  }
 ],
 "metadata": {
  "kernelspec": {
   "display_name": "torchenv",
   "language": "python",
   "name": "python3"
  },
  "language_info": {
   "codemirror_mode": {
    "name": "ipython",
    "version": 3
   },
   "file_extension": ".py",
   "mimetype": "text/x-python",
   "name": "python",
   "nbconvert_exporter": "python",
   "pygments_lexer": "ipython3",
   "version": "3.11.4"
  },
  "orig_nbformat": 4
 },
 "nbformat": 4,
 "nbformat_minor": 2
}
